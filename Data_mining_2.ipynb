{
  "nbformat": 4,
  "nbformat_minor": 0,
  "metadata": {
    "colab": {
      "name": "Data mining.ipynb",
      "provenance": [],
      "collapsed_sections": []
    },
    "kernelspec": {
      "name": "python3",
      "display_name": "Python 3"
    },
    "language_info": {
      "name": "python"
    }
  },
  "cells": [
    {
      "cell_type": "markdown",
      "metadata": {
        "id": "flj7QVctnHpA"
      },
      "source": [
        "***This work for both homework 3 and homework 4***\n",
        "\n",
        "**the first part is homework 3 which starts here**"
      ]
    },
    {
      "cell_type": "code",
      "metadata": {
        "id": "RQ7yJcRXR01a"
      },
      "source": [
        "import numpy as np\n",
        "import pandas as pd\n",
        "import seaborn as sn\n",
        "from sklearn import metrics\n",
        "import matplotlib.pyplot as plt\n",
        "%matplotlib inline\n",
        "from sklearn.datasets import make_classification"
      ],
      "execution_count": 444,
      "outputs": []
    },
    {
      "cell_type": "markdown",
      "metadata": {
        "id": "T1LTI4NW54sT"
      },
      "source": [
        "CS 522 Data Mining Programming Assignment\n",
        "\n",
        "1. Which colors of the vehicles are more likely to get involved in a traffic violation?\n",
        "\n",
        "\n",
        "From the dataset BLACK was the most color that get involved in a traffic violation\n",
        "\n",
        "\n",
        "2. Which models of the car are more likely to get involved in a traffic viola- tion?\n",
        "\n",
        "From the dataset 4S was the most model that get involved in a traffic violation\n",
        "\n",
        "The data was from this link https://www.kaggle.com/rounak041993/traffic-violations-in-maryland-county\n",
        "\n"
      ]
    },
    {
      "cell_type": "markdown",
      "metadata": {
        "id": "6PXprOw_75E5"
      },
      "source": [
        "There was some missing information in the dataset, so I started by dropping all the missing values. Then I tried to see what was interesting about this data. The data was about Maryland Traffic Violations, so most violations were from MD. The second state was VA, then DC. SILVER SPRING was the highest city of Violations then GAITHERSBURG and ROCKVILLE respectively. \n",
        "\n",
        "When I was looking for the years, first, I had to change the format, then I realized many values were incorrect. However, most of the violations go to the owners of 2003 - 2007, and the largest go to what was made in 2006. "
      ]
    },
    {
      "cell_type": "code",
      "metadata": {
        "id": "10W6flZjSzWI"
      },
      "source": [
        ""
      ],
      "execution_count": 444,
      "outputs": []
    },
    {
      "cell_type": "code",
      "metadata": {
        "id": "fD5b7k-WSzb0"
      },
      "source": [
        "Traffic_Violations = pd.read_csv('/content/drive/MyDrive/Data mining/Traffic_Violations.csv', low_memory= False)"
      ],
      "execution_count": 445,
      "outputs": []
    },
    {
      "cell_type": "code",
      "metadata": {
        "colab": {
          "base_uri": "https://localhost:8080/",
          "height": 623
        },
        "id": "HcFZ625vSzik",
        "outputId": "15a608fe-e645-45a4-c6a6-b54ec96d24c2"
      },
      "source": [
        "Traffic_Violations.tail(8)\n"
      ],
      "execution_count": 446,
      "outputs": [
        {
          "output_type": "execute_result",
          "data": {
            "text/html": [
              "<div>\n",
              "<style scoped>\n",
              "    .dataframe tbody tr th:only-of-type {\n",
              "        vertical-align: middle;\n",
              "    }\n",
              "\n",
              "    .dataframe tbody tr th {\n",
              "        vertical-align: top;\n",
              "    }\n",
              "\n",
              "    .dataframe thead th {\n",
              "        text-align: right;\n",
              "    }\n",
              "</style>\n",
              "<table border=\"1\" class=\"dataframe\">\n",
              "  <thead>\n",
              "    <tr style=\"text-align: right;\">\n",
              "      <th></th>\n",
              "      <th>Date Of Stop</th>\n",
              "      <th>Time Of Stop</th>\n",
              "      <th>Agency</th>\n",
              "      <th>SubAgency</th>\n",
              "      <th>Description</th>\n",
              "      <th>Location</th>\n",
              "      <th>Latitude</th>\n",
              "      <th>Longitude</th>\n",
              "      <th>Accident</th>\n",
              "      <th>Belts</th>\n",
              "      <th>Personal Injury</th>\n",
              "      <th>Property Damage</th>\n",
              "      <th>Fatal</th>\n",
              "      <th>Commercial License</th>\n",
              "      <th>HAZMAT</th>\n",
              "      <th>Commercial Vehicle</th>\n",
              "      <th>Alcohol</th>\n",
              "      <th>Work Zone</th>\n",
              "      <th>State</th>\n",
              "      <th>VehicleType</th>\n",
              "      <th>Year</th>\n",
              "      <th>Make</th>\n",
              "      <th>Model</th>\n",
              "      <th>Color</th>\n",
              "      <th>Violation Type</th>\n",
              "      <th>Charge</th>\n",
              "      <th>Article</th>\n",
              "      <th>Contributed To Accident</th>\n",
              "      <th>Race</th>\n",
              "      <th>Gender</th>\n",
              "      <th>Driver City</th>\n",
              "      <th>Driver State</th>\n",
              "      <th>DL State</th>\n",
              "      <th>Arrest Type</th>\n",
              "      <th>Geolocation</th>\n",
              "    </tr>\n",
              "  </thead>\n",
              "  <tbody>\n",
              "    <tr>\n",
              "      <th>1292391</th>\n",
              "      <td>12/14/2012</td>\n",
              "      <td>23:20:00</td>\n",
              "      <td>MCP</td>\n",
              "      <td>Headquarters and Special Operations</td>\n",
              "      <td>Stop Lights</td>\n",
              "      <td>MD 355/ PROFESSIONAL DR</td>\n",
              "      <td>39.162066</td>\n",
              "      <td>-77.224062</td>\n",
              "      <td>No</td>\n",
              "      <td>No</td>\n",
              "      <td>No</td>\n",
              "      <td>No</td>\n",
              "      <td>No</td>\n",
              "      <td>No</td>\n",
              "      <td>No</td>\n",
              "      <td>No</td>\n",
              "      <td>No</td>\n",
              "      <td>No</td>\n",
              "      <td>MD</td>\n",
              "      <td>05 - Light Duty Truck</td>\n",
              "      <td>2001.0</td>\n",
              "      <td>FORD</td>\n",
              "      <td>EXPLORER</td>\n",
              "      <td>WHITE</td>\n",
              "      <td>ESERO</td>\n",
              "      <td>64*</td>\n",
              "      <td>NaN</td>\n",
              "      <td>No</td>\n",
              "      <td>BLACK</td>\n",
              "      <td>M</td>\n",
              "      <td>HYATTSVILLE</td>\n",
              "      <td>MD</td>\n",
              "      <td>MD</td>\n",
              "      <td>B - Unmarked Patrol</td>\n",
              "      <td>(39.1620661, -77.2240618666667)</td>\n",
              "    </tr>\n",
              "    <tr>\n",
              "      <th>1292392</th>\n",
              "      <td>12/14/2012</td>\n",
              "      <td>23:33:00</td>\n",
              "      <td>MCP</td>\n",
              "      <td>Headquarters and Special Operations</td>\n",
              "      <td>Tag Lights</td>\n",
              "      <td>MVA/ RUSSELL AVE</td>\n",
              "      <td>39.154323</td>\n",
              "      <td>-77.209751</td>\n",
              "      <td>No</td>\n",
              "      <td>No</td>\n",
              "      <td>No</td>\n",
              "      <td>No</td>\n",
              "      <td>No</td>\n",
              "      <td>No</td>\n",
              "      <td>No</td>\n",
              "      <td>No</td>\n",
              "      <td>No</td>\n",
              "      <td>No</td>\n",
              "      <td>MD</td>\n",
              "      <td>05 - Light Duty Truck</td>\n",
              "      <td>2005.0</td>\n",
              "      <td>INFI</td>\n",
              "      <td>FX35</td>\n",
              "      <td>BLACK</td>\n",
              "      <td>ESERO</td>\n",
              "      <td>65*</td>\n",
              "      <td>NaN</td>\n",
              "      <td>No</td>\n",
              "      <td>BLACK</td>\n",
              "      <td>F</td>\n",
              "      <td>SILVER SPRING</td>\n",
              "      <td>MD</td>\n",
              "      <td>MD</td>\n",
              "      <td>A - Marked Patrol</td>\n",
              "      <td>(39.1543231, -77.2097508333333)</td>\n",
              "    </tr>\n",
              "    <tr>\n",
              "      <th>1292393</th>\n",
              "      <td>12/14/2012</td>\n",
              "      <td>23:42:00</td>\n",
              "      <td>MCP</td>\n",
              "      <td>Headquarters and Special Operations</td>\n",
              "      <td>Tag Lights</td>\n",
              "      <td>MVA/ MIDCOUNTY HWY</td>\n",
              "      <td>39.159728</td>\n",
              "      <td>-77.202206</td>\n",
              "      <td>No</td>\n",
              "      <td>No</td>\n",
              "      <td>No</td>\n",
              "      <td>No</td>\n",
              "      <td>No</td>\n",
              "      <td>No</td>\n",
              "      <td>No</td>\n",
              "      <td>No</td>\n",
              "      <td>No</td>\n",
              "      <td>No</td>\n",
              "      <td>MD</td>\n",
              "      <td>05 - Light Duty Truck</td>\n",
              "      <td>2009.0</td>\n",
              "      <td>MITS</td>\n",
              "      <td>GALANT</td>\n",
              "      <td>WHITE</td>\n",
              "      <td>ESERO</td>\n",
              "      <td>65*</td>\n",
              "      <td>NaN</td>\n",
              "      <td>No</td>\n",
              "      <td>BLACK</td>\n",
              "      <td>F</td>\n",
              "      <td>GAITHERSBURG</td>\n",
              "      <td>MD</td>\n",
              "      <td>MD</td>\n",
              "      <td>A - Marked Patrol</td>\n",
              "      <td>(39.1597281833333, -77.2022063666667)</td>\n",
              "    </tr>\n",
              "    <tr>\n",
              "      <th>1292394</th>\n",
              "      <td>12/14/2012</td>\n",
              "      <td>23:56:00</td>\n",
              "      <td>MCP</td>\n",
              "      <td>Headquarters and Special Operations</td>\n",
              "      <td>Stop Lights</td>\n",
              "      <td>LOST KNOFE RD/ MVA</td>\n",
              "      <td>39.156846</td>\n",
              "      <td>-77.202903</td>\n",
              "      <td>No</td>\n",
              "      <td>No</td>\n",
              "      <td>No</td>\n",
              "      <td>No</td>\n",
              "      <td>No</td>\n",
              "      <td>No</td>\n",
              "      <td>No</td>\n",
              "      <td>No</td>\n",
              "      <td>No</td>\n",
              "      <td>No</td>\n",
              "      <td>MD</td>\n",
              "      <td>02 - Automobile</td>\n",
              "      <td>2007.0</td>\n",
              "      <td>TOYT</td>\n",
              "      <td>MATRIX</td>\n",
              "      <td>BLUE</td>\n",
              "      <td>ESERO</td>\n",
              "      <td>64*</td>\n",
              "      <td>NaN</td>\n",
              "      <td>No</td>\n",
              "      <td>BLACK</td>\n",
              "      <td>F</td>\n",
              "      <td>MONTGOMERY VILLAGE</td>\n",
              "      <td>MD</td>\n",
              "      <td>MD</td>\n",
              "      <td>A - Marked Patrol</td>\n",
              "      <td>(39.1568459666667, -77.2029032166667)</td>\n",
              "    </tr>\n",
              "    <tr>\n",
              "      <th>1292395</th>\n",
              "      <td>12/15/2012</td>\n",
              "      <td>00:11:00</td>\n",
              "      <td>MCP</td>\n",
              "      <td>Headquarters and Special Operations</td>\n",
              "      <td>Headlights</td>\n",
              "      <td>MIDCOUNTY HWY/ MILLER FALL DR</td>\n",
              "      <td>39.143137</td>\n",
              "      <td>-77.158675</td>\n",
              "      <td>No</td>\n",
              "      <td>No</td>\n",
              "      <td>No</td>\n",
              "      <td>No</td>\n",
              "      <td>No</td>\n",
              "      <td>No</td>\n",
              "      <td>No</td>\n",
              "      <td>No</td>\n",
              "      <td>No</td>\n",
              "      <td>No</td>\n",
              "      <td>MD</td>\n",
              "      <td>02 - Automobile</td>\n",
              "      <td>1998.0</td>\n",
              "      <td>HOND</td>\n",
              "      <td>CIVIC</td>\n",
              "      <td>GREEN</td>\n",
              "      <td>ESERO</td>\n",
              "      <td>55*</td>\n",
              "      <td>NaN</td>\n",
              "      <td>No</td>\n",
              "      <td>HISPANIC</td>\n",
              "      <td>M</td>\n",
              "      <td>GAITHERSBURG</td>\n",
              "      <td>MD</td>\n",
              "      <td>MD</td>\n",
              "      <td>A - Marked Patrol</td>\n",
              "      <td>(39.1431373333333, -77.1586750333333)</td>\n",
              "    </tr>\n",
              "    <tr>\n",
              "      <th>1292396</th>\n",
              "      <td>12/15/2012</td>\n",
              "      <td>00:30:00</td>\n",
              "      <td>MCP</td>\n",
              "      <td>Headquarters and Special Operations</td>\n",
              "      <td>Stop Lights</td>\n",
              "      <td>270/ MVA</td>\n",
              "      <td>39.152770</td>\n",
              "      <td>-77.220292</td>\n",
              "      <td>No</td>\n",
              "      <td>No</td>\n",
              "      <td>No</td>\n",
              "      <td>No</td>\n",
              "      <td>No</td>\n",
              "      <td>No</td>\n",
              "      <td>No</td>\n",
              "      <td>No</td>\n",
              "      <td>No</td>\n",
              "      <td>No</td>\n",
              "      <td>MD</td>\n",
              "      <td>05 - Light Duty Truck</td>\n",
              "      <td>2006.0</td>\n",
              "      <td>HOND</td>\n",
              "      <td>CRV</td>\n",
              "      <td>BLUE</td>\n",
              "      <td>ESERO</td>\n",
              "      <td>64*</td>\n",
              "      <td>NaN</td>\n",
              "      <td>No</td>\n",
              "      <td>WHITE</td>\n",
              "      <td>F</td>\n",
              "      <td>GERMANTOWN</td>\n",
              "      <td>MD</td>\n",
              "      <td>MD</td>\n",
              "      <td>A - Marked Patrol</td>\n",
              "      <td>(39.1527700833333, -77.2202923833333)</td>\n",
              "    </tr>\n",
              "    <tr>\n",
              "      <th>1292397</th>\n",
              "      <td>12/16/2012</td>\n",
              "      <td>22:55:00</td>\n",
              "      <td>MCP</td>\n",
              "      <td>Headquarters and Special Operations</td>\n",
              "      <td>Tag Lights</td>\n",
              "      <td>MD 97/ ASPEN HILL RD</td>\n",
              "      <td>39.080061</td>\n",
              "      <td>-77.074347</td>\n",
              "      <td>No</td>\n",
              "      <td>No</td>\n",
              "      <td>No</td>\n",
              "      <td>No</td>\n",
              "      <td>No</td>\n",
              "      <td>No</td>\n",
              "      <td>No</td>\n",
              "      <td>No</td>\n",
              "      <td>No</td>\n",
              "      <td>No</td>\n",
              "      <td>MD</td>\n",
              "      <td>02 - Automobile</td>\n",
              "      <td>2003.0</td>\n",
              "      <td>CHEV</td>\n",
              "      <td>CAVALIER</td>\n",
              "      <td>YELLOW</td>\n",
              "      <td>ESERO</td>\n",
              "      <td>65*</td>\n",
              "      <td>NaN</td>\n",
              "      <td>No</td>\n",
              "      <td>BLACK</td>\n",
              "      <td>F</td>\n",
              "      <td>SILVER SPRING</td>\n",
              "      <td>MD</td>\n",
              "      <td>MD</td>\n",
              "      <td>A - Marked Patrol</td>\n",
              "      <td>(39.0800610666667, -77.0743472)</td>\n",
              "    </tr>\n",
              "    <tr>\n",
              "      <th>1292398</th>\n",
              "      <td>12/21/2012</td>\n",
              "      <td>23:47:00</td>\n",
              "      <td>MCP</td>\n",
              "      <td>Headquarters and Special Operations</td>\n",
              "      <td>Tag Lights</td>\n",
              "      <td>MD 193/ 495</td>\n",
              "      <td>39.017139</td>\n",
              "      <td>-77.006379</td>\n",
              "      <td>No</td>\n",
              "      <td>No</td>\n",
              "      <td>No</td>\n",
              "      <td>No</td>\n",
              "      <td>No</td>\n",
              "      <td>No</td>\n",
              "      <td>No</td>\n",
              "      <td>No</td>\n",
              "      <td>No</td>\n",
              "      <td>No</td>\n",
              "      <td>MD</td>\n",
              "      <td>05 - Light Duty Truck</td>\n",
              "      <td>2001.0</td>\n",
              "      <td>FORD</td>\n",
              "      <td>VAN</td>\n",
              "      <td>BLUE</td>\n",
              "      <td>ESERO</td>\n",
              "      <td>65*</td>\n",
              "      <td>NaN</td>\n",
              "      <td>No</td>\n",
              "      <td>BLACK</td>\n",
              "      <td>M</td>\n",
              "      <td>GERMANTOWN</td>\n",
              "      <td>MD</td>\n",
              "      <td>MD</td>\n",
              "      <td>A - Marked Patrol</td>\n",
              "      <td>(39.0171391166667, -77.0063790833333)</td>\n",
              "    </tr>\n",
              "  </tbody>\n",
              "</table>\n",
              "</div>"
            ],
            "text/plain": [
              "        Date Of Stop  ...                            Geolocation\n",
              "1292391   12/14/2012  ...        (39.1620661, -77.2240618666667)\n",
              "1292392   12/14/2012  ...        (39.1543231, -77.2097508333333)\n",
              "1292393   12/14/2012  ...  (39.1597281833333, -77.2022063666667)\n",
              "1292394   12/14/2012  ...  (39.1568459666667, -77.2029032166667)\n",
              "1292395   12/15/2012  ...  (39.1431373333333, -77.1586750333333)\n",
              "1292396   12/15/2012  ...  (39.1527700833333, -77.2202923833333)\n",
              "1292397   12/16/2012  ...        (39.0800610666667, -77.0743472)\n",
              "1292398   12/21/2012  ...  (39.0171391166667, -77.0063790833333)\n",
              "\n",
              "[8 rows x 35 columns]"
            ]
          },
          "metadata": {},
          "execution_count": 446
        }
      ]
    },
    {
      "cell_type": "code",
      "metadata": {
        "colab": {
          "base_uri": "https://localhost:8080/",
          "height": 335
        },
        "id": "0YvvXC2R4LLZ",
        "outputId": "219b45f2-385e-4cdc-ebad-bb904c714826"
      },
      "source": [
        "Traffic_Violations[0:2]"
      ],
      "execution_count": 447,
      "outputs": [
        {
          "output_type": "execute_result",
          "data": {
            "text/html": [
              "<div>\n",
              "<style scoped>\n",
              "    .dataframe tbody tr th:only-of-type {\n",
              "        vertical-align: middle;\n",
              "    }\n",
              "\n",
              "    .dataframe tbody tr th {\n",
              "        vertical-align: top;\n",
              "    }\n",
              "\n",
              "    .dataframe thead th {\n",
              "        text-align: right;\n",
              "    }\n",
              "</style>\n",
              "<table border=\"1\" class=\"dataframe\">\n",
              "  <thead>\n",
              "    <tr style=\"text-align: right;\">\n",
              "      <th></th>\n",
              "      <th>Date Of Stop</th>\n",
              "      <th>Time Of Stop</th>\n",
              "      <th>Agency</th>\n",
              "      <th>SubAgency</th>\n",
              "      <th>Description</th>\n",
              "      <th>Location</th>\n",
              "      <th>Latitude</th>\n",
              "      <th>Longitude</th>\n",
              "      <th>Accident</th>\n",
              "      <th>Belts</th>\n",
              "      <th>Personal Injury</th>\n",
              "      <th>Property Damage</th>\n",
              "      <th>Fatal</th>\n",
              "      <th>Commercial License</th>\n",
              "      <th>HAZMAT</th>\n",
              "      <th>Commercial Vehicle</th>\n",
              "      <th>Alcohol</th>\n",
              "      <th>Work Zone</th>\n",
              "      <th>State</th>\n",
              "      <th>VehicleType</th>\n",
              "      <th>Year</th>\n",
              "      <th>Make</th>\n",
              "      <th>Model</th>\n",
              "      <th>Color</th>\n",
              "      <th>Violation Type</th>\n",
              "      <th>Charge</th>\n",
              "      <th>Article</th>\n",
              "      <th>Contributed To Accident</th>\n",
              "      <th>Race</th>\n",
              "      <th>Gender</th>\n",
              "      <th>Driver City</th>\n",
              "      <th>Driver State</th>\n",
              "      <th>DL State</th>\n",
              "      <th>Arrest Type</th>\n",
              "      <th>Geolocation</th>\n",
              "    </tr>\n",
              "  </thead>\n",
              "  <tbody>\n",
              "    <tr>\n",
              "      <th>0</th>\n",
              "      <td>09/24/2013</td>\n",
              "      <td>17:11:00</td>\n",
              "      <td>MCP</td>\n",
              "      <td>3rd district, Silver Spring</td>\n",
              "      <td>DRIVING VEHICLE ON HIGHWAY WITH SUSPENDED REGI...</td>\n",
              "      <td>8804 FLOWER AVE</td>\n",
              "      <td>NaN</td>\n",
              "      <td>NaN</td>\n",
              "      <td>No</td>\n",
              "      <td>No</td>\n",
              "      <td>No</td>\n",
              "      <td>No</td>\n",
              "      <td>No</td>\n",
              "      <td>No</td>\n",
              "      <td>No</td>\n",
              "      <td>No</td>\n",
              "      <td>No</td>\n",
              "      <td>No</td>\n",
              "      <td>MD</td>\n",
              "      <td>02 - Automobile</td>\n",
              "      <td>2008.0</td>\n",
              "      <td>FORD</td>\n",
              "      <td>4S</td>\n",
              "      <td>BLACK</td>\n",
              "      <td>Citation</td>\n",
              "      <td>13-401(h)</td>\n",
              "      <td>Transportation Article</td>\n",
              "      <td>No</td>\n",
              "      <td>BLACK</td>\n",
              "      <td>M</td>\n",
              "      <td>TAKOMA PARK</td>\n",
              "      <td>MD</td>\n",
              "      <td>MD</td>\n",
              "      <td>A - Marked Patrol</td>\n",
              "      <td>NaN</td>\n",
              "    </tr>\n",
              "    <tr>\n",
              "      <th>1</th>\n",
              "      <td>08/29/2017</td>\n",
              "      <td>10:19:00</td>\n",
              "      <td>MCP</td>\n",
              "      <td>2nd district, Bethesda</td>\n",
              "      <td>DRIVER FAILURE TO OBEY PROPERLY PLACED TRAFFIC...</td>\n",
              "      <td>WISCONSIN AVE@ ELM ST</td>\n",
              "      <td>38.981725</td>\n",
              "      <td>-77.092757</td>\n",
              "      <td>No</td>\n",
              "      <td>No</td>\n",
              "      <td>No</td>\n",
              "      <td>No</td>\n",
              "      <td>No</td>\n",
              "      <td>No</td>\n",
              "      <td>No</td>\n",
              "      <td>No</td>\n",
              "      <td>No</td>\n",
              "      <td>No</td>\n",
              "      <td>VA</td>\n",
              "      <td>02 - Automobile</td>\n",
              "      <td>2001.0</td>\n",
              "      <td>TOYOTA</td>\n",
              "      <td>COROLLA</td>\n",
              "      <td>GREEN</td>\n",
              "      <td>Citation</td>\n",
              "      <td>21-201(a1)</td>\n",
              "      <td>Transportation Article</td>\n",
              "      <td>No</td>\n",
              "      <td>WHITE</td>\n",
              "      <td>F</td>\n",
              "      <td>FAIRFAX STATION</td>\n",
              "      <td>VA</td>\n",
              "      <td>VA</td>\n",
              "      <td>A - Marked Patrol</td>\n",
              "      <td>(38.981725, -77.0927566666667)</td>\n",
              "    </tr>\n",
              "  </tbody>\n",
              "</table>\n",
              "</div>"
            ],
            "text/plain": [
              "  Date Of Stop Time Of Stop  ...        Arrest Type                     Geolocation\n",
              "0   09/24/2013     17:11:00  ...  A - Marked Patrol                             NaN\n",
              "1   08/29/2017     10:19:00  ...  A - Marked Patrol  (38.981725, -77.0927566666667)\n",
              "\n",
              "[2 rows x 35 columns]"
            ]
          },
          "metadata": {},
          "execution_count": 447
        }
      ]
    },
    {
      "cell_type": "markdown",
      "metadata": {
        "id": "5Em2xHe_rtdX"
      },
      "source": [
        ""
      ]
    },
    {
      "cell_type": "code",
      "metadata": {
        "id": "ZK78VQ-Wrr8A"
      },
      "source": [
        ""
      ],
      "execution_count": 447,
      "outputs": []
    },
    {
      "cell_type": "code",
      "metadata": {
        "colab": {
          "base_uri": "https://localhost:8080/"
        },
        "id": "yyCUY4ocVSrz",
        "outputId": "2a61f505-7558-4042-e6d3-a6fb52eba8c5"
      },
      "source": [
        "Traffic_Violations.shape"
      ],
      "execution_count": 448,
      "outputs": [
        {
          "output_type": "execute_result",
          "data": {
            "text/plain": [
              "(1292399, 35)"
            ]
          },
          "metadata": {},
          "execution_count": 448
        }
      ]
    },
    {
      "cell_type": "code",
      "metadata": {
        "colab": {
          "base_uri": "https://localhost:8080/"
        },
        "id": "w4SULssLSzll",
        "outputId": "db3717ef-cbb2-4066-caf6-fc80a77836b1"
      },
      "source": [
        "Traffic_Violations.info()"
      ],
      "execution_count": 449,
      "outputs": [
        {
          "output_type": "stream",
          "name": "stdout",
          "text": [
            "<class 'pandas.core.frame.DataFrame'>\n",
            "RangeIndex: 1292399 entries, 0 to 1292398\n",
            "Data columns (total 35 columns):\n",
            " #   Column                   Non-Null Count    Dtype  \n",
            "---  ------                   --------------    -----  \n",
            " 0   Date Of Stop             1292399 non-null  object \n",
            " 1   Time Of Stop             1292399 non-null  object \n",
            " 2   Agency                   1292399 non-null  object \n",
            " 3   SubAgency                1292389 non-null  object \n",
            " 4   Description              1292390 non-null  object \n",
            " 5   Location                 1292397 non-null  object \n",
            " 6   Latitude                 1197045 non-null  float64\n",
            " 7   Longitude                1197045 non-null  float64\n",
            " 8   Accident                 1292399 non-null  object \n",
            " 9   Belts                    1292399 non-null  object \n",
            " 10  Personal Injury          1292399 non-null  object \n",
            " 11  Property Damage          1292399 non-null  object \n",
            " 12  Fatal                    1292399 non-null  object \n",
            " 13  Commercial License       1292399 non-null  object \n",
            " 14  HAZMAT                   1292399 non-null  object \n",
            " 15  Commercial Vehicle       1292399 non-null  object \n",
            " 16  Alcohol                  1292399 non-null  object \n",
            " 17  Work Zone                1292399 non-null  object \n",
            " 18  State                    1292340 non-null  object \n",
            " 19  VehicleType              1292399 non-null  object \n",
            " 20  Year                     1284325 non-null  float64\n",
            " 21  Make                     1292342 non-null  object \n",
            " 22  Model                    1292212 non-null  object \n",
            " 23  Color                    1276272 non-null  object \n",
            " 24  Violation Type           1292399 non-null  object \n",
            " 25  Charge                   1292399 non-null  object \n",
            " 26  Article                  1227230 non-null  object \n",
            " 27  Contributed To Accident  1292399 non-null  object \n",
            " 28  Race                     1292399 non-null  object \n",
            " 29  Gender                   1292399 non-null  object \n",
            " 30  Driver City              1292182 non-null  object \n",
            " 31  Driver State             1292388 non-null  object \n",
            " 32  DL State                 1291470 non-null  object \n",
            " 33  Arrest Type              1292399 non-null  object \n",
            " 34  Geolocation              1197045 non-null  object \n",
            "dtypes: float64(3), object(32)\n",
            "memory usage: 345.1+ MB\n"
          ]
        }
      ]
    },
    {
      "cell_type": "code",
      "metadata": {
        "id": "gJxKp8GzakZJ"
      },
      "source": [
        "Traffic_Violations_2 = Traffic_Violations.dropna()"
      ],
      "execution_count": 450,
      "outputs": []
    },
    {
      "cell_type": "code",
      "metadata": {
        "colab": {
          "base_uri": "https://localhost:8080/"
        },
        "id": "XDrW0Xp4bU2C",
        "outputId": "a07762a6-f73e-4b37-cac4-8748d86d1b42"
      },
      "source": [
        "Traffic_Violations_2.shape"
      ],
      "execution_count": 451,
      "outputs": [
        {
          "output_type": "execute_result",
          "data": {
            "text/plain": [
              "(1120327, 35)"
            ]
          },
          "metadata": {},
          "execution_count": 451
        }
      ]
    },
    {
      "cell_type": "code",
      "metadata": {
        "colab": {
          "base_uri": "https://localhost:8080/"
        },
        "id": "jj_oLsFBaktH",
        "outputId": "7d3ea55b-c373-4e93-e0f4-c3fe8b49782e"
      },
      "source": [
        "Traffic_Violations_2.info()"
      ],
      "execution_count": 452,
      "outputs": [
        {
          "output_type": "stream",
          "name": "stdout",
          "text": [
            "<class 'pandas.core.frame.DataFrame'>\n",
            "Int64Index: 1120327 entries, 1 to 1291740\n",
            "Data columns (total 35 columns):\n",
            " #   Column                   Non-Null Count    Dtype  \n",
            "---  ------                   --------------    -----  \n",
            " 0   Date Of Stop             1120327 non-null  object \n",
            " 1   Time Of Stop             1120327 non-null  object \n",
            " 2   Agency                   1120327 non-null  object \n",
            " 3   SubAgency                1120327 non-null  object \n",
            " 4   Description              1120327 non-null  object \n",
            " 5   Location                 1120327 non-null  object \n",
            " 6   Latitude                 1120327 non-null  float64\n",
            " 7   Longitude                1120327 non-null  float64\n",
            " 8   Accident                 1120327 non-null  object \n",
            " 9   Belts                    1120327 non-null  object \n",
            " 10  Personal Injury          1120327 non-null  object \n",
            " 11  Property Damage          1120327 non-null  object \n",
            " 12  Fatal                    1120327 non-null  object \n",
            " 13  Commercial License       1120327 non-null  object \n",
            " 14  HAZMAT                   1120327 non-null  object \n",
            " 15  Commercial Vehicle       1120327 non-null  object \n",
            " 16  Alcohol                  1120327 non-null  object \n",
            " 17  Work Zone                1120327 non-null  object \n",
            " 18  State                    1120327 non-null  object \n",
            " 19  VehicleType              1120327 non-null  object \n",
            " 20  Year                     1120327 non-null  float64\n",
            " 21  Make                     1120327 non-null  object \n",
            " 22  Model                    1120327 non-null  object \n",
            " 23  Color                    1120327 non-null  object \n",
            " 24  Violation Type           1120327 non-null  object \n",
            " 25  Charge                   1120327 non-null  object \n",
            " 26  Article                  1120327 non-null  object \n",
            " 27  Contributed To Accident  1120327 non-null  object \n",
            " 28  Race                     1120327 non-null  object \n",
            " 29  Gender                   1120327 non-null  object \n",
            " 30  Driver City              1120327 non-null  object \n",
            " 31  Driver State             1120327 non-null  object \n",
            " 32  DL State                 1120327 non-null  object \n",
            " 33  Arrest Type              1120327 non-null  object \n",
            " 34  Geolocation              1120327 non-null  object \n",
            "dtypes: float64(3), object(32)\n",
            "memory usage: 307.7+ MB\n"
          ]
        }
      ]
    },
    {
      "cell_type": "code",
      "metadata": {
        "colab": {
          "base_uri": "https://localhost:8080/",
          "height": 615
        },
        "id": "IW9dRA9EU9z8",
        "outputId": "13f55ed2-2878-4223-9d50-2f99d8ef4eff"
      },
      "source": [
        "Traffic_Violations_2.head()"
      ],
      "execution_count": 453,
      "outputs": [
        {
          "output_type": "execute_result",
          "data": {
            "text/html": [
              "<div>\n",
              "<style scoped>\n",
              "    .dataframe tbody tr th:only-of-type {\n",
              "        vertical-align: middle;\n",
              "    }\n",
              "\n",
              "    .dataframe tbody tr th {\n",
              "        vertical-align: top;\n",
              "    }\n",
              "\n",
              "    .dataframe thead th {\n",
              "        text-align: right;\n",
              "    }\n",
              "</style>\n",
              "<table border=\"1\" class=\"dataframe\">\n",
              "  <thead>\n",
              "    <tr style=\"text-align: right;\">\n",
              "      <th></th>\n",
              "      <th>Date Of Stop</th>\n",
              "      <th>Time Of Stop</th>\n",
              "      <th>Agency</th>\n",
              "      <th>SubAgency</th>\n",
              "      <th>Description</th>\n",
              "      <th>Location</th>\n",
              "      <th>Latitude</th>\n",
              "      <th>Longitude</th>\n",
              "      <th>Accident</th>\n",
              "      <th>Belts</th>\n",
              "      <th>Personal Injury</th>\n",
              "      <th>Property Damage</th>\n",
              "      <th>Fatal</th>\n",
              "      <th>Commercial License</th>\n",
              "      <th>HAZMAT</th>\n",
              "      <th>Commercial Vehicle</th>\n",
              "      <th>Alcohol</th>\n",
              "      <th>Work Zone</th>\n",
              "      <th>State</th>\n",
              "      <th>VehicleType</th>\n",
              "      <th>Year</th>\n",
              "      <th>Make</th>\n",
              "      <th>Model</th>\n",
              "      <th>Color</th>\n",
              "      <th>Violation Type</th>\n",
              "      <th>Charge</th>\n",
              "      <th>Article</th>\n",
              "      <th>Contributed To Accident</th>\n",
              "      <th>Race</th>\n",
              "      <th>Gender</th>\n",
              "      <th>Driver City</th>\n",
              "      <th>Driver State</th>\n",
              "      <th>DL State</th>\n",
              "      <th>Arrest Type</th>\n",
              "      <th>Geolocation</th>\n",
              "    </tr>\n",
              "  </thead>\n",
              "  <tbody>\n",
              "    <tr>\n",
              "      <th>1</th>\n",
              "      <td>08/29/2017</td>\n",
              "      <td>10:19:00</td>\n",
              "      <td>MCP</td>\n",
              "      <td>2nd district, Bethesda</td>\n",
              "      <td>DRIVER FAILURE TO OBEY PROPERLY PLACED TRAFFIC...</td>\n",
              "      <td>WISCONSIN AVE@ ELM ST</td>\n",
              "      <td>38.981725</td>\n",
              "      <td>-77.092757</td>\n",
              "      <td>No</td>\n",
              "      <td>No</td>\n",
              "      <td>No</td>\n",
              "      <td>No</td>\n",
              "      <td>No</td>\n",
              "      <td>No</td>\n",
              "      <td>No</td>\n",
              "      <td>No</td>\n",
              "      <td>No</td>\n",
              "      <td>No</td>\n",
              "      <td>VA</td>\n",
              "      <td>02 - Automobile</td>\n",
              "      <td>2001.0</td>\n",
              "      <td>TOYOTA</td>\n",
              "      <td>COROLLA</td>\n",
              "      <td>GREEN</td>\n",
              "      <td>Citation</td>\n",
              "      <td>21-201(a1)</td>\n",
              "      <td>Transportation Article</td>\n",
              "      <td>No</td>\n",
              "      <td>WHITE</td>\n",
              "      <td>F</td>\n",
              "      <td>FAIRFAX STATION</td>\n",
              "      <td>VA</td>\n",
              "      <td>VA</td>\n",
              "      <td>A - Marked Patrol</td>\n",
              "      <td>(38.981725, -77.0927566666667)</td>\n",
              "    </tr>\n",
              "    <tr>\n",
              "      <th>2</th>\n",
              "      <td>12/01/2014</td>\n",
              "      <td>12:52:00</td>\n",
              "      <td>MCP</td>\n",
              "      <td>6th district, Gaithersburg / Montgomery Village</td>\n",
              "      <td>FAILURE STOP AND YIELD AT THRU HWY</td>\n",
              "      <td>CHRISTOPHER AVE/MONTGOMERY VILLAGE AVE</td>\n",
              "      <td>39.162888</td>\n",
              "      <td>-77.229088</td>\n",
              "      <td>No</td>\n",
              "      <td>No</td>\n",
              "      <td>No</td>\n",
              "      <td>Yes</td>\n",
              "      <td>No</td>\n",
              "      <td>No</td>\n",
              "      <td>No</td>\n",
              "      <td>No</td>\n",
              "      <td>No</td>\n",
              "      <td>No</td>\n",
              "      <td>MD</td>\n",
              "      <td>02 - Automobile</td>\n",
              "      <td>2001.0</td>\n",
              "      <td>HONDA</td>\n",
              "      <td>ACCORD</td>\n",
              "      <td>SILVER</td>\n",
              "      <td>Citation</td>\n",
              "      <td>21-403(b)</td>\n",
              "      <td>Transportation Article</td>\n",
              "      <td>No</td>\n",
              "      <td>BLACK</td>\n",
              "      <td>F</td>\n",
              "      <td>UPPER MARLBORO</td>\n",
              "      <td>MD</td>\n",
              "      <td>MD</td>\n",
              "      <td>A - Marked Patrol</td>\n",
              "      <td>(39.1628883333333, -77.2290883333333)</td>\n",
              "    </tr>\n",
              "    <tr>\n",
              "      <th>3</th>\n",
              "      <td>08/29/2017</td>\n",
              "      <td>09:22:00</td>\n",
              "      <td>MCP</td>\n",
              "      <td>3rd district, Silver Spring</td>\n",
              "      <td>FAILURE YIELD RIGHT OF WAY ON U TURN</td>\n",
              "      <td>CHERRY HILL RD./CALVERTON BLVD.</td>\n",
              "      <td>39.056975</td>\n",
              "      <td>-76.954633</td>\n",
              "      <td>No</td>\n",
              "      <td>No</td>\n",
              "      <td>No</td>\n",
              "      <td>Yes</td>\n",
              "      <td>No</td>\n",
              "      <td>No</td>\n",
              "      <td>No</td>\n",
              "      <td>No</td>\n",
              "      <td>No</td>\n",
              "      <td>No</td>\n",
              "      <td>MD</td>\n",
              "      <td>02 - Automobile</td>\n",
              "      <td>1998.0</td>\n",
              "      <td>DODG</td>\n",
              "      <td>DAKOTA</td>\n",
              "      <td>WHITE</td>\n",
              "      <td>Citation</td>\n",
              "      <td>21-402(b)</td>\n",
              "      <td>Transportation Article</td>\n",
              "      <td>No</td>\n",
              "      <td>BLACK</td>\n",
              "      <td>M</td>\n",
              "      <td>FORT WASHINGTON</td>\n",
              "      <td>MD</td>\n",
              "      <td>MD</td>\n",
              "      <td>A - Marked Patrol</td>\n",
              "      <td>(39.056975, -76.9546333333333)</td>\n",
              "    </tr>\n",
              "    <tr>\n",
              "      <th>6</th>\n",
              "      <td>10/08/2013</td>\n",
              "      <td>13:23:00</td>\n",
              "      <td>MCP</td>\n",
              "      <td>4th district, Wheaton</td>\n",
              "      <td>DRIVING VEHICLE ON HIGHWAY WITH SUSPENDED REGI...</td>\n",
              "      <td>GEORGIA AVE / BEL PRE RD</td>\n",
              "      <td>39.093383</td>\n",
              "      <td>-77.079552</td>\n",
              "      <td>No</td>\n",
              "      <td>No</td>\n",
              "      <td>No</td>\n",
              "      <td>No</td>\n",
              "      <td>No</td>\n",
              "      <td>No</td>\n",
              "      <td>No</td>\n",
              "      <td>No</td>\n",
              "      <td>No</td>\n",
              "      <td>No</td>\n",
              "      <td>MD</td>\n",
              "      <td>02 - Automobile</td>\n",
              "      <td>1993.0</td>\n",
              "      <td>FORD</td>\n",
              "      <td>PICKUP</td>\n",
              "      <td>BLACK</td>\n",
              "      <td>Citation</td>\n",
              "      <td>13-401(h)</td>\n",
              "      <td>Transportation Article</td>\n",
              "      <td>No</td>\n",
              "      <td>HISPANIC</td>\n",
              "      <td>M</td>\n",
              "      <td>BELTSVILLE</td>\n",
              "      <td>MD</td>\n",
              "      <td>MD</td>\n",
              "      <td>A - Marked Patrol</td>\n",
              "      <td>(39.0933833333333, -77.0795516666667)</td>\n",
              "    </tr>\n",
              "    <tr>\n",
              "      <th>10</th>\n",
              "      <td>02/14/2014</td>\n",
              "      <td>20:10:00</td>\n",
              "      <td>MCP</td>\n",
              "      <td>1st district, Rockville</td>\n",
              "      <td>FAILURE TO DRIVE ON RIGHT HAND ROADWAY OF DIVI...</td>\n",
              "      <td>GATEWAY CENTER DR @ CLARKSBURG RD</td>\n",
              "      <td>39.234843</td>\n",
              "      <td>-77.281540</td>\n",
              "      <td>No</td>\n",
              "      <td>No</td>\n",
              "      <td>No</td>\n",
              "      <td>No</td>\n",
              "      <td>No</td>\n",
              "      <td>No</td>\n",
              "      <td>No</td>\n",
              "      <td>No</td>\n",
              "      <td>No</td>\n",
              "      <td>No</td>\n",
              "      <td>MD</td>\n",
              "      <td>02 - Automobile</td>\n",
              "      <td>2005.0</td>\n",
              "      <td>CADI</td>\n",
              "      <td>STS</td>\n",
              "      <td>BLACK</td>\n",
              "      <td>Citation</td>\n",
              "      <td>21-311(1)</td>\n",
              "      <td>Transportation Article</td>\n",
              "      <td>No</td>\n",
              "      <td>WHITE</td>\n",
              "      <td>M</td>\n",
              "      <td>POINT OF ROCK</td>\n",
              "      <td>MD</td>\n",
              "      <td>WV</td>\n",
              "      <td>A - Marked Patrol</td>\n",
              "      <td>(39.2348434333333, -77.28153995)</td>\n",
              "    </tr>\n",
              "  </tbody>\n",
              "</table>\n",
              "</div>"
            ],
            "text/plain": [
              "   Date Of Stop  ...                            Geolocation\n",
              "1    08/29/2017  ...         (38.981725, -77.0927566666667)\n",
              "2    12/01/2014  ...  (39.1628883333333, -77.2290883333333)\n",
              "3    08/29/2017  ...         (39.056975, -76.9546333333333)\n",
              "6    10/08/2013  ...  (39.0933833333333, -77.0795516666667)\n",
              "10   02/14/2014  ...       (39.2348434333333, -77.28153995)\n",
              "\n",
              "[5 rows x 35 columns]"
            ]
          },
          "metadata": {},
          "execution_count": 453
        }
      ]
    },
    {
      "cell_type": "code",
      "metadata": {
        "colab": {
          "base_uri": "https://localhost:8080/"
        },
        "id": "nbmECpV6XGwG",
        "outputId": "244cc976-37ef-4a7d-e891-710659f32d5b"
      },
      "source": [
        "len(pd.unique(Traffic_Violations_2['Year']))"
      ],
      "execution_count": 454,
      "outputs": [
        {
          "output_type": "execute_result",
          "data": {
            "text/plain": [
              "290"
            ]
          },
          "metadata": {},
          "execution_count": 454
        }
      ]
    },
    {
      "cell_type": "code",
      "metadata": {
        "colab": {
          "base_uri": "https://localhost:8080/"
        },
        "id": "1IWcz9xGY2X3",
        "outputId": "6725af95-8c8e-47ec-dfef-2ed788ddd4a0"
      },
      "source": [
        "\n",
        "\n",
        "Traffic_Violations_2.Year = Traffic_Violations_2.Year.astype(int)"
      ],
      "execution_count": 455,
      "outputs": [
        {
          "output_type": "stream",
          "name": "stderr",
          "text": [
            "/usr/local/lib/python3.7/dist-packages/pandas/core/generic.py:5170: SettingWithCopyWarning: \n",
            "A value is trying to be set on a copy of a slice from a DataFrame.\n",
            "Try using .loc[row_indexer,col_indexer] = value instead\n",
            "\n",
            "See the caveats in the documentation: https://pandas.pydata.org/pandas-docs/stable/user_guide/indexing.html#returning-a-view-versus-a-copy\n",
            "  self[name] = value\n"
          ]
        }
      ]
    },
    {
      "cell_type": "code",
      "metadata": {
        "id": "J6zhFgKTXTOU"
      },
      "source": [
        ""
      ],
      "execution_count": 455,
      "outputs": []
    },
    {
      "cell_type": "code",
      "metadata": {
        "colab": {
          "base_uri": "https://localhost:8080/"
        },
        "id": "gvyuQXZuX1Lh",
        "outputId": "1117d19d-ad99-4da9-d78d-5add92832172"
      },
      "source": [
        "Traffic_Violations_2.Year.unique()"
      ],
      "execution_count": 456,
      "outputs": [
        {
          "output_type": "execute_result",
          "data": {
            "text/plain": [
              "array([2001, 1998, 1993, 2005, 1996, 2004, 2002, 2009, 2000, 2003, 1991,\n",
              "       2012, 2008, 2011, 2006, 2013, 2007, 1997, 1999, 1994, 2017, 2016,\n",
              "       2014, 2010, 2015, 1995, 1990,    0, 3003, 1988, 1992,  128, 1985,\n",
              "       1989, 1987, 1986, 1982, 2018, 1975, 2021, 1972, 1981, 1977, 1983,\n",
              "       1976, 1973, 1984, 1980, 1197, 2103, 1974, 2022, 5338, 1007, 1900,\n",
              "       2914, 1978, 2077, 1111, 4452, 2019, 2916, 2031, 2207,    6, 1958,\n",
              "       1010, 2911, 1966, 3013, 1979, 1005, 2104, 1969, 2941, 1013, 9999,\n",
              "       1970, 2500, 1012, 1965, 4200, 1017, 5300, 4046, 2992, 1776, 1729,\n",
              "       2596, 5384, 2105, 2258, 8560, 2024, 1001, 6338, 1967, 5005, 5257,\n",
              "       1299, 1971, 3574, 1953, 2917,  205, 2200, 1076, 1195, 1196, 1968,\n",
              "       2773, 2915, 2912, 2051, 9035, 2998, 1199, 2088,   95, 1957, 5843,\n",
              "       2997, 7575, 9624, 4313,    8, 5441, 1936, 4209, 3244, 1964, 2096,\n",
              "       5772, 9510, 1186, 1015, 2919, 2066, 2202, 1879, 6838, 2025, 2044,\n",
              "       3940, 2097,  277, 2102, 1006, 2050, 2201, 7247, 2793, 1016, 4112,\n",
              "       2205, 2209, 1963, 1902, 2483, 2151, 5199, 8008, 8042, 4004, 2055,\n",
              "       1959, 6856, 2203, 5709, 2511, 1616, 2913,   12, 5470, 3008, 2206,\n",
              "       2101, 2171, 2204, 2110, 2986, 2996, 2576, 9219, 7104, 9705, 5603,\n",
              "       1952,    4, 5265, 9013, 1885, 5397, 2621, 2373, 4515, 7513, 9563,\n",
              "       1865, 3096, 2020, 2106, 1930, 3435, 3517, 3104, 6153, 2993, 1962,\n",
              "       2099, 2090, 8739, 2023, 1008, 3201, 2994, 3776, 2331, 1931, 2040,\n",
              "       3002, 3014, 2033, 2091, 5256, 7007, 6874, 1929, 3837, 2995, 6078,\n",
              "       4146, 1899, 9463, 2085, 1146,  707, 2999, 1026, 6580, 3007, 9867,\n",
              "       1665, 2112, 5004, 1886, 5450, 5237, 1088, 2452, 1932, 1014, 2442,\n",
              "       1009, 1951, 1003, 1920, 2100, 3510,  798, 4706, 3503, 1925, 1411,\n",
              "       3790, 3010, 3886, 5421,   10, 1312, 2901, 1549, 2179,   11, 8615,\n",
              "       2208,  220,  620, 5456, 3004, 3861, 3373, 2991, 3316,    5,   93,\n",
              "       1004, 4580, 3802, 1368])"
            ]
          },
          "metadata": {},
          "execution_count": 456
        }
      ]
    },
    {
      "cell_type": "code",
      "metadata": {
        "colab": {
          "base_uri": "https://localhost:8080/",
          "height": 282
        },
        "id": "3JrHbdTclTRY",
        "outputId": "13b13c60-5fec-4e57-8675-c342a982efd0"
      },
      "source": [
        "Traffic_Violations_2['Date Of Stop'].value_counts()[:20].plot(kind='barh')\n"
      ],
      "execution_count": 457,
      "outputs": [
        {
          "output_type": "execute_result",
          "data": {
            "text/plain": [
              "<matplotlib.axes._subplots.AxesSubplot at 0x7f6fa3c3f8d0>"
            ]
          },
          "metadata": {},
          "execution_count": 457
        },
        {
          "output_type": "display_data",
          "data": {
            "image/png": "[encoded data removed]",
            "text/plain": [
              "<Figure size 432x288 with 1 Axes>"
            ]
          },
          "metadata": {
            "needs_background": "light"
          }
        }
      ]
    },
    {
      "cell_type": "code",
      "metadata": {
        "colab": {
          "base_uri": "https://localhost:8080/",
          "height": 282
        },
        "id": "lNZNGpKHlTW1",
        "outputId": "34077714-5c6c-411e-e5fb-1678f9dd4839"
      },
      "source": [
        "Traffic_Violations_2['Year'].value_counts()[:20].plot(kind='barh')"
      ],
      "execution_count": 458,
      "outputs": [
        {
          "output_type": "execute_result",
          "data": {
            "text/plain": [
              "<matplotlib.axes._subplots.AxesSubplot at 0x7f6f994ba810>"
            ]
          },
          "metadata": {},
          "execution_count": 458
        },
        {
          "output_type": "display_data",
          "data": {
            "image/png": "[encoded data removed]",
            "text/plain": [
              "<Figure size 432x288 with 1 Axes>"
            ]
          },
          "metadata": {
            "needs_background": "light"
          }
        }
      ]
    },
    {
      "cell_type": "code",
      "metadata": {
        "colab": {
          "base_uri": "https://localhost:8080/",
          "height": 295
        },
        "id": "1HcBng2glTbw",
        "outputId": "c2e2e470-0101-4257-fd00-63960d57f44b"
      },
      "source": [
        "Traffic_Violations_2['State'].value_counts()[:5].plot(kind='barh')"
      ],
      "execution_count": 459,
      "outputs": [
        {
          "output_type": "execute_result",
          "data": {
            "text/plain": [
              "<matplotlib.axes._subplots.AxesSubplot at 0x7f6f993e8e90>"
            ]
          },
          "metadata": {},
          "execution_count": 459
        },
        {
          "output_type": "display_data",
          "data": {
            "image/png": "[encoded data removed]",
            "text/plain": [
              "<Figure size 432x288 with 1 Axes>"
            ]
          },
          "metadata": {
            "needs_background": "light"
          }
        }
      ]
    },
    {
      "cell_type": "code",
      "metadata": {
        "colab": {
          "base_uri": "https://localhost:8080/",
          "height": 295
        },
        "id": "5ULtuMKBrO8p",
        "outputId": "e3165480-d047-40c9-b69f-20b66653eb3c"
      },
      "source": [
        "Traffic_Violations_2['VehicleType'].value_counts()[:5].plot(kind='barh')\n"
      ],
      "execution_count": 460,
      "outputs": [
        {
          "output_type": "execute_result",
          "data": {
            "text/plain": [
              "<matplotlib.axes._subplots.AxesSubplot at 0x7f6f99365710>"
            ]
          },
          "metadata": {},
          "execution_count": 460
        },
        {
          "output_type": "display_data",
          "data": {
            "image/png": "[encoded data removed]",
            "text/plain": [
              "<Figure size 432x288 with 1 Axes>"
            ]
          },
          "metadata": {
            "needs_background": "light"
          }
        }
      ]
    },
    {
      "cell_type": "code",
      "metadata": {
        "id": "AhplYUm5rPKS"
      },
      "source": [
        ""
      ],
      "execution_count": 460,
      "outputs": []
    },
    {
      "cell_type": "code",
      "metadata": {
        "colab": {
          "base_uri": "https://localhost:8080/"
        },
        "id": "kchkP52fX1Xk",
        "outputId": "1ed49cf0-e1a8-4235-f8f6-4bfb3ea25ed8"
      },
      "source": [
        "Traffic_Violations_2.info()"
      ],
      "execution_count": 461,
      "outputs": [
        {
          "output_type": "stream",
          "name": "stdout",
          "text": [
            "<class 'pandas.core.frame.DataFrame'>\n",
            "Int64Index: 1120327 entries, 1 to 1291740\n",
            "Data columns (total 35 columns):\n",
            " #   Column                   Non-Null Count    Dtype  \n",
            "---  ------                   --------------    -----  \n",
            " 0   Date Of Stop             1120327 non-null  object \n",
            " 1   Time Of Stop             1120327 non-null  object \n",
            " 2   Agency                   1120327 non-null  object \n",
            " 3   SubAgency                1120327 non-null  object \n",
            " 4   Description              1120327 non-null  object \n",
            " 5   Location                 1120327 non-null  object \n",
            " 6   Latitude                 1120327 non-null  float64\n",
            " 7   Longitude                1120327 non-null  float64\n",
            " 8   Accident                 1120327 non-null  object \n",
            " 9   Belts                    1120327 non-null  object \n",
            " 10  Personal Injury          1120327 non-null  object \n",
            " 11  Property Damage          1120327 non-null  object \n",
            " 12  Fatal                    1120327 non-null  object \n",
            " 13  Commercial License       1120327 non-null  object \n",
            " 14  HAZMAT                   1120327 non-null  object \n",
            " 15  Commercial Vehicle       1120327 non-null  object \n",
            " 16  Alcohol                  1120327 non-null  object \n",
            " 17  Work Zone                1120327 non-null  object \n",
            " 18  State                    1120327 non-null  object \n",
            " 19  VehicleType              1120327 non-null  object \n",
            " 20  Year                     1120327 non-null  int64  \n",
            " 21  Make                     1120327 non-null  object \n",
            " 22  Model                    1120327 non-null  object \n",
            " 23  Color                    1120327 non-null  object \n",
            " 24  Violation Type           1120327 non-null  object \n",
            " 25  Charge                   1120327 non-null  object \n",
            " 26  Article                  1120327 non-null  object \n",
            " 27  Contributed To Accident  1120327 non-null  object \n",
            " 28  Race                     1120327 non-null  object \n",
            " 29  Gender                   1120327 non-null  object \n",
            " 30  Driver City              1120327 non-null  object \n",
            " 31  Driver State             1120327 non-null  object \n",
            " 32  DL State                 1120327 non-null  object \n",
            " 33  Arrest Type              1120327 non-null  object \n",
            " 34  Geolocation              1120327 non-null  object \n",
            "dtypes: float64(2), int64(1), object(32)\n",
            "memory usage: 307.7+ MB\n"
          ]
        }
      ]
    },
    {
      "cell_type": "code",
      "metadata": {
        "colab": {
          "base_uri": "https://localhost:8080/"
        },
        "id": "hXuKGWvBX1cT",
        "outputId": "ec20ad10-475e-465f-c6c5-b870ecbab105"
      },
      "source": [
        "Traffic_Violations_2.Gender.unique()"
      ],
      "execution_count": 462,
      "outputs": [
        {
          "output_type": "execute_result",
          "data": {
            "text/plain": [
              "array(['F', 'M', 'U'], dtype=object)"
            ]
          },
          "metadata": {},
          "execution_count": 462
        }
      ]
    },
    {
      "cell_type": "code",
      "metadata": {
        "id": "u4BLlH0hX1he"
      },
      "source": [
        "Male = Traffic_Violations_2[(Traffic_Violations_2.Gender == 'M')]"
      ],
      "execution_count": 463,
      "outputs": []
    },
    {
      "cell_type": "code",
      "metadata": {
        "colab": {
          "base_uri": "https://localhost:8080/"
        },
        "id": "JtSt73E-epgC",
        "outputId": "7869423e-6bd6-4ece-97d3-6735386d0bcd"
      },
      "source": [
        "Traffic_Violations_2['Property Damage'].unique()"
      ],
      "execution_count": 464,
      "outputs": [
        {
          "output_type": "execute_result",
          "data": {
            "text/plain": [
              "array(['No', 'Yes'], dtype=object)"
            ]
          },
          "metadata": {},
          "execution_count": 464
        }
      ]
    },
    {
      "cell_type": "code",
      "metadata": {
        "colab": {
          "base_uri": "https://localhost:8080/",
          "height": 296
        },
        "id": "qjAIgVbsSzpG",
        "outputId": "b8ba6f86-2144-4472-8caf-7b78b82df2eb"
      },
      "source": [
        "sn.countplot(y='Gender', hue='Property Damage', data = Traffic_Violations_2)"
      ],
      "execution_count": 465,
      "outputs": [
        {
          "output_type": "execute_result",
          "data": {
            "text/plain": [
              "<matplotlib.axes._subplots.AxesSubplot at 0x7f6f9ec09850>"
            ]
          },
          "metadata": {},
          "execution_count": 465
        },
        {
          "output_type": "display_data",
          "data": {
            "image/png": "[encoded data removed]",
            "text/plain": [
              "<Figure size 432x288 with 1 Axes>"
            ]
          },
          "metadata": {
            "needs_background": "light"
          }
        }
      ]
    },
    {
      "cell_type": "code",
      "metadata": {
        "colab": {
          "base_uri": "https://localhost:8080/"
        },
        "id": "3lhiPspjX0Kg",
        "outputId": "12115127-d8b1-4210-af69-bfecb2f0166a"
      },
      "source": [
        "len(pd.unique(Traffic_Violations_2['Make']))"
      ],
      "execution_count": 466,
      "outputs": [
        {
          "output_type": "execute_result",
          "data": {
            "text/plain": [
              "3299"
            ]
          },
          "metadata": {},
          "execution_count": 466
        }
      ]
    },
    {
      "cell_type": "code",
      "metadata": {
        "colab": {
          "base_uri": "https://localhost:8080/",
          "height": 282
        },
        "id": "qQFxSEMBgEnk",
        "outputId": "1808bc44-102b-41a6-8c67-53f2e47021e1"
      },
      "source": [
        "Traffic_Violations_2['Make'].value_counts()[:10].plot(kind='barh')"
      ],
      "execution_count": 467,
      "outputs": [
        {
          "output_type": "execute_result",
          "data": {
            "text/plain": [
              "<matplotlib.axes._subplots.AxesSubplot at 0x7f6f992d4650>"
            ]
          },
          "metadata": {},
          "execution_count": 467
        },
        {
          "output_type": "display_data",
          "data": {
            "image/png": "[encoded data removed]",
            "text/plain": [
              "<Figure size 432x288 with 1 Axes>"
            ]
          },
          "metadata": {
            "needs_background": "light"
          }
        }
      ]
    },
    {
      "cell_type": "code",
      "metadata": {
        "colab": {
          "base_uri": "https://localhost:8080/"
        },
        "id": "zG5NTsHbYhhd",
        "outputId": "8b56cd34-0f1b-4a07-9502-6283b8b0f074"
      },
      "source": [
        "len(pd.unique(Traffic_Violations_2['Color']))"
      ],
      "execution_count": 468,
      "outputs": [
        {
          "output_type": "execute_result",
          "data": {
            "text/plain": [
              "26"
            ]
          },
          "metadata": {},
          "execution_count": 468
        }
      ]
    },
    {
      "cell_type": "code",
      "metadata": {
        "id": "1eDGyl-zUfeU"
      },
      "source": [
        ""
      ],
      "execution_count": 468,
      "outputs": []
    },
    {
      "cell_type": "code",
      "metadata": {
        "colab": {
          "base_uri": "https://localhost:8080/",
          "height": 282
        },
        "id": "H5err6fXZR9d",
        "outputId": "b90e5b46-d52f-4b46-889f-c7c3e2e757aa"
      },
      "source": [
        "Traffic_Violations_2['Color'].value_counts()[:10].plot(kind='barh')"
      ],
      "execution_count": 469,
      "outputs": [
        {
          "output_type": "execute_result",
          "data": {
            "text/plain": [
              "<matplotlib.axes._subplots.AxesSubplot at 0x7f6f99248110>"
            ]
          },
          "metadata": {},
          "execution_count": 469
        },
        {
          "output_type": "display_data",
          "data": {
            "image/png": "[encoded data removed]",
            "text/plain": [
              "<Figure size 432x288 with 1 Axes>"
            ]
          },
          "metadata": {
            "needs_background": "light"
          }
        }
      ]
    },
    {
      "cell_type": "code",
      "metadata": {
        "colab": {
          "base_uri": "https://localhost:8080/",
          "height": 325
        },
        "id": "NXlwDfovUfnB",
        "outputId": "cfca6ec2-6c3d-4ad2-e12e-57cf7018b971"
      },
      "source": [
        "hist = Traffic_Violations_2['Color'].hist(bins=30 , xrot=90)\n"
      ],
      "execution_count": 470,
      "outputs": [
        {
          "output_type": "display_data",
          "data": {
            "image/png": "[encoded data removed]",
            "text/plain": [
              "<Figure size 432x288 with 1 Axes>"
            ]
          },
          "metadata": {
            "needs_background": "light"
          }
        }
      ]
    },
    {
      "cell_type": "code",
      "metadata": {
        "colab": {
          "base_uri": "https://localhost:8080/"
        },
        "id": "mMEU9zTId52B",
        "outputId": "ed676149-ef6b-406d-d189-ce073b1d2a09"
      },
      "source": [
        "len(pd.unique(Traffic_Violations_2['Model']))"
      ],
      "execution_count": 471,
      "outputs": [
        {
          "output_type": "execute_result",
          "data": {
            "text/plain": [
              "16125"
            ]
          },
          "metadata": {},
          "execution_count": 471
        }
      ]
    },
    {
      "cell_type": "code",
      "metadata": {
        "colab": {
          "base_uri": "https://localhost:8080/",
          "height": 282
        },
        "id": "wzrst22vd6Bs",
        "outputId": "ab6fc4ca-3729-4b2c-9c81-97d5ee6bc03c"
      },
      "source": [
        "Traffic_Violations_2['Model'].value_counts()[:10].plot(kind='barh')"
      ],
      "execution_count": 472,
      "outputs": [
        {
          "output_type": "execute_result",
          "data": {
            "text/plain": [
              "<matplotlib.axes._subplots.AxesSubplot at 0x7f6f9905c1d0>"
            ]
          },
          "metadata": {},
          "execution_count": 472
        },
        {
          "output_type": "display_data",
          "data": {
            "image/png": "[encoded data removed]",
            "text/plain": [
              "<Figure size 432x288 with 1 Axes>"
            ]
          },
          "metadata": {
            "needs_background": "light"
          }
        }
      ]
    },
    {
      "cell_type": "code",
      "metadata": {
        "colab": {
          "base_uri": "https://localhost:8080/",
          "height": 265
        },
        "id": "nXcgKOGrUfqh",
        "outputId": "1daa5ef3-d631-4699-db63-4edd1c3984f3"
      },
      "source": [
        "hist = Traffic_Violations_2['Race'].hist()"
      ],
      "execution_count": 473,
      "outputs": [
        {
          "output_type": "display_data",
          "data": {
            "image/png": "[encoded data removed]",
            "text/plain": [
              "<Figure size 432x288 with 1 Axes>"
            ]
          },
          "metadata": {
            "needs_background": "light"
          }
        }
      ]
    },
    {
      "cell_type": "code",
      "metadata": {
        "colab": {
          "base_uri": "https://localhost:8080/",
          "height": 265
        },
        "id": "FlOJQDfrUfs1",
        "outputId": "b1b4809b-3436-48bd-db7c-6466406c9f38"
      },
      "source": [
        "hist = Traffic_Violations_2['Gender'].hist()"
      ],
      "execution_count": 474,
      "outputs": [
        {
          "output_type": "display_data",
          "data": {
            "image/png": "[encoded data removed]",
            "text/plain": [
              "<Figure size 432x288 with 1 Axes>"
            ]
          },
          "metadata": {
            "needs_background": "light"
          }
        }
      ]
    },
    {
      "cell_type": "code",
      "metadata": {
        "id": "5sipq4XfUfxr",
        "colab": {
          "base_uri": "https://localhost:8080/"
        },
        "outputId": "319c2242-6f67-454f-8b4c-c1f5ab78922f"
      },
      "source": [
        "Traffic_Violations_2.Description.unique()"
      ],
      "execution_count": 475,
      "outputs": [
        {
          "output_type": "execute_result",
          "data": {
            "text/plain": [
              "array(['DRIVER FAILURE TO OBEY PROPERLY PLACED TRAFFIC CONTROL DEVICE INSTRUCTIONS',\n",
              "       'FAILURE STOP AND YIELD AT THRU HWY',\n",
              "       'FAILURE YIELD RIGHT OF WAY ON U TURN', ...,\n",
              "       'riding without helmet',\n",
              "       'driver using hands to use handheld telephone while vehicle is in motion',\n",
              "       'tail lights inoperative'], dtype=object)"
            ]
          },
          "metadata": {},
          "execution_count": 475
        }
      ]
    },
    {
      "cell_type": "code",
      "metadata": {
        "id": "Oeqbct5GUf1G",
        "colab": {
          "base_uri": "https://localhost:8080/"
        },
        "outputId": "4e62ba80-dcd8-4d7d-fa7a-935a9ad06199"
      },
      "source": [
        "len(pd.unique(Traffic_Violations_2['Description']))"
      ],
      "execution_count": 476,
      "outputs": [
        {
          "output_type": "execute_result",
          "data": {
            "text/plain": [
              "11653"
            ]
          },
          "metadata": {},
          "execution_count": 476
        }
      ]
    },
    {
      "cell_type": "code",
      "metadata": {
        "id": "yzxaD4SpUf3x",
        "colab": {
          "base_uri": "https://localhost:8080/",
          "height": 282
        },
        "outputId": "e18b9960-f7d2-43f2-c7b8-f607d1c71603"
      },
      "source": [
        "Traffic_Violations_2['Description'].value_counts()[:10].plot(kind='barh')"
      ],
      "execution_count": 477,
      "outputs": [
        {
          "output_type": "execute_result",
          "data": {
            "text/plain": [
              "<matplotlib.axes._subplots.AxesSubplot at 0x7f6f98ef1850>"
            ]
          },
          "metadata": {},
          "execution_count": 477
        },
        {
          "output_type": "display_data",
          "data": {
            "image/png": "[encoded data removed]",
            "text/plain": [
              "<Figure size 432x288 with 1 Axes>"
            ]
          },
          "metadata": {
            "needs_background": "light"
          }
        }
      ]
    },
    {
      "cell_type": "code",
      "metadata": {
        "colab": {
          "base_uri": "https://localhost:8080/"
        },
        "id": "51nGQs6_j_5y",
        "outputId": "2830d81c-5c5c-4b36-a513-4f23f762bd82"
      },
      "source": [
        "Traffic_Violations_2.Location.unique()\n"
      ],
      "execution_count": 478,
      "outputs": [
        {
          "output_type": "execute_result",
          "data": {
            "text/plain": [
              "array(['WISCONSIN AVE@ ELM ST', 'CHRISTOPHER AVE/MONTGOMERY VILLAGE AVE',\n",
              "       'CHERRY HILL RD./CALVERTON BLVD.', ...,\n",
              "       'SEVEN LOCKS ROAD/ MONTROSE ROAD',\n",
              "       'WOODFIELD ROAD HADLEY FARMS DRIVE', '370 AT SHADY GROVE ROAD'],\n",
              "      dtype=object)"
            ]
          },
          "metadata": {},
          "execution_count": 478
        }
      ]
    },
    {
      "cell_type": "code",
      "metadata": {
        "colab": {
          "base_uri": "https://localhost:8080/"
        },
        "id": "cueHgfTKkiF6",
        "outputId": "23574bbd-557a-4964-98b4-6cf214e658a8"
      },
      "source": [
        "len(pd.unique(Traffic_Violations_2['Location']))"
      ],
      "execution_count": 479,
      "outputs": [
        {
          "output_type": "execute_result",
          "data": {
            "text/plain": [
              "167471"
            ]
          },
          "metadata": {},
          "execution_count": 479
        }
      ]
    },
    {
      "cell_type": "code",
      "metadata": {
        "colab": {
          "base_uri": "https://localhost:8080/",
          "height": 282
        },
        "id": "lUzt3g0IkiK8",
        "outputId": "cf0e4f64-151d-4216-d707-6f8a5dd853ae"
      },
      "source": [
        "Traffic_Violations_2['Location'].value_counts()[:15].plot(kind='barh')"
      ],
      "execution_count": 480,
      "outputs": [
        {
          "output_type": "execute_result",
          "data": {
            "text/plain": [
              "<matplotlib.axes._subplots.AxesSubplot at 0x7f6f98e6d5d0>"
            ]
          },
          "metadata": {},
          "execution_count": 480
        },
        {
          "output_type": "display_data",
          "data": {
            "image/png": "[encoded data removed]",
            "text/plain": [
              "<Figure size 432x288 with 1 Axes>"
            ]
          },
          "metadata": {
            "needs_background": "light"
          }
        }
      ]
    },
    {
      "cell_type": "code",
      "metadata": {
        "colab": {
          "base_uri": "https://localhost:8080/"
        },
        "id": "q8eRdCJKkiQY",
        "outputId": "4d007639-0f03-4fb9-fb37-5268b223fac7"
      },
      "source": [
        "len(pd.unique(Traffic_Violations_2['Driver City']))"
      ],
      "execution_count": 481,
      "outputs": [
        {
          "output_type": "execute_result",
          "data": {
            "text/plain": [
              "6870"
            ]
          },
          "metadata": {},
          "execution_count": 481
        }
      ]
    },
    {
      "cell_type": "code",
      "metadata": {
        "colab": {
          "base_uri": "https://localhost:8080/",
          "height": 282
        },
        "id": "wFa3fEo_mMVV",
        "outputId": "c8eab45b-ba24-4ebf-8176-ffdd023160e0"
      },
      "source": [
        "Traffic_Violations_2['Driver City'].value_counts()[:10].plot(kind='barh')"
      ],
      "execution_count": 482,
      "outputs": [
        {
          "output_type": "execute_result",
          "data": {
            "text/plain": [
              "<matplotlib.axes._subplots.AxesSubplot at 0x7f6f98df9210>"
            ]
          },
          "metadata": {},
          "execution_count": 482
        },
        {
          "output_type": "display_data",
          "data": {
            "image/png": "[encoded data removed]",
            "text/plain": [
              "<Figure size 432x288 with 1 Axes>"
            ]
          },
          "metadata": {
            "needs_background": "light"
          }
        }
      ]
    },
    {
      "cell_type": "code",
      "metadata": {
        "colab": {
          "base_uri": "https://localhost:8080/"
        },
        "id": "IM96JR0fmMam",
        "outputId": "b0186c88-d9a2-47d2-aa41-b85f715e950a"
      },
      "source": [
        "len(pd.unique(Traffic_Violations_2['Driver State']))"
      ],
      "execution_count": 483,
      "outputs": [
        {
          "output_type": "execute_result",
          "data": {
            "text/plain": [
              "67"
            ]
          },
          "metadata": {},
          "execution_count": 483
        }
      ]
    },
    {
      "cell_type": "code",
      "metadata": {
        "colab": {
          "base_uri": "https://localhost:8080/",
          "height": 295
        },
        "id": "x9YrCgJgmMfq",
        "outputId": "7e550588-332b-4cf1-dec9-532f4218efb8"
      },
      "source": [
        "Traffic_Violations_2['Driver State'].value_counts()[:5].plot(kind='barh')"
      ],
      "execution_count": 484,
      "outputs": [
        {
          "output_type": "execute_result",
          "data": {
            "text/plain": [
              "<matplotlib.axes._subplots.AxesSubplot at 0x7f6f98d24c90>"
            ]
          },
          "metadata": {},
          "execution_count": 484
        },
        {
          "output_type": "display_data",
          "data": {
            "image/png": "[encoded data removed]",
            "text/plain": [
              "<Figure size 432x288 with 1 Axes>"
            ]
          },
          "metadata": {
            "needs_background": "light"
          }
        }
      ]
    },
    {
      "cell_type": "code",
      "metadata": {
        "colab": {
          "base_uri": "https://localhost:8080/"
        },
        "id": "2dgusCztmMlQ",
        "outputId": "222d0e96-d136-4bc2-c91b-f6421c72d527"
      },
      "source": [
        "len(pd.unique(Traffic_Violations_2['DL State']))"
      ],
      "execution_count": 485,
      "outputs": [
        {
          "output_type": "execute_result",
          "data": {
            "text/plain": [
              "70"
            ]
          },
          "metadata": {},
          "execution_count": 485
        }
      ]
    },
    {
      "cell_type": "code",
      "metadata": {
        "colab": {
          "base_uri": "https://localhost:8080/",
          "height": 295
        },
        "id": "Eex0C419mMqY",
        "outputId": "286cde3e-920b-4b74-e1bd-698bf8418989"
      },
      "source": [
        "Traffic_Violations_2['DL State'].value_counts()[:5].plot(kind='barh')"
      ],
      "execution_count": 486,
      "outputs": [
        {
          "output_type": "execute_result",
          "data": {
            "text/plain": [
              "<matplotlib.axes._subplots.AxesSubplot at 0x7f6f98d01350>"
            ]
          },
          "metadata": {},
          "execution_count": 486
        },
        {
          "output_type": "display_data",
          "data": {
            "image/png": "[encoded data removed]",
            "text/plain": [
              "<Figure size 432x288 with 1 Axes>"
            ]
          },
          "metadata": {
            "needs_background": "light"
          }
        }
      ]
    },
    {
      "cell_type": "code",
      "metadata": {
        "colab": {
          "base_uri": "https://localhost:8080/"
        },
        "id": "ZrPg5Wo_mMwP",
        "outputId": "93998a1e-fef0-4f77-b0a6-9ecf6090d0dd"
      },
      "source": [
        "len(pd.unique(Traffic_Violations_2['Arrest Type']))"
      ],
      "execution_count": 487,
      "outputs": [
        {
          "output_type": "execute_result",
          "data": {
            "text/plain": [
              "19"
            ]
          },
          "metadata": {},
          "execution_count": 487
        }
      ]
    },
    {
      "cell_type": "code",
      "metadata": {
        "colab": {
          "base_uri": "https://localhost:8080/"
        },
        "id": "Q8_Kprz9kiUm",
        "outputId": "d636e319-25e3-40a9-868d-c61a65f97e71"
      },
      "source": [
        "Traffic_Violations_2['Arrest Type'].unique()"
      ],
      "execution_count": 488,
      "outputs": [
        {
          "output_type": "execute_result",
          "data": {
            "text/plain": [
              "array(['A - Marked Patrol', 'Q - Marked Laser', 'B - Unmarked Patrol',\n",
              "       'M - Marked (Off-Duty)', 'E - Marked Stationary Radar',\n",
              "       'L - Motorcycle', 'R - Unmarked Laser', 'O - Foot Patrol',\n",
              "       'S - License Plate Recognition', 'D - Unmarked VASCAR',\n",
              "       'I - Marked Moving Radar (Moving)',\n",
              "       'H - Unmarked Moving Radar (Stationary)',\n",
              "       'G - Marked Moving Radar (Stationary)',\n",
              "       'F - Unmarked Stationary Radar', 'P - Mounted Patrol',\n",
              "       'C - Marked VASCAR', 'J - Unmarked Moving Radar (Moving)',\n",
              "       'N - Unmarked (Off-Duty)', 'K - Aircraft Assist'], dtype=object)"
            ]
          },
          "metadata": {},
          "execution_count": 488
        }
      ]
    },
    {
      "cell_type": "code",
      "metadata": {
        "colab": {
          "base_uri": "https://localhost:8080/",
          "height": 282
        },
        "id": "u3KyVAhKnaQb",
        "outputId": "7b721f17-6c4c-4dd2-abf3-a6d712c3d610"
      },
      "source": [
        "Traffic_Violations_2['Arrest Type'].value_counts()[:5].plot(kind='barh')"
      ],
      "execution_count": 489,
      "outputs": [
        {
          "output_type": "execute_result",
          "data": {
            "text/plain": [
              "<matplotlib.axes._subplots.AxesSubplot at 0x7f6f98c8c4d0>"
            ]
          },
          "metadata": {},
          "execution_count": 489
        },
        {
          "output_type": "display_data",
          "data": {
            "image/png": "[encoded data removed]",
            "text/plain": [
              "<Figure size 432x288 with 1 Axes>"
            ]
          },
          "metadata": {
            "needs_background": "light"
          }
        }
      ]
    },
    {
      "cell_type": "code",
      "metadata": {
        "id": "x7xE1U3qnkI6"
      },
      "source": [
        "Time_Of_Stop = Traffic_Violations_2['Time Of Stop']"
      ],
      "execution_count": 490,
      "outputs": []
    },
    {
      "cell_type": "code",
      "metadata": {
        "colab": {
          "base_uri": "https://localhost:8080/"
        },
        "id": "r-HT970MsmZj",
        "outputId": "965fb541-f8fc-4b5c-92bc-6b7667cf9a00"
      },
      "source": [
        "type(Time_Of_Stop)"
      ],
      "execution_count": 491,
      "outputs": [
        {
          "output_type": "execute_result",
          "data": {
            "text/plain": [
              "pandas.core.series.Series"
            ]
          },
          "metadata": {},
          "execution_count": 491
        }
      ]
    },
    {
      "cell_type": "code",
      "metadata": {
        "colab": {
          "base_uri": "https://localhost:8080/"
        },
        "id": "zbxWu1h93Mp5",
        "outputId": "af923980-21c8-477d-85e1-439e882a7c16"
      },
      "source": [
        "Time_Of_Stop"
      ],
      "execution_count": 492,
      "outputs": [
        {
          "output_type": "execute_result",
          "data": {
            "text/plain": [
              "1          10:19:00\n",
              "2          12:52:00\n",
              "3          09:22:00\n",
              "6          13:23:00\n",
              "10         20:10:00\n",
              "             ...   \n",
              "1291736    09:40:00\n",
              "1291737    09:51:00\n",
              "1291738    10:21:00\n",
              "1291739    10:34:00\n",
              "1291740    12:57:00\n",
              "Name: Time Of Stop, Length: 1120327, dtype: object"
            ]
          },
          "metadata": {},
          "execution_count": 492
        }
      ]
    },
    {
      "cell_type": "code",
      "metadata": {
        "id": "hFtVu8THzAG1"
      },
      "source": [
        "Time_Of_Stop = pd.to_datetime(Time_Of_Stop)\n",
        "  "
      ],
      "execution_count": 493,
      "outputs": []
    },
    {
      "cell_type": "code",
      "metadata": {
        "colab": {
          "base_uri": "https://localhost:8080/"
        },
        "id": "DZ8BP7OdzH4P",
        "outputId": "00db6f76-b78a-4dce-9295-c2a9a6a9cbbd"
      },
      "source": [
        "type(Time_Of_Stop)"
      ],
      "execution_count": 494,
      "outputs": [
        {
          "output_type": "execute_result",
          "data": {
            "text/plain": [
              "pandas.core.series.Series"
            ]
          },
          "metadata": {},
          "execution_count": 494
        }
      ]
    },
    {
      "cell_type": "code",
      "metadata": {
        "colab": {
          "base_uri": "https://localhost:8080/"
        },
        "id": "9DlhGV8N28sj",
        "outputId": "a5037cf0-e36c-47d0-a28b-0a2ae0478f87"
      },
      "source": [
        "Time_Of_Stop"
      ],
      "execution_count": 495,
      "outputs": [
        {
          "output_type": "execute_result",
          "data": {
            "text/plain": [
              "1         2021-09-27 10:19:00\n",
              "2         2021-09-27 12:52:00\n",
              "3         2021-09-27 09:22:00\n",
              "6         2021-09-27 13:23:00\n",
              "10        2021-09-27 20:10:00\n",
              "                  ...        \n",
              "1291736   2021-09-27 09:40:00\n",
              "1291737   2021-09-27 09:51:00\n",
              "1291738   2021-09-27 10:21:00\n",
              "1291739   2021-09-27 10:34:00\n",
              "1291740   2021-09-27 12:57:00\n",
              "Name: Time Of Stop, Length: 1120327, dtype: datetime64[ns]"
            ]
          },
          "metadata": {},
          "execution_count": 495
        }
      ]
    },
    {
      "cell_type": "code",
      "metadata": {
        "id": "O1GkUeRL0WZU"
      },
      "source": [
        "Time_Of_Stop = Time_Of_Stop.apply(lambda x: x.hour)"
      ],
      "execution_count": 496,
      "outputs": []
    },
    {
      "cell_type": "code",
      "metadata": {
        "colab": {
          "base_uri": "https://localhost:8080/"
        },
        "id": "6bOsK4jfsocC",
        "outputId": "36125474-0c24-40a1-d1ae-f036860b1ee5"
      },
      "source": [
        "Time_Of_Stop.unique()"
      ],
      "execution_count": 497,
      "outputs": [
        {
          "output_type": "execute_result",
          "data": {
            "text/plain": [
              "array([10, 12,  9, 13, 20, 16, 21,  0, 23, 17,  8, 11,  1, 14, 22,  5, 19,\n",
              "        2, 18, 15,  3,  7,  6,  4])"
            ]
          },
          "metadata": {},
          "execution_count": 497
        }
      ]
    },
    {
      "cell_type": "code",
      "metadata": {
        "colab": {
          "base_uri": "https://localhost:8080/"
        },
        "id": "WDWApKxuu7Fg",
        "outputId": "4633c22f-2f88-42c1-9f71-443d9ae25c5e"
      },
      "source": [
        "len(Time_Of_Stop.unique())"
      ],
      "execution_count": 498,
      "outputs": [
        {
          "output_type": "execute_result",
          "data": {
            "text/plain": [
              "24"
            ]
          },
          "metadata": {},
          "execution_count": 498
        }
      ]
    },
    {
      "cell_type": "code",
      "metadata": {
        "colab": {
          "base_uri": "https://localhost:8080/",
          "height": 282
        },
        "id": "ETijqVoixTk5",
        "outputId": "506be0e7-24af-40cf-e38e-d07ce71c8a81"
      },
      "source": [
        "Time_Of_Stop.value_counts().plot(kind='barh')"
      ],
      "execution_count": 499,
      "outputs": [
        {
          "output_type": "execute_result",
          "data": {
            "text/plain": [
              "<matplotlib.axes._subplots.AxesSubplot at 0x7f6f9e47e110>"
            ]
          },
          "metadata": {},
          "execution_count": 499
        },
        {
          "output_type": "display_data",
          "data": {
            "image/png": "[encoded data removed]",
            "text/plain": [
              "<Figure size 432x288 with 1 Axes>"
            ]
          },
          "metadata": {
            "needs_background": "light"
          }
        }
      ]
    },
    {
      "cell_type": "code",
      "metadata": {
        "id": "5exKGbPk0lU-"
      },
      "source": [
        ""
      ],
      "execution_count": 499,
      "outputs": []
    },
    {
      "cell_type": "markdown",
      "metadata": {
        "id": "33E3tKB4mT7K"
      },
      "source": [
        "**From Here I started work for the second part of the homework**\n",
        "\n",
        "**Homework 4**"
      ]
    },
    {
      "cell_type": "code",
      "metadata": {
        "id": "49qAJoJ30lZL"
      },
      "source": [
        ""
      ],
      "execution_count": 499,
      "outputs": []
    },
    {
      "cell_type": "code",
      "metadata": {
        "id": "7WTh2MEPoQYH"
      },
      "source": [
        ""
      ],
      "execution_count": 499,
      "outputs": []
    },
    {
      "cell_type": "code",
      "metadata": {
        "id": "6VEgNcSJoQec"
      },
      "source": [
        ""
      ],
      "execution_count": 499,
      "outputs": []
    },
    {
      "cell_type": "code",
      "metadata": {
        "colab": {
          "base_uri": "https://localhost:8080/"
        },
        "id": "WGh3miej0leV",
        "outputId": "4cf9b2b9-e6b2-4dae-b0f0-a864a42ce2be"
      },
      "source": [
        "Traffic_Violations_2['Violation Type'].unique()"
      ],
      "execution_count": 500,
      "outputs": [
        {
          "output_type": "execute_result",
          "data": {
            "text/plain": [
              "array(['Citation', 'Warning', 'SERO'], dtype=object)"
            ]
          },
          "metadata": {},
          "execution_count": 500
        }
      ]
    },
    {
      "cell_type": "code",
      "metadata": {
        "colab": {
          "base_uri": "https://localhost:8080/"
        },
        "id": "0HZZNn7L0liD",
        "outputId": "d04678cd-7faa-4721-e0ee-f7ec0d30fc4e"
      },
      "source": [
        "len(pd.unique(Traffic_Violations_2['Violation Type']))"
      ],
      "execution_count": 501,
      "outputs": [
        {
          "output_type": "execute_result",
          "data": {
            "text/plain": [
              "3"
            ]
          },
          "metadata": {},
          "execution_count": 501
        }
      ]
    },
    {
      "cell_type": "code",
      "metadata": {
        "colab": {
          "base_uri": "https://localhost:8080/",
          "height": 282
        },
        "id": "3G8Ty8lW0llE",
        "outputId": "965bd6ea-e9d3-4949-e5cf-365fab5dbd1e"
      },
      "source": [
        "Traffic_Violations_2['Violation Type'].value_counts()[:5].plot(kind='barh')"
      ],
      "execution_count": 502,
      "outputs": [
        {
          "output_type": "execute_result",
          "data": {
            "text/plain": [
              "<matplotlib.axes._subplots.AxesSubplot at 0x7f6f9eaee510>"
            ]
          },
          "metadata": {},
          "execution_count": 502
        },
        {
          "output_type": "display_data",
          "data": {
            "image/png": "[encoded data removed]",
            "text/plain": [
              "<Figure size 432x288 with 1 Axes>"
            ]
          },
          "metadata": {
            "needs_background": "light"
          }
        }
      ]
    },
    {
      "cell_type": "code",
      "metadata": {
        "id": "LNsdH4EpzREP"
      },
      "source": [
        "Violation_Type_table = Traffic_Violations_2['Violation Type']"
      ],
      "execution_count": 503,
      "outputs": []
    },
    {
      "cell_type": "code",
      "metadata": {
        "colab": {
          "base_uri": "https://localhost:8080/"
        },
        "id": "644KirYe0cWI",
        "outputId": "f91624a8-d082-4e0d-adc4-edb4f0b841d7"
      },
      "source": [
        "Violation_Type_table"
      ],
      "execution_count": 504,
      "outputs": [
        {
          "output_type": "execute_result",
          "data": {
            "text/plain": [
              "1          Citation\n",
              "2          Citation\n",
              "3          Citation\n",
              "6          Citation\n",
              "10         Citation\n",
              "             ...   \n",
              "1291736     Warning\n",
              "1291737     Warning\n",
              "1291738     Warning\n",
              "1291739     Warning\n",
              "1291740     Warning\n",
              "Name: Violation Type, Length: 1120327, dtype: object"
            ]
          },
          "metadata": {},
          "execution_count": 504
        }
      ]
    },
    {
      "cell_type": "code",
      "metadata": {
        "id": "2f3l1ACX0ch9"
      },
      "source": [
        "Violation_Type_table_2 = pd.get_dummies(Violation_Type_table)\n"
      ],
      "execution_count": 505,
      "outputs": []
    },
    {
      "cell_type": "code",
      "metadata": {
        "colab": {
          "base_uri": "https://localhost:8080/",
          "height": 419
        },
        "id": "w_HPPLIR1PBy",
        "outputId": "942efe15-3214-4939-f5e1-165a45249d19"
      },
      "source": [
        "Violation_Type_table_2"
      ],
      "execution_count": 506,
      "outputs": [
        {
          "output_type": "execute_result",
          "data": {
            "text/html": [
              "<div>\n",
              "<style scoped>\n",
              "    .dataframe tbody tr th:only-of-type {\n",
              "        vertical-align: middle;\n",
              "    }\n",
              "\n",
              "    .dataframe tbody tr th {\n",
              "        vertical-align: top;\n",
              "    }\n",
              "\n",
              "    .dataframe thead th {\n",
              "        text-align: right;\n",
              "    }\n",
              "</style>\n",
              "<table border=\"1\" class=\"dataframe\">\n",
              "  <thead>\n",
              "    <tr style=\"text-align: right;\">\n",
              "      <th></th>\n",
              "      <th>Citation</th>\n",
              "      <th>SERO</th>\n",
              "      <th>Warning</th>\n",
              "    </tr>\n",
              "  </thead>\n",
              "  <tbody>\n",
              "    <tr>\n",
              "      <th>1</th>\n",
              "      <td>1</td>\n",
              "      <td>0</td>\n",
              "      <td>0</td>\n",
              "    </tr>\n",
              "    <tr>\n",
              "      <th>2</th>\n",
              "      <td>1</td>\n",
              "      <td>0</td>\n",
              "      <td>0</td>\n",
              "    </tr>\n",
              "    <tr>\n",
              "      <th>3</th>\n",
              "      <td>1</td>\n",
              "      <td>0</td>\n",
              "      <td>0</td>\n",
              "    </tr>\n",
              "    <tr>\n",
              "      <th>6</th>\n",
              "      <td>1</td>\n",
              "      <td>0</td>\n",
              "      <td>0</td>\n",
              "    </tr>\n",
              "    <tr>\n",
              "      <th>10</th>\n",
              "      <td>1</td>\n",
              "      <td>0</td>\n",
              "      <td>0</td>\n",
              "    </tr>\n",
              "    <tr>\n",
              "      <th>...</th>\n",
              "      <td>...</td>\n",
              "      <td>...</td>\n",
              "      <td>...</td>\n",
              "    </tr>\n",
              "    <tr>\n",
              "      <th>1291736</th>\n",
              "      <td>0</td>\n",
              "      <td>0</td>\n",
              "      <td>1</td>\n",
              "    </tr>\n",
              "    <tr>\n",
              "      <th>1291737</th>\n",
              "      <td>0</td>\n",
              "      <td>0</td>\n",
              "      <td>1</td>\n",
              "    </tr>\n",
              "    <tr>\n",
              "      <th>1291738</th>\n",
              "      <td>0</td>\n",
              "      <td>0</td>\n",
              "      <td>1</td>\n",
              "    </tr>\n",
              "    <tr>\n",
              "      <th>1291739</th>\n",
              "      <td>0</td>\n",
              "      <td>0</td>\n",
              "      <td>1</td>\n",
              "    </tr>\n",
              "    <tr>\n",
              "      <th>1291740</th>\n",
              "      <td>0</td>\n",
              "      <td>0</td>\n",
              "      <td>1</td>\n",
              "    </tr>\n",
              "  </tbody>\n",
              "</table>\n",
              "<p>1120327 rows × 3 columns</p>\n",
              "</div>"
            ],
            "text/plain": [
              "         Citation  SERO  Warning\n",
              "1               1     0        0\n",
              "2               1     0        0\n",
              "3               1     0        0\n",
              "6               1     0        0\n",
              "10              1     0        0\n",
              "...           ...   ...      ...\n",
              "1291736         0     0        1\n",
              "1291737         0     0        1\n",
              "1291738         0     0        1\n",
              "1291739         0     0        1\n",
              "1291740         0     0        1\n",
              "\n",
              "[1120327 rows x 3 columns]"
            ]
          },
          "metadata": {},
          "execution_count": 506
        }
      ]
    },
    {
      "cell_type": "code",
      "metadata": {
        "colab": {
          "base_uri": "https://localhost:8080/"
        },
        "id": "ZRlrQVhb1jlx",
        "outputId": "b00f23a7-cbf9-490c-de91-6f55706a99b0"
      },
      "source": [
        "sum(Violation_Type_table_2.Citation)"
      ],
      "execution_count": 507,
      "outputs": [
        {
          "output_type": "execute_result",
          "data": {
            "text/plain": [
              "542482"
            ]
          },
          "metadata": {},
          "execution_count": 507
        }
      ]
    },
    {
      "cell_type": "code",
      "metadata": {
        "colab": {
          "base_uri": "https://localhost:8080/"
        },
        "id": "UGdiy7B91jzU",
        "outputId": "3570628c-e02e-4dd0-a383-79524d33bc4d"
      },
      "source": [
        "sum(Violation_Type_table_2.Warning)"
      ],
      "execution_count": 508,
      "outputs": [
        {
          "output_type": "execute_result",
          "data": {
            "text/plain": [
              "577822"
            ]
          },
          "metadata": {},
          "execution_count": 508
        }
      ]
    },
    {
      "cell_type": "code",
      "metadata": {
        "colab": {
          "base_uri": "https://localhost:8080/"
        },
        "id": "yb9Dv0zb1wCP",
        "outputId": "c9ccc5c1-f9f9-41c7-e12e-4860b6dec1d0"
      },
      "source": [
        "sum(Violation_Type_table_2.SERO)"
      ],
      "execution_count": 509,
      "outputs": [
        {
          "output_type": "execute_result",
          "data": {
            "text/plain": [
              "23"
            ]
          },
          "metadata": {},
          "execution_count": 509
        }
      ]
    },
    {
      "cell_type": "code",
      "metadata": {
        "colab": {
          "base_uri": "https://localhost:8080/"
        },
        "id": "UP2oNuxu3o76",
        "outputId": "409fb630-a2d6-4382-cb7c-7798ed677cab"
      },
      "source": [
        "P_Citation = 542482/1120327\n",
        "N_Warning = 577822/1120327\n",
        "P_Citation"
      ],
      "execution_count": 510,
      "outputs": [
        {
          "output_type": "execute_result",
          "data": {
            "text/plain": [
              "0.4842175543390457"
            ]
          },
          "metadata": {},
          "execution_count": 510
        }
      ]
    },
    {
      "cell_type": "code",
      "metadata": {
        "colab": {
          "base_uri": "https://localhost:8080/"
        },
        "id": "ANPlTIVu3pJ1",
        "outputId": "6130228c-6cb1-4bde-9cf0-fb5f33f92b76"
      },
      "source": [
        "N_Warning"
      ],
      "execution_count": 511,
      "outputs": [
        {
          "output_type": "execute_result",
          "data": {
            "text/plain": [
              "0.5157619159406137"
            ]
          },
          "metadata": {},
          "execution_count": 511
        }
      ]
    },
    {
      "cell_type": "code",
      "metadata": {
        "id": "FEI9tVJz-ppY"
      },
      "source": [
        ""
      ],
      "execution_count": 511,
      "outputs": []
    },
    {
      "cell_type": "code",
      "metadata": {
        "colab": {
          "base_uri": "https://localhost:8080/",
          "height": 949
        },
        "id": "C25MEjj2FlsT",
        "outputId": "0c51af6b-5fbc-450c-c6f2-b0ef0af4dffc"
      },
      "source": [
        "plt.figure(figsize=(15,16))\n",
        "sn.countplot(y='Color', hue='Violation Type', data = Traffic_Violations_2)\n",
        "plt.legend(loc='center right', title='Violation Type')"
      ],
      "execution_count": 512,
      "outputs": [
        {
          "output_type": "execute_result",
          "data": {
            "text/plain": [
              "<matplotlib.legend.Legend at 0x7f6f98be8050>"
            ]
          },
          "metadata": {},
          "execution_count": 512
        },
        {
          "output_type": "display_data",
          "data": {
            "image/png": "[encoded data removed]",
            "text/plain": [
              "<Figure size 1080x1152 with 1 Axes>"
            ]
          },
          "metadata": {
            "needs_background": "light"
          }
        }
      ]
    },
    {
      "cell_type": "code",
      "metadata": {
        "colab": {
          "base_uri": "https://localhost:8080/",
          "height": 623
        },
        "id": "cAGZpiOloXKl",
        "outputId": "e1d8140d-1a2c-45ca-c4ab-b1f5aeb18fd1"
      },
      "source": [
        "plt.figure(figsize=(12,10))\n",
        "sn.countplot(y='Race', hue='Violation Type', data = Traffic_Violations_2)\n",
        "plt.legend(loc='center right', title='Violation Type')"
      ],
      "execution_count": 513,
      "outputs": [
        {
          "output_type": "execute_result",
          "data": {
            "text/plain": [
              "<matplotlib.legend.Legend at 0x7f6f9e5d6590>"
            ]
          },
          "metadata": {},
          "execution_count": 513
        },
        {
          "output_type": "display_data",
          "data": {
            "image/png": "[encoded data removed]",
            "text/plain": [
              "<Figure size 864x720 with 1 Axes>"
            ]
          },
          "metadata": {
            "needs_background": "light"
          }
        }
      ]
    },
    {
      "cell_type": "code",
      "metadata": {
        "colab": {
          "base_uri": "https://localhost:8080/",
          "height": 514
        },
        "id": "DDjqDEx-olhV",
        "outputId": "d86dbb26-f1ea-4efa-c7d8-ec8ebf92b091"
      },
      "source": [
        "plt.figure(figsize=(10,8))\n",
        "sn.countplot(y='Gender', hue='Violation Type', data = Traffic_Violations_2)\n",
        "plt.legend(loc='upper right', title='Violation Type')"
      ],
      "execution_count": 514,
      "outputs": [
        {
          "output_type": "execute_result",
          "data": {
            "text/plain": [
              "<matplotlib.legend.Legend at 0x7f6f9cb97e50>"
            ]
          },
          "metadata": {},
          "execution_count": 514
        },
        {
          "output_type": "display_data",
          "data": {
            "image/png": "[encoded data removed]",
            "text/plain": [
              "<Figure size 720x576 with 1 Axes>"
            ]
          },
          "metadata": {
            "needs_background": "light"
          }
        }
      ]
    },
    {
      "cell_type": "code",
      "metadata": {
        "id": "JADEluRvol0G"
      },
      "source": [
        ""
      ],
      "execution_count": 514,
      "outputs": []
    },
    {
      "cell_type": "code",
      "metadata": {
        "colab": {
          "base_uri": "https://localhost:8080/",
          "height": 297
        },
        "id": "yzRyC3b9q5RA",
        "outputId": "b8f24aaf-70a9-471e-e74a-fcefcac4b9ec"
      },
      "source": [
        "# plt.figure(figsize=(12,12))\n",
        "sn.catplot(x=\"Gender\", hue=\"Violation Type\", col=\"Race\",\n",
        "                data=Traffic_Violations_2, kind=\"count\" , height=4, aspect=.6);"
      ],
      "execution_count": 515,
      "outputs": [
        {
          "output_type": "display_data",
          "data": {
            "image/png": "[encoded data removed]",
            "text/plain": [
              "<Figure size 1114.3x288 with 6 Axes>"
            ]
          },
          "metadata": {
            "needs_background": "light"
          }
        }
      ]
    },
    {
      "cell_type": "code",
      "metadata": {
        "id": "D1jytBV0vMls"
      },
      "source": [
        ""
      ],
      "execution_count": 515,
      "outputs": []
    },
    {
      "cell_type": "code",
      "metadata": {
        "colab": {
          "base_uri": "https://localhost:8080/"
        },
        "id": "lEpGvA_I00Rb",
        "outputId": "84ef2467-b981-4ef0-c820-5f1ee3061de9"
      },
      "source": [
        "Traffic_Violations_2['Violation Type']=Traffic_Violations_2['Violation Type'].replace(to_replace='Citation',value='1')\n",
        "Traffic_Violations_2['Violation Type']=Traffic_Violations_2['Violation Type'].replace(to_replace='Warning',value='0')\n",
        "Traffic_Violations_2['Violation Type']=Traffic_Violations_2['Violation Type'].replace(to_replace='SERO',value='2')"
      ],
      "execution_count": 516,
      "outputs": [
        {
          "output_type": "stream",
          "name": "stderr",
          "text": [
            "/usr/local/lib/python3.7/dist-packages/ipykernel_launcher.py:1: SettingWithCopyWarning: \n",
            "A value is trying to be set on a copy of a slice from a DataFrame.\n",
            "Try using .loc[row_indexer,col_indexer] = value instead\n",
            "\n",
            "See the caveats in the documentation: https://pandas.pydata.org/pandas-docs/stable/user_guide/indexing.html#returning-a-view-versus-a-copy\n",
            "  \"\"\"Entry point for launching an IPython kernel.\n",
            "/usr/local/lib/python3.7/dist-packages/ipykernel_launcher.py:2: SettingWithCopyWarning: \n",
            "A value is trying to be set on a copy of a slice from a DataFrame.\n",
            "Try using .loc[row_indexer,col_indexer] = value instead\n",
            "\n",
            "See the caveats in the documentation: https://pandas.pydata.org/pandas-docs/stable/user_guide/indexing.html#returning-a-view-versus-a-copy\n",
            "  \n",
            "/usr/local/lib/python3.7/dist-packages/ipykernel_launcher.py:3: SettingWithCopyWarning: \n",
            "A value is trying to be set on a copy of a slice from a DataFrame.\n",
            "Try using .loc[row_indexer,col_indexer] = value instead\n",
            "\n",
            "See the caveats in the documentation: https://pandas.pydata.org/pandas-docs/stable/user_guide/indexing.html#returning-a-view-versus-a-copy\n",
            "  This is separate from the ipykernel package so we can avoid doing imports until\n"
          ]
        }
      ]
    },
    {
      "cell_type": "code",
      "metadata": {
        "colab": {
          "base_uri": "https://localhost:8080/"
        },
        "id": "1Xxj0-_300XO",
        "outputId": "c23c38d4-7f89-4138-876e-eec392708694"
      },
      "source": [
        "Traffic_Violations_2['SubAgency'].unique()"
      ],
      "execution_count": 517,
      "outputs": [
        {
          "output_type": "execute_result",
          "data": {
            "text/plain": [
              "array(['2nd district, Bethesda',\n",
              "       '6th district, Gaithersburg / Montgomery Village',\n",
              "       '3rd district, Silver Spring', '4th district, Wheaton',\n",
              "       '1st district, Rockville', '5th district, Germantown',\n",
              "       'Headquarters and Special Operations'], dtype=object)"
            ]
          },
          "metadata": {},
          "execution_count": 517
        }
      ]
    },
    {
      "cell_type": "code",
      "metadata": {
        "colab": {
          "base_uri": "https://localhost:8080/"
        },
        "id": "Ea_7ZhxgAa9z",
        "outputId": "650c1859-30ee-49dc-edba-c11c97998dae"
      },
      "source": [
        "Traffic_Violations_2['Belts']=Traffic_Violations_2['Belts'].replace(to_replace='Yes',value='1')\n",
        "Traffic_Violations_2['Belts']=Traffic_Violations_2['Belts'].replace(to_replace='No',value='0')\n",
        "\n",
        "Traffic_Violations_2['Personal Injury']=Traffic_Violations_2['Personal Injury'].replace(to_replace='Yes',value='1')\n",
        "Traffic_Violations_2['Personal Injury']=Traffic_Violations_2['Personal Injury'].replace(to_replace='No',value='0')\n",
        "\n",
        "Traffic_Violations_2['Property Damage']=Traffic_Violations_2['Property Damage'].replace(to_replace='Yes',value='1')\n",
        "Traffic_Violations_2['Property Damage']=Traffic_Violations_2['Property Damage'].replace(to_replace='No',value='0')\n",
        "\n",
        "Traffic_Violations_2['Fatal']=Traffic_Violations_2['Fatal'].replace(to_replace='Yes',value='1')\n",
        "Traffic_Violations_2['Fatal']=Traffic_Violations_2['Fatal'].replace(to_replace='No',value='0')\n",
        "\n",
        "Traffic_Violations_2['Commercial License']=Traffic_Violations_2['Commercial License'].replace(to_replace='Yes',value='1')\n",
        "Traffic_Violations_2['Commercial License']=Traffic_Violations_2['Commercial License'].replace(to_replace='No',value='0')\n",
        "\n",
        "Traffic_Violations_2['HAZMAT']=Traffic_Violations_2['HAZMAT'].replace(to_replace='Yes',value='1')\n",
        "Traffic_Violations_2['HAZMAT']=Traffic_Violations_2['HAZMAT'].replace(to_replace='No',value='0')\n",
        "\n",
        "Traffic_Violations_2['Commercial Vehicle']=Traffic_Violations_2['Commercial Vehicle'].replace(to_replace='Yes',value='1')\n",
        "Traffic_Violations_2['Commercial Vehicle']=Traffic_Violations_2['Commercial Vehicle'].replace(to_replace='No',value='0')\n",
        "\n",
        "Traffic_Violations_2['Alcohol']=Traffic_Violations_2['Alcohol'].replace(to_replace='Yes',value='1')\n",
        "Traffic_Violations_2['Alcohol']=Traffic_Violations_2['Alcohol'].replace(to_replace='No',value='0')\n",
        "\n",
        "Traffic_Violations_2['Work Zone']=Traffic_Violations_2['Work Zone'].replace(to_replace='Yes',value='1')\n",
        "Traffic_Violations_2['Work Zone']=Traffic_Violations_2['Work Zone'].replace(to_replace='No',value='0')\n",
        "\n",
        "Traffic_Violations_2['Contributed To Accident']=Traffic_Violations_2['Contributed To Accident'].replace(to_replace='Yes',value='1')\n",
        "Traffic_Violations_2['Contributed To Accident']=Traffic_Violations_2['Contributed To Accident'].replace(to_replace='No',value='0')"
      ],
      "execution_count": 518,
      "outputs": [
        {
          "output_type": "stream",
          "name": "stderr",
          "text": [
            "/usr/local/lib/python3.7/dist-packages/ipykernel_launcher.py:1: SettingWithCopyWarning: \n",
            "A value is trying to be set on a copy of a slice from a DataFrame.\n",
            "Try using .loc[row_indexer,col_indexer] = value instead\n",
            "\n",
            "See the caveats in the documentation: https://pandas.pydata.org/pandas-docs/stable/user_guide/indexing.html#returning-a-view-versus-a-copy\n",
            "  \"\"\"Entry point for launching an IPython kernel.\n",
            "/usr/local/lib/python3.7/dist-packages/ipykernel_launcher.py:2: SettingWithCopyWarning: \n",
            "A value is trying to be set on a copy of a slice from a DataFrame.\n",
            "Try using .loc[row_indexer,col_indexer] = value instead\n",
            "\n",
            "See the caveats in the documentation: https://pandas.pydata.org/pandas-docs/stable/user_guide/indexing.html#returning-a-view-versus-a-copy\n",
            "  \n",
            "/usr/local/lib/python3.7/dist-packages/ipykernel_launcher.py:4: SettingWithCopyWarning: \n",
            "A value is trying to be set on a copy of a slice from a DataFrame.\n",
            "Try using .loc[row_indexer,col_indexer] = value instead\n",
            "\n",
            "See the caveats in the documentation: https://pandas.pydata.org/pandas-docs/stable/user_guide/indexing.html#returning-a-view-versus-a-copy\n",
            "  after removing the cwd from sys.path.\n",
            "/usr/local/lib/python3.7/dist-packages/ipykernel_launcher.py:5: SettingWithCopyWarning: \n",
            "A value is trying to be set on a copy of a slice from a DataFrame.\n",
            "Try using .loc[row_indexer,col_indexer] = value instead\n",
            "\n",
            "See the caveats in the documentation: https://pandas.pydata.org/pandas-docs/stable/user_guide/indexing.html#returning-a-view-versus-a-copy\n",
            "  \"\"\"\n",
            "/usr/local/lib/python3.7/dist-packages/ipykernel_launcher.py:7: SettingWithCopyWarning: \n",
            "A value is trying to be set on a copy of a slice from a DataFrame.\n",
            "Try using .loc[row_indexer,col_indexer] = value instead\n",
            "\n",
            "See the caveats in the documentation: https://pandas.pydata.org/pandas-docs/stable/user_guide/indexing.html#returning-a-view-versus-a-copy\n",
            "  import sys\n",
            "/usr/local/lib/python3.7/dist-packages/ipykernel_launcher.py:8: SettingWithCopyWarning: \n",
            "A value is trying to be set on a copy of a slice from a DataFrame.\n",
            "Try using .loc[row_indexer,col_indexer] = value instead\n",
            "\n",
            "See the caveats in the documentation: https://pandas.pydata.org/pandas-docs/stable/user_guide/indexing.html#returning-a-view-versus-a-copy\n",
            "  \n",
            "/usr/local/lib/python3.7/dist-packages/ipykernel_launcher.py:10: SettingWithCopyWarning: \n",
            "A value is trying to be set on a copy of a slice from a DataFrame.\n",
            "Try using .loc[row_indexer,col_indexer] = value instead\n",
            "\n",
            "See the caveats in the documentation: https://pandas.pydata.org/pandas-docs/stable/user_guide/indexing.html#returning-a-view-versus-a-copy\n",
            "  # Remove the CWD from sys.path while we load stuff.\n",
            "/usr/local/lib/python3.7/dist-packages/ipykernel_launcher.py:11: SettingWithCopyWarning: \n",
            "A value is trying to be set on a copy of a slice from a DataFrame.\n",
            "Try using .loc[row_indexer,col_indexer] = value instead\n",
            "\n",
            "See the caveats in the documentation: https://pandas.pydata.org/pandas-docs/stable/user_guide/indexing.html#returning-a-view-versus-a-copy\n",
            "  # This is added back by InteractiveShellApp.init_path()\n",
            "/usr/local/lib/python3.7/dist-packages/ipykernel_launcher.py:13: SettingWithCopyWarning: \n",
            "A value is trying to be set on a copy of a slice from a DataFrame.\n",
            "Try using .loc[row_indexer,col_indexer] = value instead\n",
            "\n",
            "See the caveats in the documentation: https://pandas.pydata.org/pandas-docs/stable/user_guide/indexing.html#returning-a-view-versus-a-copy\n",
            "  del sys.path[0]\n",
            "/usr/local/lib/python3.7/dist-packages/ipykernel_launcher.py:14: SettingWithCopyWarning: \n",
            "A value is trying to be set on a copy of a slice from a DataFrame.\n",
            "Try using .loc[row_indexer,col_indexer] = value instead\n",
            "\n",
            "See the caveats in the documentation: https://pandas.pydata.org/pandas-docs/stable/user_guide/indexing.html#returning-a-view-versus-a-copy\n",
            "  \n",
            "/usr/local/lib/python3.7/dist-packages/ipykernel_launcher.py:16: SettingWithCopyWarning: \n",
            "A value is trying to be set on a copy of a slice from a DataFrame.\n",
            "Try using .loc[row_indexer,col_indexer] = value instead\n",
            "\n",
            "See the caveats in the documentation: https://pandas.pydata.org/pandas-docs/stable/user_guide/indexing.html#returning-a-view-versus-a-copy\n",
            "  app.launch_new_instance()\n",
            "/usr/local/lib/python3.7/dist-packages/ipykernel_launcher.py:17: SettingWithCopyWarning: \n",
            "A value is trying to be set on a copy of a slice from a DataFrame.\n",
            "Try using .loc[row_indexer,col_indexer] = value instead\n",
            "\n",
            "See the caveats in the documentation: https://pandas.pydata.org/pandas-docs/stable/user_guide/indexing.html#returning-a-view-versus-a-copy\n",
            "/usr/local/lib/python3.7/dist-packages/ipykernel_launcher.py:19: SettingWithCopyWarning: \n",
            "A value is trying to be set on a copy of a slice from a DataFrame.\n",
            "Try using .loc[row_indexer,col_indexer] = value instead\n",
            "\n",
            "See the caveats in the documentation: https://pandas.pydata.org/pandas-docs/stable/user_guide/indexing.html#returning-a-view-versus-a-copy\n",
            "/usr/local/lib/python3.7/dist-packages/ipykernel_launcher.py:20: SettingWithCopyWarning: \n",
            "A value is trying to be set on a copy of a slice from a DataFrame.\n",
            "Try using .loc[row_indexer,col_indexer] = value instead\n",
            "\n",
            "See the caveats in the documentation: https://pandas.pydata.org/pandas-docs/stable/user_guide/indexing.html#returning-a-view-versus-a-copy\n",
            "/usr/local/lib/python3.7/dist-packages/ipykernel_launcher.py:22: SettingWithCopyWarning: \n",
            "A value is trying to be set on a copy of a slice from a DataFrame.\n",
            "Try using .loc[row_indexer,col_indexer] = value instead\n",
            "\n",
            "See the caveats in the documentation: https://pandas.pydata.org/pandas-docs/stable/user_guide/indexing.html#returning-a-view-versus-a-copy\n",
            "/usr/local/lib/python3.7/dist-packages/ipykernel_launcher.py:23: SettingWithCopyWarning: \n",
            "A value is trying to be set on a copy of a slice from a DataFrame.\n",
            "Try using .loc[row_indexer,col_indexer] = value instead\n",
            "\n",
            "See the caveats in the documentation: https://pandas.pydata.org/pandas-docs/stable/user_guide/indexing.html#returning-a-view-versus-a-copy\n",
            "/usr/local/lib/python3.7/dist-packages/ipykernel_launcher.py:25: SettingWithCopyWarning: \n",
            "A value is trying to be set on a copy of a slice from a DataFrame.\n",
            "Try using .loc[row_indexer,col_indexer] = value instead\n",
            "\n",
            "See the caveats in the documentation: https://pandas.pydata.org/pandas-docs/stable/user_guide/indexing.html#returning-a-view-versus-a-copy\n",
            "/usr/local/lib/python3.7/dist-packages/ipykernel_launcher.py:26: SettingWithCopyWarning: \n",
            "A value is trying to be set on a copy of a slice from a DataFrame.\n",
            "Try using .loc[row_indexer,col_indexer] = value instead\n",
            "\n",
            "See the caveats in the documentation: https://pandas.pydata.org/pandas-docs/stable/user_guide/indexing.html#returning-a-view-versus-a-copy\n",
            "/usr/local/lib/python3.7/dist-packages/ipykernel_launcher.py:28: SettingWithCopyWarning: \n",
            "A value is trying to be set on a copy of a slice from a DataFrame.\n",
            "Try using .loc[row_indexer,col_indexer] = value instead\n",
            "\n",
            "See the caveats in the documentation: https://pandas.pydata.org/pandas-docs/stable/user_guide/indexing.html#returning-a-view-versus-a-copy\n",
            "/usr/local/lib/python3.7/dist-packages/ipykernel_launcher.py:29: SettingWithCopyWarning: \n",
            "A value is trying to be set on a copy of a slice from a DataFrame.\n",
            "Try using .loc[row_indexer,col_indexer] = value instead\n",
            "\n",
            "See the caveats in the documentation: https://pandas.pydata.org/pandas-docs/stable/user_guide/indexing.html#returning-a-view-versus-a-copy\n"
          ]
        }
      ]
    },
    {
      "cell_type": "code",
      "metadata": {
        "colab": {
          "base_uri": "https://localhost:8080/"
        },
        "id": "YF5wc-nCAbD_",
        "outputId": "80203892-673b-416f-fcda-a1cfd927abfa"
      },
      "source": [
        "Traffic_Violations_2['Belts'] = Traffic_Violations_2['Belts'].astype(int)\n",
        "Traffic_Violations_2['Personal Injury'] = Traffic_Violations_2['Personal Injury'].astype(int)\n",
        "Traffic_Violations_2['Property Damage'] = Traffic_Violations_2['Property Damage'].astype(int)\n",
        "Traffic_Violations_2['Fatal'] = Traffic_Violations_2['Fatal'].astype(int)\n",
        "Traffic_Violations_2['Commercial License'] = Traffic_Violations_2['Commercial License'].astype(int)\n",
        "Traffic_Violations_2['HAZMAT'] = Traffic_Violations_2['HAZMAT'].astype(int)\n",
        "Traffic_Violations_2['Commercial Vehicle'] = Traffic_Violations_2['Commercial Vehicle'].astype(int)\n",
        "Traffic_Violations_2['Alcohol'] = Traffic_Violations_2['Alcohol'].astype(int)\n",
        "Traffic_Violations_2['Work Zone'] = Traffic_Violations_2['Work Zone'].astype(int)\n",
        "Traffic_Violations_2['Contributed To Accident'] = Traffic_Violations_2['Contributed To Accident'].astype(int)"
      ],
      "execution_count": 519,
      "outputs": [
        {
          "output_type": "stream",
          "name": "stderr",
          "text": [
            "/usr/local/lib/python3.7/dist-packages/ipykernel_launcher.py:1: SettingWithCopyWarning: \n",
            "A value is trying to be set on a copy of a slice from a DataFrame.\n",
            "Try using .loc[row_indexer,col_indexer] = value instead\n",
            "\n",
            "See the caveats in the documentation: https://pandas.pydata.org/pandas-docs/stable/user_guide/indexing.html#returning-a-view-versus-a-copy\n",
            "  \"\"\"Entry point for launching an IPython kernel.\n",
            "/usr/local/lib/python3.7/dist-packages/ipykernel_launcher.py:2: SettingWithCopyWarning: \n",
            "A value is trying to be set on a copy of a slice from a DataFrame.\n",
            "Try using .loc[row_indexer,col_indexer] = value instead\n",
            "\n",
            "See the caveats in the documentation: https://pandas.pydata.org/pandas-docs/stable/user_guide/indexing.html#returning-a-view-versus-a-copy\n",
            "  \n",
            "/usr/local/lib/python3.7/dist-packages/ipykernel_launcher.py:3: SettingWithCopyWarning: \n",
            "A value is trying to be set on a copy of a slice from a DataFrame.\n",
            "Try using .loc[row_indexer,col_indexer] = value instead\n",
            "\n",
            "See the caveats in the documentation: https://pandas.pydata.org/pandas-docs/stable/user_guide/indexing.html#returning-a-view-versus-a-copy\n",
            "  This is separate from the ipykernel package so we can avoid doing imports until\n",
            "/usr/local/lib/python3.7/dist-packages/ipykernel_launcher.py:4: SettingWithCopyWarning: \n",
            "A value is trying to be set on a copy of a slice from a DataFrame.\n",
            "Try using .loc[row_indexer,col_indexer] = value instead\n",
            "\n",
            "See the caveats in the documentation: https://pandas.pydata.org/pandas-docs/stable/user_guide/indexing.html#returning-a-view-versus-a-copy\n",
            "  after removing the cwd from sys.path.\n",
            "/usr/local/lib/python3.7/dist-packages/ipykernel_launcher.py:5: SettingWithCopyWarning: \n",
            "A value is trying to be set on a copy of a slice from a DataFrame.\n",
            "Try using .loc[row_indexer,col_indexer] = value instead\n",
            "\n",
            "See the caveats in the documentation: https://pandas.pydata.org/pandas-docs/stable/user_guide/indexing.html#returning-a-view-versus-a-copy\n",
            "  \"\"\"\n",
            "/usr/local/lib/python3.7/dist-packages/ipykernel_launcher.py:6: SettingWithCopyWarning: \n",
            "A value is trying to be set on a copy of a slice from a DataFrame.\n",
            "Try using .loc[row_indexer,col_indexer] = value instead\n",
            "\n",
            "See the caveats in the documentation: https://pandas.pydata.org/pandas-docs/stable/user_guide/indexing.html#returning-a-view-versus-a-copy\n",
            "  \n",
            "/usr/local/lib/python3.7/dist-packages/ipykernel_launcher.py:7: SettingWithCopyWarning: \n",
            "A value is trying to be set on a copy of a slice from a DataFrame.\n",
            "Try using .loc[row_indexer,col_indexer] = value instead\n",
            "\n",
            "See the caveats in the documentation: https://pandas.pydata.org/pandas-docs/stable/user_guide/indexing.html#returning-a-view-versus-a-copy\n",
            "  import sys\n",
            "/usr/local/lib/python3.7/dist-packages/ipykernel_launcher.py:8: SettingWithCopyWarning: \n",
            "A value is trying to be set on a copy of a slice from a DataFrame.\n",
            "Try using .loc[row_indexer,col_indexer] = value instead\n",
            "\n",
            "See the caveats in the documentation: https://pandas.pydata.org/pandas-docs/stable/user_guide/indexing.html#returning-a-view-versus-a-copy\n",
            "  \n",
            "/usr/local/lib/python3.7/dist-packages/ipykernel_launcher.py:9: SettingWithCopyWarning: \n",
            "A value is trying to be set on a copy of a slice from a DataFrame.\n",
            "Try using .loc[row_indexer,col_indexer] = value instead\n",
            "\n",
            "See the caveats in the documentation: https://pandas.pydata.org/pandas-docs/stable/user_guide/indexing.html#returning-a-view-versus-a-copy\n",
            "  if __name__ == '__main__':\n",
            "/usr/local/lib/python3.7/dist-packages/ipykernel_launcher.py:10: SettingWithCopyWarning: \n",
            "A value is trying to be set on a copy of a slice from a DataFrame.\n",
            "Try using .loc[row_indexer,col_indexer] = value instead\n",
            "\n",
            "See the caveats in the documentation: https://pandas.pydata.org/pandas-docs/stable/user_guide/indexing.html#returning-a-view-versus-a-copy\n",
            "  # Remove the CWD from sys.path while we load stuff.\n"
          ]
        }
      ]
    },
    {
      "cell_type": "code",
      "metadata": {
        "id": "kBr2qmieAcEN"
      },
      "source": [
        ""
      ],
      "execution_count": 519,
      "outputs": []
    },
    {
      "cell_type": "code",
      "metadata": {
        "id": "cT76vqgo1FVK",
        "colab": {
          "base_uri": "https://localhost:8080/"
        },
        "outputId": "6e21c4e4-5269-4035-cc3f-0c0823e76e6e"
      },
      "source": [
        "Traffic_Violations_2['Violation Type'] "
      ],
      "execution_count": 520,
      "outputs": [
        {
          "output_type": "execute_result",
          "data": {
            "text/plain": [
              "1          1\n",
              "2          1\n",
              "3          1\n",
              "6          1\n",
              "10         1\n",
              "          ..\n",
              "1291736    0\n",
              "1291737    0\n",
              "1291738    0\n",
              "1291739    0\n",
              "1291740    0\n",
              "Name: Violation Type, Length: 1120327, dtype: object"
            ]
          },
          "metadata": {},
          "execution_count": 520
        }
      ]
    },
    {
      "cell_type": "code",
      "metadata": {
        "colab": {
          "base_uri": "https://localhost:8080/",
          "height": 615
        },
        "id": "59vuSSzB_fEx",
        "outputId": "b403934c-5184-495a-eccb-4bac17674e7b"
      },
      "source": [
        "Traffic_Violations_2.head(5)"
      ],
      "execution_count": 521,
      "outputs": [
        {
          "output_type": "execute_result",
          "data": {
            "text/html": [
              "<div>\n",
              "<style scoped>\n",
              "    .dataframe tbody tr th:only-of-type {\n",
              "        vertical-align: middle;\n",
              "    }\n",
              "\n",
              "    .dataframe tbody tr th {\n",
              "        vertical-align: top;\n",
              "    }\n",
              "\n",
              "    .dataframe thead th {\n",
              "        text-align: right;\n",
              "    }\n",
              "</style>\n",
              "<table border=\"1\" class=\"dataframe\">\n",
              "  <thead>\n",
              "    <tr style=\"text-align: right;\">\n",
              "      <th></th>\n",
              "      <th>Date Of Stop</th>\n",
              "      <th>Time Of Stop</th>\n",
              "      <th>Agency</th>\n",
              "      <th>SubAgency</th>\n",
              "      <th>Description</th>\n",
              "      <th>Location</th>\n",
              "      <th>Latitude</th>\n",
              "      <th>Longitude</th>\n",
              "      <th>Accident</th>\n",
              "      <th>Belts</th>\n",
              "      <th>Personal Injury</th>\n",
              "      <th>Property Damage</th>\n",
              "      <th>Fatal</th>\n",
              "      <th>Commercial License</th>\n",
              "      <th>HAZMAT</th>\n",
              "      <th>Commercial Vehicle</th>\n",
              "      <th>Alcohol</th>\n",
              "      <th>Work Zone</th>\n",
              "      <th>State</th>\n",
              "      <th>VehicleType</th>\n",
              "      <th>Year</th>\n",
              "      <th>Make</th>\n",
              "      <th>Model</th>\n",
              "      <th>Color</th>\n",
              "      <th>Violation Type</th>\n",
              "      <th>Charge</th>\n",
              "      <th>Article</th>\n",
              "      <th>Contributed To Accident</th>\n",
              "      <th>Race</th>\n",
              "      <th>Gender</th>\n",
              "      <th>Driver City</th>\n",
              "      <th>Driver State</th>\n",
              "      <th>DL State</th>\n",
              "      <th>Arrest Type</th>\n",
              "      <th>Geolocation</th>\n",
              "    </tr>\n",
              "  </thead>\n",
              "  <tbody>\n",
              "    <tr>\n",
              "      <th>1</th>\n",
              "      <td>08/29/2017</td>\n",
              "      <td>10:19:00</td>\n",
              "      <td>MCP</td>\n",
              "      <td>2nd district, Bethesda</td>\n",
              "      <td>DRIVER FAILURE TO OBEY PROPERLY PLACED TRAFFIC...</td>\n",
              "      <td>WISCONSIN AVE@ ELM ST</td>\n",
              "      <td>38.981725</td>\n",
              "      <td>-77.092757</td>\n",
              "      <td>No</td>\n",
              "      <td>0</td>\n",
              "      <td>0</td>\n",
              "      <td>0</td>\n",
              "      <td>0</td>\n",
              "      <td>0</td>\n",
              "      <td>0</td>\n",
              "      <td>0</td>\n",
              "      <td>0</td>\n",
              "      <td>0</td>\n",
              "      <td>VA</td>\n",
              "      <td>02 - Automobile</td>\n",
              "      <td>2001</td>\n",
              "      <td>TOYOTA</td>\n",
              "      <td>COROLLA</td>\n",
              "      <td>GREEN</td>\n",
              "      <td>1</td>\n",
              "      <td>21-201(a1)</td>\n",
              "      <td>Transportation Article</td>\n",
              "      <td>0</td>\n",
              "      <td>WHITE</td>\n",
              "      <td>F</td>\n",
              "      <td>FAIRFAX STATION</td>\n",
              "      <td>VA</td>\n",
              "      <td>VA</td>\n",
              "      <td>A - Marked Patrol</td>\n",
              "      <td>(38.981725, -77.0927566666667)</td>\n",
              "    </tr>\n",
              "    <tr>\n",
              "      <th>2</th>\n",
              "      <td>12/01/2014</td>\n",
              "      <td>12:52:00</td>\n",
              "      <td>MCP</td>\n",
              "      <td>6th district, Gaithersburg / Montgomery Village</td>\n",
              "      <td>FAILURE STOP AND YIELD AT THRU HWY</td>\n",
              "      <td>CHRISTOPHER AVE/MONTGOMERY VILLAGE AVE</td>\n",
              "      <td>39.162888</td>\n",
              "      <td>-77.229088</td>\n",
              "      <td>No</td>\n",
              "      <td>0</td>\n",
              "      <td>0</td>\n",
              "      <td>1</td>\n",
              "      <td>0</td>\n",
              "      <td>0</td>\n",
              "      <td>0</td>\n",
              "      <td>0</td>\n",
              "      <td>0</td>\n",
              "      <td>0</td>\n",
              "      <td>MD</td>\n",
              "      <td>02 - Automobile</td>\n",
              "      <td>2001</td>\n",
              "      <td>HONDA</td>\n",
              "      <td>ACCORD</td>\n",
              "      <td>SILVER</td>\n",
              "      <td>1</td>\n",
              "      <td>21-403(b)</td>\n",
              "      <td>Transportation Article</td>\n",
              "      <td>0</td>\n",
              "      <td>BLACK</td>\n",
              "      <td>F</td>\n",
              "      <td>UPPER MARLBORO</td>\n",
              "      <td>MD</td>\n",
              "      <td>MD</td>\n",
              "      <td>A - Marked Patrol</td>\n",
              "      <td>(39.1628883333333, -77.2290883333333)</td>\n",
              "    </tr>\n",
              "    <tr>\n",
              "      <th>3</th>\n",
              "      <td>08/29/2017</td>\n",
              "      <td>09:22:00</td>\n",
              "      <td>MCP</td>\n",
              "      <td>3rd district, Silver Spring</td>\n",
              "      <td>FAILURE YIELD RIGHT OF WAY ON U TURN</td>\n",
              "      <td>CHERRY HILL RD./CALVERTON BLVD.</td>\n",
              "      <td>39.056975</td>\n",
              "      <td>-76.954633</td>\n",
              "      <td>No</td>\n",
              "      <td>0</td>\n",
              "      <td>0</td>\n",
              "      <td>1</td>\n",
              "      <td>0</td>\n",
              "      <td>0</td>\n",
              "      <td>0</td>\n",
              "      <td>0</td>\n",
              "      <td>0</td>\n",
              "      <td>0</td>\n",
              "      <td>MD</td>\n",
              "      <td>02 - Automobile</td>\n",
              "      <td>1998</td>\n",
              "      <td>DODG</td>\n",
              "      <td>DAKOTA</td>\n",
              "      <td>WHITE</td>\n",
              "      <td>1</td>\n",
              "      <td>21-402(b)</td>\n",
              "      <td>Transportation Article</td>\n",
              "      <td>0</td>\n",
              "      <td>BLACK</td>\n",
              "      <td>M</td>\n",
              "      <td>FORT WASHINGTON</td>\n",
              "      <td>MD</td>\n",
              "      <td>MD</td>\n",
              "      <td>A - Marked Patrol</td>\n",
              "      <td>(39.056975, -76.9546333333333)</td>\n",
              "    </tr>\n",
              "    <tr>\n",
              "      <th>6</th>\n",
              "      <td>10/08/2013</td>\n",
              "      <td>13:23:00</td>\n",
              "      <td>MCP</td>\n",
              "      <td>4th district, Wheaton</td>\n",
              "      <td>DRIVING VEHICLE ON HIGHWAY WITH SUSPENDED REGI...</td>\n",
              "      <td>GEORGIA AVE / BEL PRE RD</td>\n",
              "      <td>39.093383</td>\n",
              "      <td>-77.079552</td>\n",
              "      <td>No</td>\n",
              "      <td>0</td>\n",
              "      <td>0</td>\n",
              "      <td>0</td>\n",
              "      <td>0</td>\n",
              "      <td>0</td>\n",
              "      <td>0</td>\n",
              "      <td>0</td>\n",
              "      <td>0</td>\n",
              "      <td>0</td>\n",
              "      <td>MD</td>\n",
              "      <td>02 - Automobile</td>\n",
              "      <td>1993</td>\n",
              "      <td>FORD</td>\n",
              "      <td>PICKUP</td>\n",
              "      <td>BLACK</td>\n",
              "      <td>1</td>\n",
              "      <td>13-401(h)</td>\n",
              "      <td>Transportation Article</td>\n",
              "      <td>0</td>\n",
              "      <td>HISPANIC</td>\n",
              "      <td>M</td>\n",
              "      <td>BELTSVILLE</td>\n",
              "      <td>MD</td>\n",
              "      <td>MD</td>\n",
              "      <td>A - Marked Patrol</td>\n",
              "      <td>(39.0933833333333, -77.0795516666667)</td>\n",
              "    </tr>\n",
              "    <tr>\n",
              "      <th>10</th>\n",
              "      <td>02/14/2014</td>\n",
              "      <td>20:10:00</td>\n",
              "      <td>MCP</td>\n",
              "      <td>1st district, Rockville</td>\n",
              "      <td>FAILURE TO DRIVE ON RIGHT HAND ROADWAY OF DIVI...</td>\n",
              "      <td>GATEWAY CENTER DR @ CLARKSBURG RD</td>\n",
              "      <td>39.234843</td>\n",
              "      <td>-77.281540</td>\n",
              "      <td>No</td>\n",
              "      <td>0</td>\n",
              "      <td>0</td>\n",
              "      <td>0</td>\n",
              "      <td>0</td>\n",
              "      <td>0</td>\n",
              "      <td>0</td>\n",
              "      <td>0</td>\n",
              "      <td>0</td>\n",
              "      <td>0</td>\n",
              "      <td>MD</td>\n",
              "      <td>02 - Automobile</td>\n",
              "      <td>2005</td>\n",
              "      <td>CADI</td>\n",
              "      <td>STS</td>\n",
              "      <td>BLACK</td>\n",
              "      <td>1</td>\n",
              "      <td>21-311(1)</td>\n",
              "      <td>Transportation Article</td>\n",
              "      <td>0</td>\n",
              "      <td>WHITE</td>\n",
              "      <td>M</td>\n",
              "      <td>POINT OF ROCK</td>\n",
              "      <td>MD</td>\n",
              "      <td>WV</td>\n",
              "      <td>A - Marked Patrol</td>\n",
              "      <td>(39.2348434333333, -77.28153995)</td>\n",
              "    </tr>\n",
              "  </tbody>\n",
              "</table>\n",
              "</div>"
            ],
            "text/plain": [
              "   Date Of Stop  ...                            Geolocation\n",
              "1    08/29/2017  ...         (38.981725, -77.0927566666667)\n",
              "2    12/01/2014  ...  (39.1628883333333, -77.2290883333333)\n",
              "3    08/29/2017  ...         (39.056975, -76.9546333333333)\n",
              "6    10/08/2013  ...  (39.0933833333333, -77.0795516666667)\n",
              "10   02/14/2014  ...       (39.2348434333333, -77.28153995)\n",
              "\n",
              "[5 rows x 35 columns]"
            ]
          },
          "metadata": {},
          "execution_count": 521
        }
      ]
    },
    {
      "cell_type": "code",
      "metadata": {
        "colab": {
          "base_uri": "https://localhost:8080/"
        },
        "id": "QRZW62n43rJQ",
        "outputId": "637ae95e-9e32-410d-bbe8-1fd7684a5414"
      },
      "source": [
        "Traffic_Violations_2.info()"
      ],
      "execution_count": 522,
      "outputs": [
        {
          "output_type": "stream",
          "name": "stdout",
          "text": [
            "<class 'pandas.core.frame.DataFrame'>\n",
            "Int64Index: 1120327 entries, 1 to 1291740\n",
            "Data columns (total 35 columns):\n",
            " #   Column                   Non-Null Count    Dtype  \n",
            "---  ------                   --------------    -----  \n",
            " 0   Date Of Stop             1120327 non-null  object \n",
            " 1   Time Of Stop             1120327 non-null  object \n",
            " 2   Agency                   1120327 non-null  object \n",
            " 3   SubAgency                1120327 non-null  object \n",
            " 4   Description              1120327 non-null  object \n",
            " 5   Location                 1120327 non-null  object \n",
            " 6   Latitude                 1120327 non-null  float64\n",
            " 7   Longitude                1120327 non-null  float64\n",
            " 8   Accident                 1120327 non-null  object \n",
            " 9   Belts                    1120327 non-null  int64  \n",
            " 10  Personal Injury          1120327 non-null  int64  \n",
            " 11  Property Damage          1120327 non-null  int64  \n",
            " 12  Fatal                    1120327 non-null  int64  \n",
            " 13  Commercial License       1120327 non-null  int64  \n",
            " 14  HAZMAT                   1120327 non-null  int64  \n",
            " 15  Commercial Vehicle       1120327 non-null  int64  \n",
            " 16  Alcohol                  1120327 non-null  int64  \n",
            " 17  Work Zone                1120327 non-null  int64  \n",
            " 18  State                    1120327 non-null  object \n",
            " 19  VehicleType              1120327 non-null  object \n",
            " 20  Year                     1120327 non-null  int64  \n",
            " 21  Make                     1120327 non-null  object \n",
            " 22  Model                    1120327 non-null  object \n",
            " 23  Color                    1120327 non-null  object \n",
            " 24  Violation Type           1120327 non-null  object \n",
            " 25  Charge                   1120327 non-null  object \n",
            " 26  Article                  1120327 non-null  object \n",
            " 27  Contributed To Accident  1120327 non-null  int64  \n",
            " 28  Race                     1120327 non-null  object \n",
            " 29  Gender                   1120327 non-null  object \n",
            " 30  Driver City              1120327 non-null  object \n",
            " 31  Driver State             1120327 non-null  object \n",
            " 32  DL State                 1120327 non-null  object \n",
            " 33  Arrest Type              1120327 non-null  object \n",
            " 34  Geolocation              1120327 non-null  object \n",
            "dtypes: float64(2), int64(11), object(22)\n",
            "memory usage: 307.7+ MB\n"
          ]
        }
      ]
    },
    {
      "cell_type": "code",
      "metadata": {
        "colab": {
          "base_uri": "https://localhost:8080/"
        },
        "id": "7DyCCPuq38CD",
        "outputId": "ce682354-211d-439a-8873-64648f44d552"
      },
      "source": [
        "Traffic_Violations_2['Violation Type'] = Traffic_Violations_2['Violation Type'].astype(int)"
      ],
      "execution_count": 523,
      "outputs": [
        {
          "output_type": "stream",
          "name": "stderr",
          "text": [
            "/usr/local/lib/python3.7/dist-packages/ipykernel_launcher.py:1: SettingWithCopyWarning: \n",
            "A value is trying to be set on a copy of a slice from a DataFrame.\n",
            "Try using .loc[row_indexer,col_indexer] = value instead\n",
            "\n",
            "See the caveats in the documentation: https://pandas.pydata.org/pandas-docs/stable/user_guide/indexing.html#returning-a-view-versus-a-copy\n",
            "  \"\"\"Entry point for launching an IPython kernel.\n"
          ]
        }
      ]
    },
    {
      "cell_type": "code",
      "metadata": {
        "id": "ZOyLtqvwHINx"
      },
      "source": [
        "Traffic_Violations_3 = Traffic_Violations_2.drop(columns= [ 'Date Of Stop', 'Time Of Stop', 'Charge','Article',\n",
        "                                        'Accident', 'Agency', 'Latitude', 'Make', 'Model', 'Color', 'Race', 'Year',\n",
        "                                        'Longitude', 'SubAgency', 'Description', 'Location', 'State', 'VehicleType',\n",
        "                                        'Gender', 'Driver City', 'Driver State', 'DL State','Arrest Type','Geolocation'])"
      ],
      "execution_count": 524,
      "outputs": []
    },
    {
      "cell_type": "code",
      "metadata": {
        "colab": {
          "base_uri": "https://localhost:8080/"
        },
        "id": "lwcR6fkdIHzN",
        "outputId": "c9a26af4-1842-439c-ba3c-783500a0cb3e"
      },
      "source": [
        "Traffic_Violations_3.info()"
      ],
      "execution_count": 525,
      "outputs": [
        {
          "output_type": "stream",
          "name": "stdout",
          "text": [
            "<class 'pandas.core.frame.DataFrame'>\n",
            "Int64Index: 1120327 entries, 1 to 1291740\n",
            "Data columns (total 11 columns):\n",
            " #   Column                   Non-Null Count    Dtype\n",
            "---  ------                   --------------    -----\n",
            " 0   Belts                    1120327 non-null  int64\n",
            " 1   Personal Injury          1120327 non-null  int64\n",
            " 2   Property Damage          1120327 non-null  int64\n",
            " 3   Fatal                    1120327 non-null  int64\n",
            " 4   Commercial License       1120327 non-null  int64\n",
            " 5   HAZMAT                   1120327 non-null  int64\n",
            " 6   Commercial Vehicle       1120327 non-null  int64\n",
            " 7   Alcohol                  1120327 non-null  int64\n",
            " 8   Work Zone                1120327 non-null  int64\n",
            " 9   Violation Type           1120327 non-null  int64\n",
            " 10  Contributed To Accident  1120327 non-null  int64\n",
            "dtypes: int64(11)\n",
            "memory usage: 102.6 MB\n"
          ]
        }
      ]
    },
    {
      "cell_type": "code",
      "metadata": {
        "colab": {
          "base_uri": "https://localhost:8080/"
        },
        "id": "7ehhGsBm_eeT",
        "outputId": "b99d8581-f1f6-4e55-a18b-d554be9e9cfb"
      },
      "source": [
        "list(Traffic_Violations_3.columns)"
      ],
      "execution_count": 526,
      "outputs": [
        {
          "output_type": "execute_result",
          "data": {
            "text/plain": [
              "['Belts',\n",
              " 'Personal Injury',\n",
              " 'Property Damage',\n",
              " 'Fatal',\n",
              " 'Commercial License',\n",
              " 'HAZMAT',\n",
              " 'Commercial Vehicle',\n",
              " 'Alcohol',\n",
              " 'Work Zone',\n",
              " 'Violation Type',\n",
              " 'Contributed To Accident']"
            ]
          },
          "metadata": {},
          "execution_count": 526
        }
      ]
    },
    {
      "cell_type": "code",
      "metadata": {
        "id": "6FPcXSEy4Hyr"
      },
      "source": [
        "corr_matrix = Traffic_Violations_3.corr()"
      ],
      "execution_count": 527,
      "outputs": []
    },
    {
      "cell_type": "code",
      "metadata": {
        "colab": {
          "base_uri": "https://localhost:8080/",
          "height": 458
        },
        "id": "ON8TQqSCGDgd",
        "outputId": "8112ecf2-d9c0-4f90-dfed-ab6103b4bc45"
      },
      "source": [
        "corr_matrix"
      ],
      "execution_count": 528,
      "outputs": [
        {
          "output_type": "execute_result",
          "data": {
            "text/html": [
              "<div>\n",
              "<style scoped>\n",
              "    .dataframe tbody tr th:only-of-type {\n",
              "        vertical-align: middle;\n",
              "    }\n",
              "\n",
              "    .dataframe tbody tr th {\n",
              "        vertical-align: top;\n",
              "    }\n",
              "\n",
              "    .dataframe thead th {\n",
              "        text-align: right;\n",
              "    }\n",
              "</style>\n",
              "<table border=\"1\" class=\"dataframe\">\n",
              "  <thead>\n",
              "    <tr style=\"text-align: right;\">\n",
              "      <th></th>\n",
              "      <th>Belts</th>\n",
              "      <th>Personal Injury</th>\n",
              "      <th>Property Damage</th>\n",
              "      <th>Fatal</th>\n",
              "      <th>Commercial License</th>\n",
              "      <th>HAZMAT</th>\n",
              "      <th>Commercial Vehicle</th>\n",
              "      <th>Alcohol</th>\n",
              "      <th>Work Zone</th>\n",
              "      <th>Violation Type</th>\n",
              "      <th>Contributed To Accident</th>\n",
              "    </tr>\n",
              "  </thead>\n",
              "  <tbody>\n",
              "    <tr>\n",
              "      <th>Belts</th>\n",
              "      <td>1.000000</td>\n",
              "      <td>0.103277</td>\n",
              "      <td>0.077954</td>\n",
              "      <td>0.000503</td>\n",
              "      <td>-0.003303</td>\n",
              "      <td>0.002793</td>\n",
              "      <td>-0.009632</td>\n",
              "      <td>-0.001302</td>\n",
              "      <td>0.001977</td>\n",
              "      <td>0.049298</td>\n",
              "      <td>0.074945</td>\n",
              "    </tr>\n",
              "    <tr>\n",
              "      <th>Personal Injury</th>\n",
              "      <td>0.103277</td>\n",
              "      <td>1.000000</td>\n",
              "      <td>-0.015114</td>\n",
              "      <td>-0.001414</td>\n",
              "      <td>0.003801</td>\n",
              "      <td>-0.001031</td>\n",
              "      <td>0.000638</td>\n",
              "      <td>0.010566</td>\n",
              "      <td>0.004213</td>\n",
              "      <td>0.098715</td>\n",
              "      <td>0.346391</td>\n",
              "    </tr>\n",
              "    <tr>\n",
              "      <th>Property Damage</th>\n",
              "      <td>0.077954</td>\n",
              "      <td>-0.015114</td>\n",
              "      <td>1.000000</td>\n",
              "      <td>-0.001794</td>\n",
              "      <td>0.011855</td>\n",
              "      <td>0.000778</td>\n",
              "      <td>-0.002943</td>\n",
              "      <td>0.019645</td>\n",
              "      <td>0.002601</td>\n",
              "      <td>0.120633</td>\n",
              "      <td>0.367123</td>\n",
              "    </tr>\n",
              "    <tr>\n",
              "      <th>Fatal</th>\n",
              "      <td>0.000503</td>\n",
              "      <td>-0.001414</td>\n",
              "      <td>-0.001794</td>\n",
              "      <td>1.000000</td>\n",
              "      <td>-0.001830</td>\n",
              "      <td>-0.000122</td>\n",
              "      <td>-0.000909</td>\n",
              "      <td>-0.000529</td>\n",
              "      <td>-0.000186</td>\n",
              "      <td>0.002890</td>\n",
              "      <td>0.013343</td>\n",
              "    </tr>\n",
              "    <tr>\n",
              "      <th>Commercial License</th>\n",
              "      <td>-0.003303</td>\n",
              "      <td>0.003801</td>\n",
              "      <td>0.011855</td>\n",
              "      <td>-0.001830</td>\n",
              "      <td>1.000000</td>\n",
              "      <td>0.017499</td>\n",
              "      <td>0.107632</td>\n",
              "      <td>-0.004714</td>\n",
              "      <td>0.000862</td>\n",
              "      <td>0.018328</td>\n",
              "      <td>0.010648</td>\n",
              "    </tr>\n",
              "    <tr>\n",
              "      <th>HAZMAT</th>\n",
              "      <td>0.002793</td>\n",
              "      <td>-0.001031</td>\n",
              "      <td>0.000778</td>\n",
              "      <td>-0.000122</td>\n",
              "      <td>0.017499</td>\n",
              "      <td>1.000000</td>\n",
              "      <td>0.029106</td>\n",
              "      <td>-0.000386</td>\n",
              "      <td>-0.000135</td>\n",
              "      <td>-0.004239</td>\n",
              "      <td>-0.000856</td>\n",
              "    </tr>\n",
              "    <tr>\n",
              "      <th>Commercial Vehicle</th>\n",
              "      <td>-0.009632</td>\n",
              "      <td>0.000638</td>\n",
              "      <td>-0.002943</td>\n",
              "      <td>-0.000909</td>\n",
              "      <td>0.107632</td>\n",
              "      <td>0.029106</td>\n",
              "      <td>1.000000</td>\n",
              "      <td>-0.000043</td>\n",
              "      <td>0.000779</td>\n",
              "      <td>-0.024020</td>\n",
              "      <td>-0.003330</td>\n",
              "    </tr>\n",
              "    <tr>\n",
              "      <th>Alcohol</th>\n",
              "      <td>-0.001302</td>\n",
              "      <td>0.010566</td>\n",
              "      <td>0.019645</td>\n",
              "      <td>-0.000529</td>\n",
              "      <td>-0.004714</td>\n",
              "      <td>-0.000386</td>\n",
              "      <td>-0.000043</td>\n",
              "      <td>1.000000</td>\n",
              "      <td>0.002471</td>\n",
              "      <td>0.037319</td>\n",
              "      <td>0.012003</td>\n",
              "    </tr>\n",
              "    <tr>\n",
              "      <th>Work Zone</th>\n",
              "      <td>0.001977</td>\n",
              "      <td>0.004213</td>\n",
              "      <td>0.002601</td>\n",
              "      <td>-0.000186</td>\n",
              "      <td>0.000862</td>\n",
              "      <td>-0.000135</td>\n",
              "      <td>0.000779</td>\n",
              "      <td>0.002471</td>\n",
              "      <td>1.000000</td>\n",
              "      <td>0.004939</td>\n",
              "      <td>-0.001421</td>\n",
              "    </tr>\n",
              "    <tr>\n",
              "      <th>Violation Type</th>\n",
              "      <td>0.049298</td>\n",
              "      <td>0.098715</td>\n",
              "      <td>0.120633</td>\n",
              "      <td>0.002890</td>\n",
              "      <td>0.018328</td>\n",
              "      <td>-0.004239</td>\n",
              "      <td>-0.024020</td>\n",
              "      <td>0.037319</td>\n",
              "      <td>0.004939</td>\n",
              "      <td>1.000000</td>\n",
              "      <td>0.137576</td>\n",
              "    </tr>\n",
              "    <tr>\n",
              "      <th>Contributed To Accident</th>\n",
              "      <td>0.074945</td>\n",
              "      <td>0.346391</td>\n",
              "      <td>0.367123</td>\n",
              "      <td>0.013343</td>\n",
              "      <td>0.010648</td>\n",
              "      <td>-0.000856</td>\n",
              "      <td>-0.003330</td>\n",
              "      <td>0.012003</td>\n",
              "      <td>-0.001421</td>\n",
              "      <td>0.137576</td>\n",
              "      <td>1.000000</td>\n",
              "    </tr>\n",
              "  </tbody>\n",
              "</table>\n",
              "</div>"
            ],
            "text/plain": [
              "                            Belts  ...  Contributed To Accident\n",
              "Belts                    1.000000  ...                 0.074945\n",
              "Personal Injury          0.103277  ...                 0.346391\n",
              "Property Damage          0.077954  ...                 0.367123\n",
              "Fatal                    0.000503  ...                 0.013343\n",
              "Commercial License      -0.003303  ...                 0.010648\n",
              "HAZMAT                   0.002793  ...                -0.000856\n",
              "Commercial Vehicle      -0.009632  ...                -0.003330\n",
              "Alcohol                 -0.001302  ...                 0.012003\n",
              "Work Zone                0.001977  ...                -0.001421\n",
              "Violation Type           0.049298  ...                 0.137576\n",
              "Contributed To Accident  0.074945  ...                 1.000000\n",
              "\n",
              "[11 rows x 11 columns]"
            ]
          },
          "metadata": {},
          "execution_count": 528
        }
      ]
    },
    {
      "cell_type": "code",
      "metadata": {
        "colab": {
          "base_uri": "https://localhost:8080/",
          "height": 378
        },
        "id": "1fyskqr6GDqO",
        "outputId": "439957cb-eee0-46d9-bc18-3cbec946c47f"
      },
      "source": [
        "sn.heatmap(corr_matrix, annot=True)\n",
        "plt.show()"
      ],
      "execution_count": 529,
      "outputs": [
        {
          "output_type": "display_data",
          "data": {
            "image/png": "[encoded data removed]",
            "text/plain": [
              "<Figure size 432x288 with 2 Axes>"
            ]
          },
          "metadata": {
            "needs_background": "light"
          }
        }
      ]
    },
    {
      "cell_type": "code",
      "metadata": {
        "id": "MxFENq6zx1SW"
      },
      "source": [
        "from sklearn.model_selection import train_test_split"
      ],
      "execution_count": 530,
      "outputs": []
    },
    {
      "cell_type": "code",
      "metadata": {
        "id": "kZ1HKlElx1YA"
      },
      "source": [
        "X_1 = Traffic_Violations_3.drop(columns= ['Violation Type'])\n",
        "\n",
        "\n",
        "y_1 = Traffic_Violations_3['Violation Type']\n",
        "\n",
        "X_train_1, X_test_1, y_train_1, y_test_1 = train_test_split(X_1, y_1, test_size=0.2, random_state=1)"
      ],
      "execution_count": 531,
      "outputs": []
    },
    {
      "cell_type": "code",
      "metadata": {
        "colab": {
          "base_uri": "https://localhost:8080/"
        },
        "id": "Gf264BMGx1cs",
        "outputId": "77298f98-64a6-4ef8-dafd-07980c270c3d"
      },
      "source": [
        "from sklearn.tree import DecisionTreeClassifier\n",
        "from sklearn import tree\n",
        "\n",
        "clf = tree.DecisionTreeClassifier(max_depth=5)\n",
        "clf.fit(X_train_1,y_train_1)"
      ],
      "execution_count": 532,
      "outputs": [
        {
          "output_type": "execute_result",
          "data": {
            "text/plain": [
              "DecisionTreeClassifier(ccp_alpha=0.0, class_weight=None, criterion='gini',\n",
              "                       max_depth=5, max_features=None, max_leaf_nodes=None,\n",
              "                       min_impurity_decrease=0.0, min_impurity_split=None,\n",
              "                       min_samples_leaf=1, min_samples_split=2,\n",
              "                       min_weight_fraction_leaf=0.0, presort='deprecated',\n",
              "                       random_state=None, splitter='best')"
            ]
          },
          "metadata": {},
          "execution_count": 532
        }
      ]
    },
    {
      "cell_type": "code",
      "metadata": {
        "colab": {
          "base_uri": "https://localhost:8080/"
        },
        "id": "D6DBbQHKx1gZ",
        "outputId": "db9cae3e-83d1-4bc3-ce35-e684f7a79eae"
      },
      "source": [
        "clf.score(X_test_1,y_test_1)"
      ],
      "execution_count": 533,
      "outputs": [
        {
          "output_type": "execute_result",
          "data": {
            "text/plain": [
              "0.554912391884534"
            ]
          },
          "metadata": {},
          "execution_count": 533
        }
      ]
    },
    {
      "cell_type": "code",
      "metadata": {
        "id": "bvZqHn9vB3j5"
      },
      "source": [
        "# the tree code from https://gist.github.com/HemanthDavuluri"
      ],
      "execution_count": 534,
      "outputs": []
    },
    {
      "cell_type": "code",
      "metadata": {
        "colab": {
          "base_uri": "https://localhost:8080/",
          "height": 936
        },
        "id": "FpxLQfC-tzZJ",
        "outputId": "01590890-7175-44ab-917b-0e4056c589ca"
      },
      "source": [
        "import graphviz \n",
        "tree_data = tree.export_graphviz(clf, out_file=None,\n",
        "                               feature_names=['Belts','Personal Injury','Property Damage','Fatal',\n",
        "                                              'Commercial License','HAZMAT','Commercial Vehicle',\n",
        "                                              'Work Zone','Contributed To Accident','Alcohol'],\n",
        "                               class_names=['Yes','No'],filled=True,\n",
        "                                rounded=True,  \n",
        "                              special_characters=True) \n",
        "graph = graphviz.Source(tree_data)\n",
        "graph.render(\"Gini\")\n",
        "graph"
      ],
      "execution_count": 535,
      "outputs": [
        {
          "output_type": "execute_result",
          "data": {
            "text/plain": [
              "<graphviz.files.Source at 0x7f6f9e2c00d0>"
            ],
            "image/svg+xml": "<?xml version=\"1.0\" encoding=\"UTF-8\" standalone=\"no\"?>\n<!DOCTYPE svg PUBLIC \"-//W3C//DTD SVG 1.1//EN\"\n \"http://www.w3.org/Graphics/SVG/1.1/DTD/svg11.dtd\">\n<!-- Generated by graphviz version 2.40.1 (20161225.0304)\n -->\n<!-- Title: Tree Pages: 1 -->\n<svg width=\"4639pt\" height=\"671pt\"\n viewBox=\"0.00 0.00 4638.50 671.00\" xmlns=\"http://www.w3.org/2000/svg\" xmlns:xlink=\"http://www.w3.org/1999/xlink\">\n<g id=\"graph0\" class=\"graph\" transform=\"scale(1 1) rotate(0) translate(4 667)\">\n<title>Tree</title>\n<polygon fill=\"#ffffff\" stroke=\"transparent\" points=\"-4,4 -4,-667 4634.5,-667 4634.5,4 -4,4\"/>\n<!-- 0 -->\n<g id=\"node1\" class=\"node\">\n<title>0</title>\n<path fill=\"#fdf7f3\" stroke=\"#000000\" d=\"M2844,-663C2844,-663 2662,-663 2662,-663 2656,-663 2650,-657 2650,-651 2650,-651 2650,-592 2650,-592 2650,-586 2656,-580 2662,-580 2662,-580 2844,-580 2844,-580 2850,-580 2856,-586 2856,-592 2856,-592 2856,-651 2856,-651 2856,-657 2850,-663 2844,-663\"/>\n<text text-anchor=\"start\" x=\"2711\" y=\"-647.8\" font-family=\"Helvetica,sans-Serif\" font-size=\"14.00\" fill=\"#000000\">Alcohol ≤ 0.5</text>\n<text text-anchor=\"start\" x=\"2723.5\" y=\"-632.8\" font-family=\"Helvetica,sans-Serif\" font-size=\"14.00\" fill=\"#000000\">gini = 0.5</text>\n<text text-anchor=\"start\" x=\"2692.5\" y=\"-617.8\" font-family=\"Helvetica,sans-Serif\" font-size=\"14.00\" fill=\"#000000\">samples = 896261</text>\n<text text-anchor=\"start\" x=\"2658\" y=\"-602.8\" font-family=\"Helvetica,sans-Serif\" font-size=\"14.00\" fill=\"#000000\">value = [462198, 434044, 19]</text>\n<text text-anchor=\"start\" x=\"2716\" y=\"-587.8\" font-family=\"Helvetica,sans-Serif\" font-size=\"14.00\" fill=\"#000000\">class = Yes</text>\n</g>\n<!-- 1 -->\n<g id=\"node2\" class=\"node\">\n<title>1</title>\n<path fill=\"#fcf2eb\" stroke=\"#000000\" d=\"M2065,-544C2065,-544 1883,-544 1883,-544 1877,-544 1871,-538 1871,-532 1871,-532 1871,-473 1871,-473 1871,-467 1877,-461 1883,-461 1883,-461 2065,-461 2065,-461 2071,-461 2077,-467 2077,-473 2077,-473 2077,-532 2077,-532 2077,-538 2071,-544 2065,-544\"/>\n<text text-anchor=\"start\" x=\"1899\" y=\"-528.8\" font-family=\"Helvetica,sans-Serif\" font-size=\"14.00\" fill=\"#000000\">Property Damage ≤ 0.5</text>\n<text text-anchor=\"start\" x=\"1936\" y=\"-513.8\" font-family=\"Helvetica,sans-Serif\" font-size=\"14.00\" fill=\"#000000\">gini = 0.499</text>\n<text text-anchor=\"start\" x=\"1913.5\" y=\"-498.8\" font-family=\"Helvetica,sans-Serif\" font-size=\"14.00\" fill=\"#000000\">samples = 874980</text>\n<text text-anchor=\"start\" x=\"1879\" y=\"-483.8\" font-family=\"Helvetica,sans-Serif\" font-size=\"14.00\" fill=\"#000000\">value = [460566, 414395, 19]</text>\n<text text-anchor=\"start\" x=\"1937\" y=\"-468.8\" font-family=\"Helvetica,sans-Serif\" font-size=\"14.00\" fill=\"#000000\">class = Yes</text>\n</g>\n<!-- 0&#45;&gt;1 -->\n<g id=\"edge1\" class=\"edge\">\n<title>0&#45;&gt;1</title>\n<path fill=\"none\" stroke=\"#000000\" d=\"M2649.9569,-605.7591C2504.133,-583.4831 2238.5144,-542.9072 2087.2999,-519.8077\"/>\n<polygon fill=\"#000000\" stroke=\"#000000\" points=\"2087.4745,-516.2938 2077.0606,-518.2435 2086.4174,-523.2136 2087.4745,-516.2938\"/>\n<text text-anchor=\"middle\" x=\"2091.8661\" y=\"-534.688\" font-family=\"Helvetica,sans-Serif\" font-size=\"14.00\" fill=\"#000000\">True</text>\n</g>\n<!-- 32 -->\n<g id=\"node33\" class=\"node\">\n<title>32</title>\n<path fill=\"#49e78b\" stroke=\"#000000\" d=\"M3187.5,-544C3187.5,-544 3038.5,-544 3038.5,-544 3032.5,-544 3026.5,-538 3026.5,-532 3026.5,-532 3026.5,-473 3026.5,-473 3026.5,-467 3032.5,-461 3038.5,-461 3038.5,-461 3187.5,-461 3187.5,-461 3193.5,-461 3199.5,-467 3199.5,-473 3199.5,-473 3199.5,-532 3199.5,-532 3199.5,-538 3193.5,-544 3187.5,-544\"/>\n<text text-anchor=\"start\" x=\"3046.5\" y=\"-528.8\" font-family=\"Helvetica,sans-Serif\" font-size=\"14.00\" fill=\"#000000\">Personal Injury ≤ 0.5</text>\n<text text-anchor=\"start\" x=\"3075\" y=\"-513.8\" font-family=\"Helvetica,sans-Serif\" font-size=\"14.00\" fill=\"#000000\">gini = 0.142</text>\n<text text-anchor=\"start\" x=\"3057\" y=\"-498.8\" font-family=\"Helvetica,sans-Serif\" font-size=\"14.00\" fill=\"#000000\">samples = 21281</text>\n<text text-anchor=\"start\" x=\"3034.5\" y=\"-483.8\" font-family=\"Helvetica,sans-Serif\" font-size=\"14.00\" fill=\"#000000\">value = [1632, 19649, 0]</text>\n<text text-anchor=\"start\" x=\"3078.5\" y=\"-468.8\" font-family=\"Helvetica,sans-Serif\" font-size=\"14.00\" fill=\"#000000\">class = No</text>\n</g>\n<!-- 0&#45;&gt;32 -->\n<g id=\"edge32\" class=\"edge\">\n<title>0&#45;&gt;32</title>\n<path fill=\"none\" stroke=\"#000000\" d=\"M2856.1616,-587.3994C2906.6112,-570.723 2966.9747,-550.7695 3016.5025,-534.3978\"/>\n<polygon fill=\"#000000\" stroke=\"#000000\" points=\"3017.8612,-537.635 3026.2574,-531.1733 3015.6642,-530.9887 3017.8612,-537.635\"/>\n<text text-anchor=\"middle\" x=\"3015.0211\" y=\"-549.8059\" font-family=\"Helvetica,sans-Serif\" font-size=\"14.00\" fill=\"#000000\">False</text>\n</g>\n<!-- 2 -->\n<g id=\"node3\" class=\"node\">\n<title>2</title>\n<path fill=\"#fcf0e8\" stroke=\"#000000\" d=\"M1138,-425C1138,-425 956,-425 956,-425 950,-425 944,-419 944,-413 944,-413 944,-354 944,-354 944,-348 950,-342 956,-342 956,-342 1138,-342 1138,-342 1144,-342 1150,-348 1150,-354 1150,-354 1150,-413 1150,-413 1150,-419 1144,-425 1138,-425\"/>\n<text text-anchor=\"start\" x=\"980.5\" y=\"-409.8\" font-family=\"Helvetica,sans-Serif\" font-size=\"14.00\" fill=\"#000000\">Personal Injury ≤ 0.5</text>\n<text text-anchor=\"start\" x=\"1009\" y=\"-394.8\" font-family=\"Helvetica,sans-Serif\" font-size=\"14.00\" fill=\"#000000\">gini = 0.498</text>\n<text text-anchor=\"start\" x=\"986.5\" y=\"-379.8\" font-family=\"Helvetica,sans-Serif\" font-size=\"14.00\" fill=\"#000000\">samples = 865344</text>\n<text text-anchor=\"start\" x=\"952\" y=\"-364.8\" font-family=\"Helvetica,sans-Serif\" font-size=\"14.00\" fill=\"#000000\">value = [459603, 405724, 17]</text>\n<text text-anchor=\"start\" x=\"1010\" y=\"-349.8\" font-family=\"Helvetica,sans-Serif\" font-size=\"14.00\" fill=\"#000000\">class = Yes</text>\n</g>\n<!-- 1&#45;&gt;2 -->\n<g id=\"edge2\" class=\"edge\">\n<title>1&#45;&gt;2</title>\n<path fill=\"none\" stroke=\"#000000\" d=\"M1870.8067,-489.253C1695.7278,-466.7779 1341.8521,-421.3505 1160.2057,-398.0323\"/>\n<polygon fill=\"#000000\" stroke=\"#000000\" points=\"1160.4547,-394.5357 1150.0904,-396.7338 1159.5634,-401.4787 1160.4547,-394.5357\"/>\n</g>\n<!-- 17 -->\n<g id=\"node18\" class=\"node\">\n<title>17</title>\n<path fill=\"#4fe88f\" stroke=\"#000000\" d=\"M2040,-425C2040,-425 1908,-425 1908,-425 1902,-425 1896,-419 1896,-413 1896,-413 1896,-354 1896,-354 1896,-348 1902,-342 1908,-342 1908,-342 2040,-342 2040,-342 2046,-342 2052,-348 2052,-354 2052,-354 2052,-413 2052,-413 2052,-419 2046,-425 2040,-425\"/>\n<text text-anchor=\"start\" x=\"1940\" y=\"-409.8\" font-family=\"Helvetica,sans-Serif\" font-size=\"14.00\" fill=\"#000000\">Belts ≤ 0.5</text>\n<text text-anchor=\"start\" x=\"1940.5\" y=\"-394.8\" font-family=\"Helvetica,sans-Serif\" font-size=\"14.00\" fill=\"#000000\">gini = 0.18</text>\n<text text-anchor=\"start\" x=\"1922\" y=\"-379.8\" font-family=\"Helvetica,sans-Serif\" font-size=\"14.00\" fill=\"#000000\">samples = 9636</text>\n<text text-anchor=\"start\" x=\"1904\" y=\"-364.8\" font-family=\"Helvetica,sans-Serif\" font-size=\"14.00\" fill=\"#000000\">value = [963, 8671, 2]</text>\n<text text-anchor=\"start\" x=\"1939.5\" y=\"-349.8\" font-family=\"Helvetica,sans-Serif\" font-size=\"14.00\" fill=\"#000000\">class = No</text>\n</g>\n<!-- 1&#45;&gt;17 -->\n<g id=\"edge17\" class=\"edge\">\n<title>1&#45;&gt;17</title>\n<path fill=\"none\" stroke=\"#000000\" d=\"M1974,-460.8796C1974,-452.6838 1974,-443.9891 1974,-435.5013\"/>\n<polygon fill=\"#000000\" stroke=\"#000000\" points=\"1977.5001,-435.298 1974,-425.2981 1970.5001,-435.2981 1977.5001,-435.298\"/>\n</g>\n<!-- 3 -->\n<g id=\"node4\" class=\"node\">\n<title>3</title>\n<path fill=\"#fcefe6\" stroke=\"#000000\" d=\"M684,-306C684,-306 502,-306 502,-306 496,-306 490,-300 490,-294 490,-294 490,-235 490,-235 490,-229 496,-223 502,-223 502,-223 684,-223 684,-223 690,-223 696,-229 696,-235 696,-235 696,-294 696,-294 696,-300 690,-306 684,-306\"/>\n<text text-anchor=\"start\" x=\"539.5\" y=\"-290.8\" font-family=\"Helvetica,sans-Serif\" font-size=\"14.00\" fill=\"#000000\">Work Zone ≤ 0.5</text>\n<text text-anchor=\"start\" x=\"555\" y=\"-275.8\" font-family=\"Helvetica,sans-Serif\" font-size=\"14.00\" fill=\"#000000\">gini = 0.498</text>\n<text text-anchor=\"start\" x=\"532.5\" y=\"-260.8\" font-family=\"Helvetica,sans-Serif\" font-size=\"14.00\" fill=\"#000000\">samples = 860185</text>\n<text text-anchor=\"start\" x=\"498\" y=\"-245.8\" font-family=\"Helvetica,sans-Serif\" font-size=\"14.00\" fill=\"#000000\">value = [459133, 401035, 17]</text>\n<text text-anchor=\"start\" x=\"556\" y=\"-230.8\" font-family=\"Helvetica,sans-Serif\" font-size=\"14.00\" fill=\"#000000\">class = Yes</text>\n</g>\n<!-- 2&#45;&gt;3 -->\n<g id=\"edge3\" class=\"edge\">\n<title>2&#45;&gt;3</title>\n<path fill=\"none\" stroke=\"#000000\" d=\"M943.9804,-356.4971C872.9983,-337.8916 778.6855,-313.1709 705.7016,-294.0407\"/>\n<polygon fill=\"#000000\" stroke=\"#000000\" points=\"706.5648,-290.6488 696.0041,-291.4989 704.7899,-297.4201 706.5648,-290.6488\"/>\n</g>\n<!-- 10 -->\n<g id=\"node11\" class=\"node\">\n<title>10</title>\n<path fill=\"#4de88e\" stroke=\"#000000\" d=\"M1125,-306C1125,-306 969,-306 969,-306 963,-306 957,-300 957,-294 957,-294 957,-235 957,-235 957,-229 963,-223 969,-223 969,-223 1125,-223 1125,-223 1131,-223 1137,-229 1137,-235 1137,-235 1137,-294 1137,-294 1137,-300 1131,-306 1125,-306\"/>\n<text text-anchor=\"start\" x=\"965\" y=\"-290.8\" font-family=\"Helvetica,sans-Serif\" font-size=\"14.00\" fill=\"#000000\">Commercial Vehicle ≤ 0.5</text>\n<text text-anchor=\"start\" x=\"1009\" y=\"-275.8\" font-family=\"Helvetica,sans-Serif\" font-size=\"14.00\" fill=\"#000000\">gini = 0.166</text>\n<text text-anchor=\"start\" x=\"995\" y=\"-260.8\" font-family=\"Helvetica,sans-Serif\" font-size=\"14.00\" fill=\"#000000\">samples = 5159</text>\n<text text-anchor=\"start\" x=\"977\" y=\"-245.8\" font-family=\"Helvetica,sans-Serif\" font-size=\"14.00\" fill=\"#000000\">value = [470, 4689, 0]</text>\n<text text-anchor=\"start\" x=\"1012.5\" y=\"-230.8\" font-family=\"Helvetica,sans-Serif\" font-size=\"14.00\" fill=\"#000000\">class = No</text>\n</g>\n<!-- 2&#45;&gt;10 -->\n<g id=\"edge10\" class=\"edge\">\n<title>2&#45;&gt;10</title>\n<path fill=\"none\" stroke=\"#000000\" d=\"M1047,-341.8796C1047,-333.6838 1047,-324.9891 1047,-316.5013\"/>\n<polygon fill=\"#000000\" stroke=\"#000000\" points=\"1050.5001,-316.298 1047,-306.2981 1043.5001,-316.2981 1050.5001,-316.298\"/>\n</g>\n<!-- 4 -->\n<g id=\"node5\" class=\"node\">\n<title>4</title>\n<path fill=\"#fcefe5\" stroke=\"#000000\" d=\"M406,-187C406,-187 224,-187 224,-187 218,-187 212,-181 212,-175 212,-175 212,-116 212,-116 212,-110 218,-104 224,-104 224,-104 406,-104 406,-104 412,-104 418,-110 418,-116 418,-116 418,-175 418,-175 418,-181 412,-187 406,-187\"/>\n<text text-anchor=\"start\" x=\"281\" y=\"-171.8\" font-family=\"Helvetica,sans-Serif\" font-size=\"14.00\" fill=\"#000000\">Belts ≤ 0.5</text>\n<text text-anchor=\"start\" x=\"277\" y=\"-156.8\" font-family=\"Helvetica,sans-Serif\" font-size=\"14.00\" fill=\"#000000\">gini = 0.498</text>\n<text text-anchor=\"start\" x=\"254.5\" y=\"-141.8\" font-family=\"Helvetica,sans-Serif\" font-size=\"14.00\" fill=\"#000000\">samples = 858898</text>\n<text text-anchor=\"start\" x=\"220\" y=\"-126.8\" font-family=\"Helvetica,sans-Serif\" font-size=\"14.00\" fill=\"#000000\">value = [459052, 399829, 17]</text>\n<text text-anchor=\"start\" x=\"278\" y=\"-111.8\" font-family=\"Helvetica,sans-Serif\" font-size=\"14.00\" fill=\"#000000\">class = Yes</text>\n</g>\n<!-- 3&#45;&gt;4 -->\n<g id=\"edge4\" class=\"edge\">\n<title>3&#45;&gt;4</title>\n<path fill=\"none\" stroke=\"#000000\" d=\"M495.7691,-222.8796C471.7499,-212.598 445.8963,-201.5311 421.4637,-191.0726\"/>\n<polygon fill=\"#000000\" stroke=\"#000000\" points=\"422.7465,-187.8146 412.176,-187.0969 419.9918,-194.2498 422.7465,-187.8146\"/>\n</g>\n<!-- 7 -->\n<g id=\"node8\" class=\"node\">\n<title>7</title>\n<path fill=\"#46e789\" stroke=\"#000000\" d=\"M684,-187C684,-187 502,-187 502,-187 496,-187 490,-181 490,-175 490,-175 490,-116 490,-116 490,-110 496,-104 502,-104 502,-104 684,-104 684,-104 690,-104 696,-110 696,-116 696,-116 696,-175 696,-175 696,-181 690,-187 684,-187\"/>\n<text text-anchor=\"start\" x=\"498\" y=\"-171.8\" font-family=\"Helvetica,sans-Serif\" font-size=\"14.00\" fill=\"#000000\">Contributed To Accident ≤ 0.5</text>\n<text text-anchor=\"start\" x=\"555\" y=\"-156.8\" font-family=\"Helvetica,sans-Serif\" font-size=\"14.00\" fill=\"#000000\">gini = 0.118</text>\n<text text-anchor=\"start\" x=\"541\" y=\"-141.8\" font-family=\"Helvetica,sans-Serif\" font-size=\"14.00\" fill=\"#000000\">samples = 1287</text>\n<text text-anchor=\"start\" x=\"527\" y=\"-126.8\" font-family=\"Helvetica,sans-Serif\" font-size=\"14.00\" fill=\"#000000\">value = [81, 1206, 0]</text>\n<text text-anchor=\"start\" x=\"558.5\" y=\"-111.8\" font-family=\"Helvetica,sans-Serif\" font-size=\"14.00\" fill=\"#000000\">class = No</text>\n</g>\n<!-- 3&#45;&gt;7 -->\n<g id=\"edge7\" class=\"edge\">\n<title>3&#45;&gt;7</title>\n<path fill=\"none\" stroke=\"#000000\" d=\"M593,-222.8796C593,-214.6838 593,-205.9891 593,-197.5013\"/>\n<polygon fill=\"#000000\" stroke=\"#000000\" points=\"596.5001,-197.298 593,-187.2981 589.5001,-197.2981 596.5001,-197.298\"/>\n</g>\n<!-- 5 -->\n<g id=\"node6\" class=\"node\">\n<title>5</title>\n<path fill=\"#fbede3\" stroke=\"#000000\" d=\"M194,-68C194,-68 12,-68 12,-68 6,-68 0,-62 0,-56 0,-56 0,-12 0,-12 0,-6 6,0 12,0 12,0 194,0 194,0 200,0 206,-6 206,-12 206,-12 206,-56 206,-56 206,-62 200,-68 194,-68\"/>\n<text text-anchor=\"start\" x=\"65\" y=\"-52.8\" font-family=\"Helvetica,sans-Serif\" font-size=\"14.00\" fill=\"#000000\">gini = 0.497</text>\n<text text-anchor=\"start\" x=\"42.5\" y=\"-37.8\" font-family=\"Helvetica,sans-Serif\" font-size=\"14.00\" fill=\"#000000\">samples = 831918</text>\n<text text-anchor=\"start\" x=\"8\" y=\"-22.8\" font-family=\"Helvetica,sans-Serif\" font-size=\"14.00\" fill=\"#000000\">value = [447105, 384796, 17]</text>\n<text text-anchor=\"start\" x=\"66\" y=\"-7.8\" font-family=\"Helvetica,sans-Serif\" font-size=\"14.00\" fill=\"#000000\">class = Yes</text>\n</g>\n<!-- 4&#45;&gt;5 -->\n<g id=\"edge5\" class=\"edge\">\n<title>4&#45;&gt;5</title>\n<path fill=\"none\" stroke=\"#000000\" d=\"M236.059,-103.9815C216.6479,-93.7724 195.9394,-82.8809 176.7823,-72.8053\"/>\n<polygon fill=\"#000000\" stroke=\"#000000\" points=\"178.2883,-69.6429 167.8085,-68.0856 175.0299,-75.8383 178.2883,-69.6429\"/>\n</g>\n<!-- 6 -->\n<g id=\"node7\" class=\"node\">\n<title>6</title>\n<path fill=\"#d6fae5\" stroke=\"#000000\" d=\"M393.5,-68C393.5,-68 236.5,-68 236.5,-68 230.5,-68 224.5,-62 224.5,-56 224.5,-56 224.5,-12 224.5,-12 224.5,-6 230.5,0 236.5,0 236.5,0 393.5,0 393.5,0 399.5,0 405.5,-6 405.5,-12 405.5,-12 405.5,-56 405.5,-56 405.5,-62 399.5,-68 393.5,-68\"/>\n<text text-anchor=\"start\" x=\"277\" y=\"-52.8\" font-family=\"Helvetica,sans-Serif\" font-size=\"14.00\" fill=\"#000000\">gini = 0.493</text>\n<text text-anchor=\"start\" x=\"259\" y=\"-37.8\" font-family=\"Helvetica,sans-Serif\" font-size=\"14.00\" fill=\"#000000\">samples = 26980</text>\n<text text-anchor=\"start\" x=\"232.5\" y=\"-22.8\" font-family=\"Helvetica,sans-Serif\" font-size=\"14.00\" fill=\"#000000\">value = [11947, 15033, 0]</text>\n<text text-anchor=\"start\" x=\"280.5\" y=\"-7.8\" font-family=\"Helvetica,sans-Serif\" font-size=\"14.00\" fill=\"#000000\">class = No</text>\n</g>\n<!-- 4&#45;&gt;6 -->\n<g id=\"edge6\" class=\"edge\">\n<title>4&#45;&gt;6</title>\n<path fill=\"none\" stroke=\"#000000\" d=\"M315,-103.9815C315,-95.618 315,-86.7965 315,-78.3409\"/>\n<polygon fill=\"#000000\" stroke=\"#000000\" points=\"318.5001,-78.2636 315,-68.2637 311.5001,-78.2637 318.5001,-78.2636\"/>\n</g>\n<!-- 8 -->\n<g id=\"node9\" class=\"node\">\n<title>8</title>\n<path fill=\"#46e789\" stroke=\"#000000\" d=\"M560,-68C560,-68 436,-68 436,-68 430,-68 424,-62 424,-56 424,-56 424,-12 424,-12 424,-6 430,0 436,0 436,0 560,0 560,0 566,0 572,-6 572,-12 572,-12 572,-56 572,-56 572,-62 566,-68 560,-68\"/>\n<text text-anchor=\"start\" x=\"460\" y=\"-52.8\" font-family=\"Helvetica,sans-Serif\" font-size=\"14.00\" fill=\"#000000\">gini = 0.117</text>\n<text text-anchor=\"start\" x=\"446\" y=\"-37.8\" font-family=\"Helvetica,sans-Serif\" font-size=\"14.00\" fill=\"#000000\">samples = 1286</text>\n<text text-anchor=\"start\" x=\"432\" y=\"-22.8\" font-family=\"Helvetica,sans-Serif\" font-size=\"14.00\" fill=\"#000000\">value = [80, 1206, 0]</text>\n<text text-anchor=\"start\" x=\"463.5\" y=\"-7.8\" font-family=\"Helvetica,sans-Serif\" font-size=\"14.00\" fill=\"#000000\">class = No</text>\n</g>\n<!-- 7&#45;&gt;8 -->\n<g id=\"edge8\" class=\"edge\">\n<title>7&#45;&gt;8</title>\n<path fill=\"none\" stroke=\"#000000\" d=\"M557.6255,-103.9815C549.8732,-94.8828 541.6591,-85.242 533.8869,-76.1199\"/>\n<polygon fill=\"#000000\" stroke=\"#000000\" points=\"536.3428,-73.6056 527.1933,-68.2637 531.0146,-78.1454 536.3428,-73.6056\"/>\n</g>\n<!-- 9 -->\n<g id=\"node10\" class=\"node\">\n<title>9</title>\n<path fill=\"#e58139\" stroke=\"#000000\" d=\"M693.5,-68C693.5,-68 602.5,-68 602.5,-68 596.5,-68 590.5,-62 590.5,-56 590.5,-56 590.5,-12 590.5,-12 590.5,-6 596.5,0 602.5,0 602.5,0 693.5,0 693.5,0 699.5,0 705.5,-6 705.5,-12 705.5,-12 705.5,-56 705.5,-56 705.5,-62 699.5,-68 693.5,-68\"/>\n<text text-anchor=\"start\" x=\"618.5\" y=\"-52.8\" font-family=\"Helvetica,sans-Serif\" font-size=\"14.00\" fill=\"#000000\">gini = 0.0</text>\n<text text-anchor=\"start\" x=\"608.5\" y=\"-37.8\" font-family=\"Helvetica,sans-Serif\" font-size=\"14.00\" fill=\"#000000\">samples = 1</text>\n<text text-anchor=\"start\" x=\"598.5\" y=\"-22.8\" font-family=\"Helvetica,sans-Serif\" font-size=\"14.00\" fill=\"#000000\">value = [1, 0, 0]</text>\n<text text-anchor=\"start\" x=\"611\" y=\"-7.8\" font-family=\"Helvetica,sans-Serif\" font-size=\"14.00\" fill=\"#000000\">class = Yes</text>\n</g>\n<!-- 7&#45;&gt;9 -->\n<g id=\"edge9\" class=\"edge\">\n<title>7&#45;&gt;9</title>\n<path fill=\"none\" stroke=\"#000000\" d=\"M613.48,-103.9815C617.7415,-95.3423 622.244,-86.2144 626.5397,-77.5059\"/>\n<polygon fill=\"#000000\" stroke=\"#000000\" points=\"629.8137,-78.7803 631.0986,-68.2637 623.5359,-75.6836 629.8137,-78.7803\"/>\n</g>\n<!-- 11 -->\n<g id=\"node12\" class=\"node\">\n<title>11</title>\n<path fill=\"#4ce88d\" stroke=\"#000000\" d=\"M1019,-187C1019,-187 887,-187 887,-187 881,-187 875,-181 875,-175 875,-175 875,-116 875,-116 875,-110 881,-104 887,-104 887,-104 1019,-104 1019,-104 1025,-104 1031,-110 1031,-116 1031,-116 1031,-175 1031,-175 1031,-181 1025,-187 1019,-187\"/>\n<text text-anchor=\"start\" x=\"919\" y=\"-171.8\" font-family=\"Helvetica,sans-Serif\" font-size=\"14.00\" fill=\"#000000\">Belts ≤ 0.5</text>\n<text text-anchor=\"start\" x=\"915\" y=\"-156.8\" font-family=\"Helvetica,sans-Serif\" font-size=\"14.00\" fill=\"#000000\">gini = 0.162</text>\n<text text-anchor=\"start\" x=\"901\" y=\"-141.8\" font-family=\"Helvetica,sans-Serif\" font-size=\"14.00\" fill=\"#000000\">samples = 5135</text>\n<text text-anchor=\"start\" x=\"883\" y=\"-126.8\" font-family=\"Helvetica,sans-Serif\" font-size=\"14.00\" fill=\"#000000\">value = [458, 4677, 0]</text>\n<text text-anchor=\"start\" x=\"918.5\" y=\"-111.8\" font-family=\"Helvetica,sans-Serif\" font-size=\"14.00\" fill=\"#000000\">class = No</text>\n</g>\n<!-- 10&#45;&gt;11 -->\n<g id=\"edge11\" class=\"edge\">\n<title>10&#45;&gt;11</title>\n<path fill=\"none\" stroke=\"#000000\" d=\"M1014.1234,-222.8796C1007.0803,-213.9633 999.5707,-204.4565 992.3126,-195.268\"/>\n<polygon fill=\"#000000\" stroke=\"#000000\" points=\"994.9621,-192.9757 986.017,-187.2981 989.4691,-197.3147 994.9621,-192.9757\"/>\n</g>\n<!-- 14 -->\n<g id=\"node15\" class=\"node\">\n<title>14</title>\n<path fill=\"#ffffff\" stroke=\"#000000\" d=\"M1221,-187C1221,-187 1061,-187 1061,-187 1055,-187 1049,-181 1049,-175 1049,-175 1049,-116 1049,-116 1049,-110 1055,-104 1061,-104 1061,-104 1221,-104 1221,-104 1227,-104 1233,-110 1233,-116 1233,-116 1233,-175 1233,-175 1233,-181 1227,-187 1221,-187\"/>\n<text text-anchor=\"start\" x=\"1057\" y=\"-171.8\" font-family=\"Helvetica,sans-Serif\" font-size=\"14.00\" fill=\"#000000\">Commercial License ≤ 0.5</text>\n<text text-anchor=\"start\" x=\"1111.5\" y=\"-156.8\" font-family=\"Helvetica,sans-Serif\" font-size=\"14.00\" fill=\"#000000\">gini = 0.5</text>\n<text text-anchor=\"start\" x=\"1097\" y=\"-141.8\" font-family=\"Helvetica,sans-Serif\" font-size=\"14.00\" fill=\"#000000\">samples = 24</text>\n<text text-anchor=\"start\" x=\"1083.5\" y=\"-126.8\" font-family=\"Helvetica,sans-Serif\" font-size=\"14.00\" fill=\"#000000\">value = [12, 12, 0]</text>\n<text text-anchor=\"start\" x=\"1104\" y=\"-111.8\" font-family=\"Helvetica,sans-Serif\" font-size=\"14.00\" fill=\"#000000\">class = Yes</text>\n</g>\n<!-- 10&#45;&gt;14 -->\n<g id=\"edge14\" class=\"edge\">\n<title>10&#45;&gt;14</title>\n<path fill=\"none\" stroke=\"#000000\" d=\"M1079.8766,-222.8796C1086.9197,-213.9633 1094.4293,-204.4565 1101.6874,-195.268\"/>\n<polygon fill=\"#000000\" stroke=\"#000000\" points=\"1104.5309,-197.3147 1107.983,-187.2981 1099.0379,-192.9757 1104.5309,-197.3147\"/>\n</g>\n<!-- 12 -->\n<g id=\"node13\" class=\"node\">\n<title>12</title>\n<path fill=\"#4ae78c\" stroke=\"#000000\" d=\"M868,-68C868,-68 736,-68 736,-68 730,-68 724,-62 724,-56 724,-56 724,-12 724,-12 724,-6 730,0 736,0 736,0 868,0 868,0 874,0 880,-6 880,-12 880,-12 880,-56 880,-56 880,-62 874,-68 868,-68\"/>\n<text text-anchor=\"start\" x=\"764\" y=\"-52.8\" font-family=\"Helvetica,sans-Serif\" font-size=\"14.00\" fill=\"#000000\">gini = 0.147</text>\n<text text-anchor=\"start\" x=\"750\" y=\"-37.8\" font-family=\"Helvetica,sans-Serif\" font-size=\"14.00\" fill=\"#000000\">samples = 4092</text>\n<text text-anchor=\"start\" x=\"732\" y=\"-22.8\" font-family=\"Helvetica,sans-Serif\" font-size=\"14.00\" fill=\"#000000\">value = [326, 3766, 0]</text>\n<text text-anchor=\"start\" x=\"767.5\" y=\"-7.8\" font-family=\"Helvetica,sans-Serif\" font-size=\"14.00\" fill=\"#000000\">class = No</text>\n</g>\n<!-- 11&#45;&gt;12 -->\n<g id=\"edge12\" class=\"edge\">\n<title>11&#45;&gt;12</title>\n<path fill=\"none\" stroke=\"#000000\" d=\"M896.7732,-103.9815C883.7043,-94.3313 869.8097,-84.0714 856.8032,-74.4673\"/>\n<polygon fill=\"#000000\" stroke=\"#000000\" points=\"858.5255,-71.3883 848.4019,-68.2637 854.3674,-77.0195 858.5255,-71.3883\"/>\n</g>\n<!-- 13 -->\n<g id=\"node14\" class=\"node\">\n<title>13</title>\n<path fill=\"#56e993\" stroke=\"#000000\" d=\"M1034,-68C1034,-68 910,-68 910,-68 904,-68 898,-62 898,-56 898,-56 898,-12 898,-12 898,-6 904,0 910,0 910,0 1034,0 1034,0 1040,0 1046,-6 1046,-12 1046,-12 1046,-56 1046,-56 1046,-62 1040,-68 1034,-68\"/>\n<text text-anchor=\"start\" x=\"934\" y=\"-52.8\" font-family=\"Helvetica,sans-Serif\" font-size=\"14.00\" fill=\"#000000\">gini = 0.221</text>\n<text text-anchor=\"start\" x=\"920\" y=\"-37.8\" font-family=\"Helvetica,sans-Serif\" font-size=\"14.00\" fill=\"#000000\">samples = 1043</text>\n<text text-anchor=\"start\" x=\"906\" y=\"-22.8\" font-family=\"Helvetica,sans-Serif\" font-size=\"14.00\" fill=\"#000000\">value = [132, 911, 0]</text>\n<text text-anchor=\"start\" x=\"937.5\" y=\"-7.8\" font-family=\"Helvetica,sans-Serif\" font-size=\"14.00\" fill=\"#000000\">class = No</text>\n</g>\n<!-- 11&#45;&gt;13 -->\n<g id=\"edge13\" class=\"edge\">\n<title>11&#45;&gt;13</title>\n<path fill=\"none\" stroke=\"#000000\" d=\"M960.0749,-103.9815C961.5001,-95.618 963.0033,-86.7965 964.4442,-78.3409\"/>\n<polygon fill=\"#000000\" stroke=\"#000000\" points=\"967.9317,-78.7095 966.1613,-68.2637 961.0312,-77.5336 967.9317,-78.7095\"/>\n</g>\n<!-- 15 -->\n<g id=\"node16\" class=\"node\">\n<title>15</title>\n<path fill=\"#39e581\" stroke=\"#000000\" d=\"M1167.5,-68C1167.5,-68 1076.5,-68 1076.5,-68 1070.5,-68 1064.5,-62 1064.5,-56 1064.5,-56 1064.5,-12 1064.5,-12 1064.5,-6 1070.5,0 1076.5,0 1076.5,0 1167.5,0 1167.5,0 1173.5,0 1179.5,-6 1179.5,-12 1179.5,-12 1179.5,-56 1179.5,-56 1179.5,-62 1173.5,-68 1167.5,-68\"/>\n<text text-anchor=\"start\" x=\"1092.5\" y=\"-52.8\" font-family=\"Helvetica,sans-Serif\" font-size=\"14.00\" fill=\"#000000\">gini = 0.0</text>\n<text text-anchor=\"start\" x=\"1082.5\" y=\"-37.8\" font-family=\"Helvetica,sans-Serif\" font-size=\"14.00\" fill=\"#000000\">samples = 2</text>\n<text text-anchor=\"start\" x=\"1072.5\" y=\"-22.8\" font-family=\"Helvetica,sans-Serif\" font-size=\"14.00\" fill=\"#000000\">value = [0, 2, 0]</text>\n<text text-anchor=\"start\" x=\"1087.5\" y=\"-7.8\" font-family=\"Helvetica,sans-Serif\" font-size=\"14.00\" fill=\"#000000\">class = No</text>\n</g>\n<!-- 14&#45;&gt;15 -->\n<g id=\"edge15\" class=\"edge\">\n<title>14&#45;&gt;15</title>\n<path fill=\"none\" stroke=\"#000000\" d=\"M1133.9251,-103.9815C1132.4999,-95.618 1130.9967,-86.7965 1129.5558,-78.3409\"/>\n<polygon fill=\"#000000\" stroke=\"#000000\" points=\"1132.9688,-77.5336 1127.8387,-68.2637 1126.0683,-78.7095 1132.9688,-77.5336\"/>\n</g>\n<!-- 16 -->\n<g id=\"node17\" class=\"node\">\n<title>16</title>\n<path fill=\"#fbeade\" stroke=\"#000000\" d=\"M1316.5,-68C1316.5,-68 1209.5,-68 1209.5,-68 1203.5,-68 1197.5,-62 1197.5,-56 1197.5,-56 1197.5,-12 1197.5,-12 1197.5,-6 1203.5,0 1209.5,0 1209.5,0 1316.5,0 1316.5,0 1322.5,0 1328.5,-6 1328.5,-12 1328.5,-12 1328.5,-56 1328.5,-56 1328.5,-62 1322.5,-68 1316.5,-68\"/>\n<text text-anchor=\"start\" x=\"1225\" y=\"-52.8\" font-family=\"Helvetica,sans-Serif\" font-size=\"14.00\" fill=\"#000000\">gini = 0.496</text>\n<text text-anchor=\"start\" x=\"1219\" y=\"-37.8\" font-family=\"Helvetica,sans-Serif\" font-size=\"14.00\" fill=\"#000000\">samples = 22</text>\n<text text-anchor=\"start\" x=\"1205.5\" y=\"-22.8\" font-family=\"Helvetica,sans-Serif\" font-size=\"14.00\" fill=\"#000000\">value = [12, 10, 0]</text>\n<text text-anchor=\"start\" x=\"1226\" y=\"-7.8\" font-family=\"Helvetica,sans-Serif\" font-size=\"14.00\" fill=\"#000000\">class = Yes</text>\n</g>\n<!-- 14&#45;&gt;16 -->\n<g id=\"edge16\" class=\"edge\">\n<title>14&#45;&gt;16</title>\n<path fill=\"none\" stroke=\"#000000\" d=\"M1186.4283,-103.9815C1196.7861,-94.5151 1207.7859,-84.462 1218.1206,-75.0168\"/>\n<polygon fill=\"#000000\" stroke=\"#000000\" points=\"1220.4893,-77.5935 1225.5097,-68.2637 1215.7669,-72.4264 1220.4893,-77.5935\"/>\n</g>\n<!-- 18 -->\n<g id=\"node19\" class=\"node\">\n<title>18</title>\n<path fill=\"#4de88e\" stroke=\"#000000\" d=\"M1900,-306C1900,-306 1744,-306 1744,-306 1738,-306 1732,-300 1732,-294 1732,-294 1732,-235 1732,-235 1732,-229 1738,-223 1744,-223 1744,-223 1900,-223 1900,-223 1906,-223 1912,-229 1912,-235 1912,-235 1912,-294 1912,-294 1912,-300 1906,-306 1900,-306\"/>\n<text text-anchor=\"start\" x=\"1740\" y=\"-290.8\" font-family=\"Helvetica,sans-Serif\" font-size=\"14.00\" fill=\"#000000\">Commercial Vehicle ≤ 0.5</text>\n<text text-anchor=\"start\" x=\"1784\" y=\"-275.8\" font-family=\"Helvetica,sans-Serif\" font-size=\"14.00\" fill=\"#000000\">gini = 0.169</text>\n<text text-anchor=\"start\" x=\"1770\" y=\"-260.8\" font-family=\"Helvetica,sans-Serif\" font-size=\"14.00\" fill=\"#000000\">samples = 8548</text>\n<text text-anchor=\"start\" x=\"1752\" y=\"-245.8\" font-family=\"Helvetica,sans-Serif\" font-size=\"14.00\" fill=\"#000000\">value = [796, 7752, 0]</text>\n<text text-anchor=\"start\" x=\"1787.5\" y=\"-230.8\" font-family=\"Helvetica,sans-Serif\" font-size=\"14.00\" fill=\"#000000\">class = No</text>\n</g>\n<!-- 17&#45;&gt;18 -->\n<g id=\"edge18\" class=\"edge\">\n<title>17&#45;&gt;18</title>\n<path fill=\"none\" stroke=\"#000000\" d=\"M1920.8378,-341.8796C1908.6885,-332.368 1895.6808,-322.1843 1883.224,-312.432\"/>\n<polygon fill=\"#000000\" stroke=\"#000000\" points=\"1885.1638,-309.5055 1875.1322,-306.0969 1880.8486,-315.0173 1885.1638,-309.5055\"/>\n</g>\n<!-- 25 -->\n<g id=\"node26\" class=\"node\">\n<title>25</title>\n<path fill=\"#5dea98\" stroke=\"#000000\" d=\"M2139,-306C2139,-306 1979,-306 1979,-306 1973,-306 1967,-300 1967,-294 1967,-294 1967,-235 1967,-235 1967,-229 1973,-223 1979,-223 1979,-223 2139,-223 2139,-223 2145,-223 2151,-229 2151,-235 2151,-235 2151,-294 2151,-294 2151,-300 2145,-306 2139,-306\"/>\n<text text-anchor=\"start\" x=\"1975\" y=\"-290.8\" font-family=\"Helvetica,sans-Serif\" font-size=\"14.00\" fill=\"#000000\">Commercial License ≤ 0.5</text>\n<text text-anchor=\"start\" x=\"2021\" y=\"-275.8\" font-family=\"Helvetica,sans-Serif\" font-size=\"14.00\" fill=\"#000000\">gini = 0.263</text>\n<text text-anchor=\"start\" x=\"2007\" y=\"-260.8\" font-family=\"Helvetica,sans-Serif\" font-size=\"14.00\" fill=\"#000000\">samples = 1088</text>\n<text text-anchor=\"start\" x=\"1993\" y=\"-245.8\" font-family=\"Helvetica,sans-Serif\" font-size=\"14.00\" fill=\"#000000\">value = [167, 919, 2]</text>\n<text text-anchor=\"start\" x=\"2024.5\" y=\"-230.8\" font-family=\"Helvetica,sans-Serif\" font-size=\"14.00\" fill=\"#000000\">class = No</text>\n</g>\n<!-- 17&#45;&gt;25 -->\n<g id=\"edge25\" class=\"edge\">\n<title>17&#45;&gt;25</title>\n<path fill=\"none\" stroke=\"#000000\" d=\"M2003.7289,-341.8796C2010.0333,-333.0534 2016.751,-323.6485 2023.2524,-314.5466\"/>\n<polygon fill=\"#000000\" stroke=\"#000000\" points=\"2026.1799,-316.4698 2029.1442,-306.2981 2020.4837,-312.4011 2026.1799,-316.4698\"/>\n</g>\n<!-- 19 -->\n<g id=\"node20\" class=\"node\">\n<title>19</title>\n<path fill=\"#4de88e\" stroke=\"#000000\" d=\"M1670,-187C1670,-187 1488,-187 1488,-187 1482,-187 1476,-181 1476,-175 1476,-175 1476,-116 1476,-116 1476,-110 1482,-104 1488,-104 1488,-104 1670,-104 1670,-104 1676,-104 1682,-110 1682,-116 1682,-116 1682,-175 1682,-175 1682,-181 1676,-187 1670,-187\"/>\n<text text-anchor=\"start\" x=\"1484\" y=\"-171.8\" font-family=\"Helvetica,sans-Serif\" font-size=\"14.00\" fill=\"#000000\">Contributed To Accident ≤ 0.5</text>\n<text text-anchor=\"start\" x=\"1541\" y=\"-156.8\" font-family=\"Helvetica,sans-Serif\" font-size=\"14.00\" fill=\"#000000\">gini = 0.168</text>\n<text text-anchor=\"start\" x=\"1527\" y=\"-141.8\" font-family=\"Helvetica,sans-Serif\" font-size=\"14.00\" fill=\"#000000\">samples = 8522</text>\n<text text-anchor=\"start\" x=\"1509\" y=\"-126.8\" font-family=\"Helvetica,sans-Serif\" font-size=\"14.00\" fill=\"#000000\">value = [787, 7735, 0]</text>\n<text text-anchor=\"start\" x=\"1544.5\" y=\"-111.8\" font-family=\"Helvetica,sans-Serif\" font-size=\"14.00\" fill=\"#000000\">class = No</text>\n</g>\n<!-- 18&#45;&gt;19 -->\n<g id=\"edge19\" class=\"edge\">\n<title>18&#45;&gt;19</title>\n<path fill=\"none\" stroke=\"#000000\" d=\"M1737.0104,-222.8796C1716.3852,-212.7791 1694.2125,-201.9209 1673.1901,-191.626\"/>\n<polygon fill=\"#000000\" stroke=\"#000000\" points=\"1674.4619,-188.3517 1663.9416,-187.0969 1671.3832,-194.6384 1674.4619,-188.3517\"/>\n</g>\n<!-- 22 -->\n<g id=\"node23\" class=\"node\">\n<title>22</title>\n<path fill=\"#a2f3c4\" stroke=\"#000000\" d=\"M1902,-187C1902,-187 1742,-187 1742,-187 1736,-187 1730,-181 1730,-175 1730,-175 1730,-116 1730,-116 1730,-110 1736,-104 1742,-104 1742,-104 1902,-104 1902,-104 1908,-104 1914,-110 1914,-116 1914,-116 1914,-175 1914,-175 1914,-181 1908,-187 1902,-187\"/>\n<text text-anchor=\"start\" x=\"1738\" y=\"-171.8\" font-family=\"Helvetica,sans-Serif\" font-size=\"14.00\" fill=\"#000000\">Commercial License ≤ 0.5</text>\n<text text-anchor=\"start\" x=\"1784\" y=\"-156.8\" font-family=\"Helvetica,sans-Serif\" font-size=\"14.00\" fill=\"#000000\">gini = 0.453</text>\n<text text-anchor=\"start\" x=\"1778\" y=\"-141.8\" font-family=\"Helvetica,sans-Serif\" font-size=\"14.00\" fill=\"#000000\">samples = 26</text>\n<text text-anchor=\"start\" x=\"1768.5\" y=\"-126.8\" font-family=\"Helvetica,sans-Serif\" font-size=\"14.00\" fill=\"#000000\">value = [9, 17, 0]</text>\n<text text-anchor=\"start\" x=\"1787.5\" y=\"-111.8\" font-family=\"Helvetica,sans-Serif\" font-size=\"14.00\" fill=\"#000000\">class = No</text>\n</g>\n<!-- 18&#45;&gt;22 -->\n<g id=\"edge22\" class=\"edge\">\n<title>18&#45;&gt;22</title>\n<path fill=\"none\" stroke=\"#000000\" d=\"M1822,-222.8796C1822,-214.6838 1822,-205.9891 1822,-197.5013\"/>\n<polygon fill=\"#000000\" stroke=\"#000000\" points=\"1825.5001,-197.298 1822,-187.2981 1818.5001,-197.2981 1825.5001,-197.298\"/>\n</g>\n<!-- 20 -->\n<g id=\"node21\" class=\"node\">\n<title>20</title>\n<path fill=\"#4de88e\" stroke=\"#000000\" d=\"M1491,-68C1491,-68 1359,-68 1359,-68 1353,-68 1347,-62 1347,-56 1347,-56 1347,-12 1347,-12 1347,-6 1353,0 1359,0 1359,0 1491,0 1491,0 1497,0 1503,-6 1503,-12 1503,-12 1503,-56 1503,-56 1503,-62 1497,-68 1491,-68\"/>\n<text text-anchor=\"start\" x=\"1387\" y=\"-52.8\" font-family=\"Helvetica,sans-Serif\" font-size=\"14.00\" fill=\"#000000\">gini = 0.167</text>\n<text text-anchor=\"start\" x=\"1373\" y=\"-37.8\" font-family=\"Helvetica,sans-Serif\" font-size=\"14.00\" fill=\"#000000\">samples = 8514</text>\n<text text-anchor=\"start\" x=\"1355\" y=\"-22.8\" font-family=\"Helvetica,sans-Serif\" font-size=\"14.00\" fill=\"#000000\">value = [783, 7731, 0]</text>\n<text text-anchor=\"start\" x=\"1390.5\" y=\"-7.8\" font-family=\"Helvetica,sans-Serif\" font-size=\"14.00\" fill=\"#000000\">class = No</text>\n</g>\n<!-- 19&#45;&gt;20 -->\n<g id=\"edge20\" class=\"edge\">\n<title>19&#45;&gt;20</title>\n<path fill=\"none\" stroke=\"#000000\" d=\"M1521.6561,-103.9815C1508.2006,-94.2394 1493.8869,-83.8759 1480.5133,-74.193\"/>\n<polygon fill=\"#000000\" stroke=\"#000000\" points=\"1482.4763,-71.2933 1472.3238,-68.2637 1478.3711,-76.9632 1482.4763,-71.2933\"/>\n</g>\n<!-- 21 -->\n<g id=\"node22\" class=\"node\">\n<title>21</title>\n<path fill=\"#ffffff\" stroke=\"#000000\" d=\"M1624.5,-68C1624.5,-68 1533.5,-68 1533.5,-68 1527.5,-68 1521.5,-62 1521.5,-56 1521.5,-56 1521.5,-12 1521.5,-12 1521.5,-6 1527.5,0 1533.5,0 1533.5,0 1624.5,0 1624.5,0 1630.5,0 1636.5,-6 1636.5,-12 1636.5,-12 1636.5,-56 1636.5,-56 1636.5,-62 1630.5,-68 1624.5,-68\"/>\n<text text-anchor=\"start\" x=\"1549.5\" y=\"-52.8\" font-family=\"Helvetica,sans-Serif\" font-size=\"14.00\" fill=\"#000000\">gini = 0.5</text>\n<text text-anchor=\"start\" x=\"1539.5\" y=\"-37.8\" font-family=\"Helvetica,sans-Serif\" font-size=\"14.00\" fill=\"#000000\">samples = 8</text>\n<text text-anchor=\"start\" x=\"1529.5\" y=\"-22.8\" font-family=\"Helvetica,sans-Serif\" font-size=\"14.00\" fill=\"#000000\">value = [4, 4, 0]</text>\n<text text-anchor=\"start\" x=\"1542\" y=\"-7.8\" font-family=\"Helvetica,sans-Serif\" font-size=\"14.00\" fill=\"#000000\">class = Yes</text>\n</g>\n<!-- 19&#45;&gt;21 -->\n<g id=\"edge21\" class=\"edge\">\n<title>19&#45;&gt;21</title>\n<path fill=\"none\" stroke=\"#000000\" d=\"M1579,-103.9815C1579,-95.618 1579,-86.7965 1579,-78.3409\"/>\n<polygon fill=\"#000000\" stroke=\"#000000\" points=\"1582.5001,-78.2636 1579,-68.2637 1575.5001,-78.2637 1582.5001,-78.2636\"/>\n</g>\n<!-- 23 -->\n<g id=\"node24\" class=\"node\">\n<title>23</title>\n<path fill=\"#9cf2c0\" stroke=\"#000000\" d=\"M1765.5,-68C1765.5,-68 1666.5,-68 1666.5,-68 1660.5,-68 1654.5,-62 1654.5,-56 1654.5,-56 1654.5,-12 1654.5,-12 1654.5,-6 1660.5,0 1666.5,0 1666.5,0 1765.5,0 1765.5,0 1771.5,0 1777.5,-6 1777.5,-12 1777.5,-12 1777.5,-56 1777.5,-56 1777.5,-62 1771.5,-68 1765.5,-68\"/>\n<text text-anchor=\"start\" x=\"1678\" y=\"-52.8\" font-family=\"Helvetica,sans-Serif\" font-size=\"14.00\" fill=\"#000000\">gini = 0.444</text>\n<text text-anchor=\"start\" x=\"1672\" y=\"-37.8\" font-family=\"Helvetica,sans-Serif\" font-size=\"14.00\" fill=\"#000000\">samples = 15</text>\n<text text-anchor=\"start\" x=\"1662.5\" y=\"-22.8\" font-family=\"Helvetica,sans-Serif\" font-size=\"14.00\" fill=\"#000000\">value = [5, 10, 0]</text>\n<text text-anchor=\"start\" x=\"1681.5\" y=\"-7.8\" font-family=\"Helvetica,sans-Serif\" font-size=\"14.00\" fill=\"#000000\">class = No</text>\n</g>\n<!-- 22&#45;&gt;23 -->\n<g id=\"edge23\" class=\"edge\">\n<title>22&#45;&gt;23</title>\n<path fill=\"none\" stroke=\"#000000\" d=\"M1782.5295,-103.9815C1773.7048,-94.6989 1764.3438,-84.8522 1755.5173,-75.5677\"/>\n<polygon fill=\"#000000\" stroke=\"#000000\" points=\"1758.0003,-73.0997 1748.5735,-68.2637 1752.927,-77.9228 1758.0003,-73.0997\"/>\n</g>\n<!-- 24 -->\n<g id=\"node25\" class=\"node\">\n<title>24</title>\n<path fill=\"#aaf4c9\" stroke=\"#000000\" d=\"M1898.5,-68C1898.5,-68 1807.5,-68 1807.5,-68 1801.5,-68 1795.5,-62 1795.5,-56 1795.5,-56 1795.5,-12 1795.5,-12 1795.5,-6 1801.5,0 1807.5,0 1807.5,0 1898.5,0 1898.5,0 1904.5,0 1910.5,-6 1910.5,-12 1910.5,-12 1910.5,-56 1910.5,-56 1910.5,-62 1904.5,-68 1898.5,-68\"/>\n<text text-anchor=\"start\" x=\"1815\" y=\"-52.8\" font-family=\"Helvetica,sans-Serif\" font-size=\"14.00\" fill=\"#000000\">gini = 0.463</text>\n<text text-anchor=\"start\" x=\"1809\" y=\"-37.8\" font-family=\"Helvetica,sans-Serif\" font-size=\"14.00\" fill=\"#000000\">samples = 11</text>\n<text text-anchor=\"start\" x=\"1803.5\" y=\"-22.8\" font-family=\"Helvetica,sans-Serif\" font-size=\"14.00\" fill=\"#000000\">value = [4, 7, 0]</text>\n<text text-anchor=\"start\" x=\"1818.5\" y=\"-7.8\" font-family=\"Helvetica,sans-Serif\" font-size=\"14.00\" fill=\"#000000\">class = No</text>\n</g>\n<!-- 22&#45;&gt;24 -->\n<g id=\"edge24\" class=\"edge\">\n<title>22&#45;&gt;24</title>\n<path fill=\"none\" stroke=\"#000000\" d=\"M1833.5433,-103.9815C1835.8941,-95.5261 1838.3751,-86.6026 1840.7495,-78.0623\"/>\n<polygon fill=\"#000000\" stroke=\"#000000\" points=\"1844.1671,-78.8358 1843.4738,-68.2637 1837.4229,-76.9607 1844.1671,-78.8358\"/>\n</g>\n<!-- 26 -->\n<g id=\"node27\" class=\"node\">\n<title>26</title>\n<path fill=\"#5cea97\" stroke=\"#000000\" d=\"M2137,-187C2137,-187 1981,-187 1981,-187 1975,-187 1969,-181 1969,-175 1969,-175 1969,-116 1969,-116 1969,-110 1975,-104 1981,-104 1981,-104 2137,-104 2137,-104 2143,-104 2149,-110 2149,-116 2149,-116 2149,-175 2149,-175 2149,-181 2143,-187 2137,-187\"/>\n<text text-anchor=\"start\" x=\"1977\" y=\"-171.8\" font-family=\"Helvetica,sans-Serif\" font-size=\"14.00\" fill=\"#000000\">Commercial Vehicle ≤ 0.5</text>\n<text text-anchor=\"start\" x=\"2021\" y=\"-156.8\" font-family=\"Helvetica,sans-Serif\" font-size=\"14.00\" fill=\"#000000\">gini = 0.254</text>\n<text text-anchor=\"start\" x=\"2007\" y=\"-141.8\" font-family=\"Helvetica,sans-Serif\" font-size=\"14.00\" fill=\"#000000\">samples = 1039</text>\n<text text-anchor=\"start\" x=\"1993\" y=\"-126.8\" font-family=\"Helvetica,sans-Serif\" font-size=\"14.00\" fill=\"#000000\">value = [155, 884, 0]</text>\n<text text-anchor=\"start\" x=\"2024.5\" y=\"-111.8\" font-family=\"Helvetica,sans-Serif\" font-size=\"14.00\" fill=\"#000000\">class = No</text>\n</g>\n<!-- 25&#45;&gt;26 -->\n<g id=\"edge26\" class=\"edge\">\n<title>25&#45;&gt;26</title>\n<path fill=\"none\" stroke=\"#000000\" d=\"M2059,-222.8796C2059,-214.6838 2059,-205.9891 2059,-197.5013\"/>\n<polygon fill=\"#000000\" stroke=\"#000000\" points=\"2062.5001,-197.298 2059,-187.2981 2055.5001,-197.2981 2062.5001,-197.298\"/>\n</g>\n<!-- 29 -->\n<g id=\"node30\" class=\"node\">\n<title>29</title>\n<path fill=\"#84efb1\" stroke=\"#000000\" d=\"M2372,-187C2372,-187 2216,-187 2216,-187 2210,-187 2204,-181 2204,-175 2204,-175 2204,-116 2204,-116 2204,-110 2210,-104 2216,-104 2216,-104 2372,-104 2372,-104 2378,-104 2384,-110 2384,-116 2384,-116 2384,-175 2384,-175 2384,-181 2378,-187 2372,-187\"/>\n<text text-anchor=\"start\" x=\"2212\" y=\"-171.8\" font-family=\"Helvetica,sans-Serif\" font-size=\"14.00\" fill=\"#000000\">Commercial Vehicle ≤ 0.5</text>\n<text text-anchor=\"start\" x=\"2256\" y=\"-156.8\" font-family=\"Helvetica,sans-Serif\" font-size=\"14.00\" fill=\"#000000\">gini = 0.428</text>\n<text text-anchor=\"start\" x=\"2250\" y=\"-141.8\" font-family=\"Helvetica,sans-Serif\" font-size=\"14.00\" fill=\"#000000\">samples = 49</text>\n<text text-anchor=\"start\" x=\"2236.5\" y=\"-126.8\" font-family=\"Helvetica,sans-Serif\" font-size=\"14.00\" fill=\"#000000\">value = [12, 35, 2]</text>\n<text text-anchor=\"start\" x=\"2259.5\" y=\"-111.8\" font-family=\"Helvetica,sans-Serif\" font-size=\"14.00\" fill=\"#000000\">class = No</text>\n</g>\n<!-- 25&#45;&gt;29 -->\n<g id=\"edge29\" class=\"edge\">\n<title>25&#45;&gt;29</title>\n<path fill=\"none\" stroke=\"#000000\" d=\"M2141.1916,-222.8796C2161.1378,-212.7791 2182.5805,-201.9209 2202.9108,-191.626\"/>\n<polygon fill=\"#000000\" stroke=\"#000000\" points=\"2204.5146,-194.7371 2211.8548,-187.0969 2201.3522,-188.4921 2204.5146,-194.7371\"/>\n</g>\n<!-- 27 -->\n<g id=\"node28\" class=\"node\">\n<title>27</title>\n<path fill=\"#5cea97\" stroke=\"#000000\" d=\"M2065,-68C2065,-68 1941,-68 1941,-68 1935,-68 1929,-62 1929,-56 1929,-56 1929,-12 1929,-12 1929,-6 1935,0 1941,0 1941,0 2065,0 2065,0 2071,0 2077,-6 2077,-12 2077,-12 2077,-56 2077,-56 2077,-62 2071,-68 2065,-68\"/>\n<text text-anchor=\"start\" x=\"1965\" y=\"-52.8\" font-family=\"Helvetica,sans-Serif\" font-size=\"14.00\" fill=\"#000000\">gini = 0.253</text>\n<text text-anchor=\"start\" x=\"1951\" y=\"-37.8\" font-family=\"Helvetica,sans-Serif\" font-size=\"14.00\" fill=\"#000000\">samples = 1037</text>\n<text text-anchor=\"start\" x=\"1937\" y=\"-22.8\" font-family=\"Helvetica,sans-Serif\" font-size=\"14.00\" fill=\"#000000\">value = [154, 883, 0]</text>\n<text text-anchor=\"start\" x=\"1968.5\" y=\"-7.8\" font-family=\"Helvetica,sans-Serif\" font-size=\"14.00\" fill=\"#000000\">class = No</text>\n</g>\n<!-- 26&#45;&gt;27 -->\n<g id=\"edge27\" class=\"edge\">\n<title>26&#45;&gt;27</title>\n<path fill=\"none\" stroke=\"#000000\" d=\"M2038.1477,-103.9815C2033.7625,-95.2504 2029.1267,-86.0202 2024.711,-77.2281\"/>\n<polygon fill=\"#000000\" stroke=\"#000000\" points=\"2027.8246,-75.6291 2020.2087,-68.2637 2021.5692,-78.7708 2027.8246,-75.6291\"/>\n</g>\n<!-- 28 -->\n<g id=\"node29\" class=\"node\">\n<title>28</title>\n<path fill=\"#ffffff\" stroke=\"#000000\" d=\"M2198.5,-68C2198.5,-68 2107.5,-68 2107.5,-68 2101.5,-68 2095.5,-62 2095.5,-56 2095.5,-56 2095.5,-12 2095.5,-12 2095.5,-6 2101.5,0 2107.5,0 2107.5,0 2198.5,0 2198.5,0 2204.5,0 2210.5,-6 2210.5,-12 2210.5,-12 2210.5,-56 2210.5,-56 2210.5,-62 2204.5,-68 2198.5,-68\"/>\n<text text-anchor=\"start\" x=\"2123.5\" y=\"-52.8\" font-family=\"Helvetica,sans-Serif\" font-size=\"14.00\" fill=\"#000000\">gini = 0.5</text>\n<text text-anchor=\"start\" x=\"2113.5\" y=\"-37.8\" font-family=\"Helvetica,sans-Serif\" font-size=\"14.00\" fill=\"#000000\">samples = 2</text>\n<text text-anchor=\"start\" x=\"2103.5\" y=\"-22.8\" font-family=\"Helvetica,sans-Serif\" font-size=\"14.00\" fill=\"#000000\">value = [1, 1, 0]</text>\n<text text-anchor=\"start\" x=\"2116\" y=\"-7.8\" font-family=\"Helvetica,sans-Serif\" font-size=\"14.00\" fill=\"#000000\">class = Yes</text>\n</g>\n<!-- 26&#45;&gt;28 -->\n<g id=\"edge28\" class=\"edge\">\n<title>26&#45;&gt;28</title>\n<path fill=\"none\" stroke=\"#000000\" d=\"M2094.0021,-103.9815C2101.6728,-94.8828 2109.8005,-85.242 2117.4909,-76.1199\"/>\n<polygon fill=\"#000000\" stroke=\"#000000\" points=\"2120.3444,-78.1652 2124.114,-68.2637 2114.9925,-73.6533 2120.3444,-78.1652\"/>\n</g>\n<!-- 30 -->\n<g id=\"node31\" class=\"node\">\n<title>30</title>\n<path fill=\"#87efb3\" stroke=\"#000000\" d=\"M2347.5,-68C2347.5,-68 2240.5,-68 2240.5,-68 2234.5,-68 2228.5,-62 2228.5,-56 2228.5,-56 2228.5,-12 2228.5,-12 2228.5,-6 2234.5,0 2240.5,0 2240.5,0 2347.5,0 2347.5,0 2353.5,0 2359.5,-6 2359.5,-12 2359.5,-12 2359.5,-56 2359.5,-56 2359.5,-62 2353.5,-68 2347.5,-68\"/>\n<text text-anchor=\"start\" x=\"2256\" y=\"-52.8\" font-family=\"Helvetica,sans-Serif\" font-size=\"14.00\" fill=\"#000000\">gini = 0.439</text>\n<text text-anchor=\"start\" x=\"2250\" y=\"-37.8\" font-family=\"Helvetica,sans-Serif\" font-size=\"14.00\" fill=\"#000000\">samples = 44</text>\n<text text-anchor=\"start\" x=\"2236.5\" y=\"-22.8\" font-family=\"Helvetica,sans-Serif\" font-size=\"14.00\" fill=\"#000000\">value = [11, 31, 2]</text>\n<text text-anchor=\"start\" x=\"2259.5\" y=\"-7.8\" font-family=\"Helvetica,sans-Serif\" font-size=\"14.00\" fill=\"#000000\">class = No</text>\n</g>\n<!-- 29&#45;&gt;30 -->\n<g id=\"edge30\" class=\"edge\">\n<title>29&#45;&gt;30</title>\n<path fill=\"none\" stroke=\"#000000\" d=\"M2294,-103.9815C2294,-95.618 2294,-86.7965 2294,-78.3409\"/>\n<polygon fill=\"#000000\" stroke=\"#000000\" points=\"2297.5001,-78.2636 2294,-68.2637 2290.5001,-78.2637 2297.5001,-78.2636\"/>\n</g>\n<!-- 31 -->\n<g id=\"node32\" class=\"node\">\n<title>31</title>\n<path fill=\"#6aeca0\" stroke=\"#000000\" d=\"M2480.5,-68C2480.5,-68 2389.5,-68 2389.5,-68 2383.5,-68 2377.5,-62 2377.5,-56 2377.5,-56 2377.5,-12 2377.5,-12 2377.5,-6 2383.5,0 2389.5,0 2389.5,0 2480.5,0 2480.5,0 2486.5,0 2492.5,-6 2492.5,-12 2492.5,-12 2492.5,-56 2492.5,-56 2492.5,-62 2486.5,-68 2480.5,-68\"/>\n<text text-anchor=\"start\" x=\"2401.5\" y=\"-52.8\" font-family=\"Helvetica,sans-Serif\" font-size=\"14.00\" fill=\"#000000\">gini = 0.32</text>\n<text text-anchor=\"start\" x=\"2395.5\" y=\"-37.8\" font-family=\"Helvetica,sans-Serif\" font-size=\"14.00\" fill=\"#000000\">samples = 5</text>\n<text text-anchor=\"start\" x=\"2385.5\" y=\"-22.8\" font-family=\"Helvetica,sans-Serif\" font-size=\"14.00\" fill=\"#000000\">value = [1, 4, 0]</text>\n<text text-anchor=\"start\" x=\"2400.5\" y=\"-7.8\" font-family=\"Helvetica,sans-Serif\" font-size=\"14.00\" fill=\"#000000\">class = No</text>\n</g>\n<!-- 29&#45;&gt;31 -->\n<g id=\"edge31\" class=\"edge\">\n<title>29&#45;&gt;31</title>\n<path fill=\"none\" stroke=\"#000000\" d=\"M2346.5032,-103.9815C2358.7066,-94.3313 2371.681,-84.0714 2383.8261,-74.4673\"/>\n<polygon fill=\"#000000\" stroke=\"#000000\" points=\"2385.9982,-77.2118 2391.671,-68.2637 2381.6562,-71.7211 2385.9982,-77.2118\"/>\n</g>\n<!-- 33 -->\n<g id=\"node34\" class=\"node\">\n<title>33</title>\n<path fill=\"#4ce88d\" stroke=\"#000000\" d=\"M3187.5,-425C3187.5,-425 3038.5,-425 3038.5,-425 3032.5,-425 3026.5,-419 3026.5,-413 3026.5,-413 3026.5,-354 3026.5,-354 3026.5,-348 3032.5,-342 3038.5,-342 3038.5,-342 3187.5,-342 3187.5,-342 3193.5,-342 3199.5,-348 3199.5,-354 3199.5,-354 3199.5,-413 3199.5,-413 3199.5,-419 3193.5,-425 3187.5,-425\"/>\n<text text-anchor=\"start\" x=\"3038\" y=\"-409.8\" font-family=\"Helvetica,sans-Serif\" font-size=\"14.00\" fill=\"#000000\">Property Damage ≤ 0.5</text>\n<text text-anchor=\"start\" x=\"3075\" y=\"-394.8\" font-family=\"Helvetica,sans-Serif\" font-size=\"14.00\" fill=\"#000000\">gini = 0.163</text>\n<text text-anchor=\"start\" x=\"3057\" y=\"-379.8\" font-family=\"Helvetica,sans-Serif\" font-size=\"14.00\" fill=\"#000000\">samples = 15910</text>\n<text text-anchor=\"start\" x=\"3034.5\" y=\"-364.8\" font-family=\"Helvetica,sans-Serif\" font-size=\"14.00\" fill=\"#000000\">value = [1426, 14484, 0]</text>\n<text text-anchor=\"start\" x=\"3078.5\" y=\"-349.8\" font-family=\"Helvetica,sans-Serif\" font-size=\"14.00\" fill=\"#000000\">class = No</text>\n</g>\n<!-- 32&#45;&gt;33 -->\n<g id=\"edge33\" class=\"edge\">\n<title>32&#45;&gt;33</title>\n<path fill=\"none\" stroke=\"#000000\" d=\"M3113,-460.8796C3113,-452.6838 3113,-443.9891 3113,-435.5013\"/>\n<polygon fill=\"#000000\" stroke=\"#000000\" points=\"3116.5001,-435.298 3113,-425.2981 3109.5001,-435.2981 3116.5001,-435.298\"/>\n</g>\n<!-- 48 -->\n<g id=\"node49\" class=\"node\">\n<title>48</title>\n<path fill=\"#41e686\" stroke=\"#000000\" d=\"M4025,-425C4025,-425 3893,-425 3893,-425 3887,-425 3881,-419 3881,-413 3881,-413 3881,-354 3881,-354 3881,-348 3887,-342 3893,-342 3893,-342 4025,-342 4025,-342 4031,-342 4037,-348 4037,-354 4037,-354 4037,-413 4037,-413 4037,-419 4031,-425 4025,-425\"/>\n<text text-anchor=\"start\" x=\"3925\" y=\"-409.8\" font-family=\"Helvetica,sans-Serif\" font-size=\"14.00\" fill=\"#000000\">Belts ≤ 0.5</text>\n<text text-anchor=\"start\" x=\"3921\" y=\"-394.8\" font-family=\"Helvetica,sans-Serif\" font-size=\"14.00\" fill=\"#000000\">gini = 0.074</text>\n<text text-anchor=\"start\" x=\"3907\" y=\"-379.8\" font-family=\"Helvetica,sans-Serif\" font-size=\"14.00\" fill=\"#000000\">samples = 5371</text>\n<text text-anchor=\"start\" x=\"3889\" y=\"-364.8\" font-family=\"Helvetica,sans-Serif\" font-size=\"14.00\" fill=\"#000000\">value = [206, 5165, 0]</text>\n<text text-anchor=\"start\" x=\"3924.5\" y=\"-349.8\" font-family=\"Helvetica,sans-Serif\" font-size=\"14.00\" fill=\"#000000\">class = No</text>\n</g>\n<!-- 32&#45;&gt;48 -->\n<g id=\"edge48\" class=\"edge\">\n<title>32&#45;&gt;48</title>\n<path fill=\"none\" stroke=\"#000000\" d=\"M3199.5611,-490.3241C3361.3605,-467.5651 3707.9731,-418.8099 3870.9208,-395.8894\"/>\n<polygon fill=\"#000000\" stroke=\"#000000\" points=\"3871.4959,-399.343 3880.9109,-394.4842 3870.5208,-392.4113 3871.4959,-399.343\"/>\n</g>\n<!-- 34 -->\n<g id=\"node35\" class=\"node\">\n<title>34</title>\n<path fill=\"#54e992\" stroke=\"#000000\" d=\"M3069,-306C3069,-306 2929,-306 2929,-306 2923,-306 2917,-300 2917,-294 2917,-294 2917,-235 2917,-235 2917,-229 2923,-223 2929,-223 2929,-223 3069,-223 3069,-223 3075,-223 3081,-229 3081,-235 3081,-235 3081,-294 3081,-294 3081,-300 3075,-306 3069,-306\"/>\n<text text-anchor=\"start\" x=\"2965\" y=\"-290.8\" font-family=\"Helvetica,sans-Serif\" font-size=\"14.00\" fill=\"#000000\">Belts ≤ 0.5</text>\n<text text-anchor=\"start\" x=\"2965.5\" y=\"-275.8\" font-family=\"Helvetica,sans-Serif\" font-size=\"14.00\" fill=\"#000000\">gini = 0.21</text>\n<text text-anchor=\"start\" x=\"2947\" y=\"-260.8\" font-family=\"Helvetica,sans-Serif\" font-size=\"14.00\" fill=\"#000000\">samples = 8723</text>\n<text text-anchor=\"start\" x=\"2925\" y=\"-245.8\" font-family=\"Helvetica,sans-Serif\" font-size=\"14.00\" fill=\"#000000\">value = [1042, 7681, 0]</text>\n<text text-anchor=\"start\" x=\"2964.5\" y=\"-230.8\" font-family=\"Helvetica,sans-Serif\" font-size=\"14.00\" fill=\"#000000\">class = No</text>\n</g>\n<!-- 33&#45;&gt;34 -->\n<g id=\"edge34\" class=\"edge\">\n<title>33&#45;&gt;34</title>\n<path fill=\"none\" stroke=\"#000000\" d=\"M3073.1283,-341.8796C3064.4142,-332.7832 3055.1112,-323.0722 3046.1438,-313.7116\"/>\n<polygon fill=\"#000000\" stroke=\"#000000\" points=\"3048.487,-311.098 3039.0419,-306.2981 3043.4322,-315.9405 3048.487,-311.098\"/>\n</g>\n<!-- 41 -->\n<g id=\"node42\" class=\"node\">\n<title>41</title>\n<path fill=\"#44e688\" stroke=\"#000000\" d=\"M3358,-306C3358,-306 3198,-306 3198,-306 3192,-306 3186,-300 3186,-294 3186,-294 3186,-235 3186,-235 3186,-229 3192,-223 3198,-223 3198,-223 3358,-223 3358,-223 3364,-223 3370,-229 3370,-235 3370,-235 3370,-294 3370,-294 3370,-300 3364,-306 3358,-306\"/>\n<text text-anchor=\"start\" x=\"3194\" y=\"-290.8\" font-family=\"Helvetica,sans-Serif\" font-size=\"14.00\" fill=\"#000000\">Commercial License ≤ 0.5</text>\n<text text-anchor=\"start\" x=\"3240\" y=\"-275.8\" font-family=\"Helvetica,sans-Serif\" font-size=\"14.00\" fill=\"#000000\">gini = 0.101</text>\n<text text-anchor=\"start\" x=\"3226\" y=\"-260.8\" font-family=\"Helvetica,sans-Serif\" font-size=\"14.00\" fill=\"#000000\">samples = 7187</text>\n<text text-anchor=\"start\" x=\"3208\" y=\"-245.8\" font-family=\"Helvetica,sans-Serif\" font-size=\"14.00\" fill=\"#000000\">value = [384, 6803, 0]</text>\n<text text-anchor=\"start\" x=\"3243.5\" y=\"-230.8\" font-family=\"Helvetica,sans-Serif\" font-size=\"14.00\" fill=\"#000000\">class = No</text>\n</g>\n<!-- 33&#45;&gt;41 -->\n<g id=\"edge41\" class=\"edge\">\n<title>33&#45;&gt;41</title>\n<path fill=\"none\" stroke=\"#000000\" d=\"M3170.709,-341.8796C3184.023,-332.2774 3198.2866,-321.9903 3211.9259,-312.1534\"/>\n<polygon fill=\"#000000\" stroke=\"#000000\" points=\"3214.2602,-314.7852 3220.3236,-306.0969 3210.1655,-309.1077 3214.2602,-314.7852\"/>\n</g>\n<!-- 35 -->\n<g id=\"node36\" class=\"node\">\n<title>35</title>\n<path fill=\"#54e992\" stroke=\"#000000\" d=\"M2825,-187C2825,-187 2685,-187 2685,-187 2679,-187 2673,-181 2673,-175 2673,-175 2673,-116 2673,-116 2673,-110 2679,-104 2685,-104 2685,-104 2825,-104 2825,-104 2831,-104 2837,-110 2837,-116 2837,-116 2837,-175 2837,-175 2837,-181 2831,-187 2825,-187\"/>\n<text text-anchor=\"start\" x=\"2721\" y=\"-171.8\" font-family=\"Helvetica,sans-Serif\" font-size=\"14.00\" fill=\"#000000\">Fatal ≤ 0.5</text>\n<text text-anchor=\"start\" x=\"2717\" y=\"-156.8\" font-family=\"Helvetica,sans-Serif\" font-size=\"14.00\" fill=\"#000000\">gini = 0.213</text>\n<text text-anchor=\"start\" x=\"2703\" y=\"-141.8\" font-family=\"Helvetica,sans-Serif\" font-size=\"14.00\" fill=\"#000000\">samples = 8491</text>\n<text text-anchor=\"start\" x=\"2681\" y=\"-126.8\" font-family=\"Helvetica,sans-Serif\" font-size=\"14.00\" fill=\"#000000\">value = [1027, 7464, 0]</text>\n<text text-anchor=\"start\" x=\"2720.5\" y=\"-111.8\" font-family=\"Helvetica,sans-Serif\" font-size=\"14.00\" fill=\"#000000\">class = No</text>\n</g>\n<!-- 34&#45;&gt;35 -->\n<g id=\"edge35\" class=\"edge\">\n<title>34&#45;&gt;35</title>\n<path fill=\"none\" stroke=\"#000000\" d=\"M2916.7329,-224.3779C2894.1373,-213.358 2869.5005,-201.3425 2846.4238,-190.0878\"/>\n<polygon fill=\"#000000\" stroke=\"#000000\" points=\"2847.8472,-186.888 2837.3249,-185.6503 2844.7787,-193.1796 2847.8472,-186.888\"/>\n</g>\n<!-- 38 -->\n<g id=\"node39\" class=\"node\">\n<title>38</title>\n<path fill=\"#47e78a\" stroke=\"#000000\" d=\"M3079,-187C3079,-187 2919,-187 2919,-187 2913,-187 2907,-181 2907,-175 2907,-175 2907,-116 2907,-116 2907,-110 2913,-104 2919,-104 2919,-104 3079,-104 3079,-104 3085,-104 3091,-110 3091,-116 3091,-116 3091,-175 3091,-175 3091,-181 3085,-187 3079,-187\"/>\n<text text-anchor=\"start\" x=\"2915\" y=\"-171.8\" font-family=\"Helvetica,sans-Serif\" font-size=\"14.00\" fill=\"#000000\">Commercial License ≤ 0.5</text>\n<text text-anchor=\"start\" x=\"2961\" y=\"-156.8\" font-family=\"Helvetica,sans-Serif\" font-size=\"14.00\" fill=\"#000000\">gini = 0.121</text>\n<text text-anchor=\"start\" x=\"2951\" y=\"-141.8\" font-family=\"Helvetica,sans-Serif\" font-size=\"14.00\" fill=\"#000000\">samples = 232</text>\n<text text-anchor=\"start\" x=\"2937\" y=\"-126.8\" font-family=\"Helvetica,sans-Serif\" font-size=\"14.00\" fill=\"#000000\">value = [15, 217, 0]</text>\n<text text-anchor=\"start\" x=\"2964.5\" y=\"-111.8\" font-family=\"Helvetica,sans-Serif\" font-size=\"14.00\" fill=\"#000000\">class = No</text>\n</g>\n<!-- 34&#45;&gt;38 -->\n<g id=\"edge38\" class=\"edge\">\n<title>34&#45;&gt;38</title>\n<path fill=\"none\" stroke=\"#000000\" d=\"M2999,-222.8796C2999,-214.6838 2999,-205.9891 2999,-197.5013\"/>\n<polygon fill=\"#000000\" stroke=\"#000000\" points=\"3002.5001,-197.298 2999,-187.2981 2995.5001,-197.2981 3002.5001,-197.298\"/>\n</g>\n<!-- 36 -->\n<g id=\"node37\" class=\"node\">\n<title>36</title>\n<path fill=\"#54e992\" stroke=\"#000000\" d=\"M2663,-68C2663,-68 2523,-68 2523,-68 2517,-68 2511,-62 2511,-56 2511,-56 2511,-12 2511,-12 2511,-6 2517,0 2523,0 2523,0 2663,0 2663,0 2669,0 2675,-6 2675,-12 2675,-12 2675,-56 2675,-56 2675,-62 2669,-68 2663,-68\"/>\n<text text-anchor=\"start\" x=\"2555\" y=\"-52.8\" font-family=\"Helvetica,sans-Serif\" font-size=\"14.00\" fill=\"#000000\">gini = 0.213</text>\n<text text-anchor=\"start\" x=\"2541\" y=\"-37.8\" font-family=\"Helvetica,sans-Serif\" font-size=\"14.00\" fill=\"#000000\">samples = 8470</text>\n<text text-anchor=\"start\" x=\"2519\" y=\"-22.8\" font-family=\"Helvetica,sans-Serif\" font-size=\"14.00\" fill=\"#000000\">value = [1027, 7443, 0]</text>\n<text text-anchor=\"start\" x=\"2558.5\" y=\"-7.8\" font-family=\"Helvetica,sans-Serif\" font-size=\"14.00\" fill=\"#000000\">class = No</text>\n</g>\n<!-- 35&#45;&gt;36 -->\n<g id=\"edge36\" class=\"edge\">\n<title>35&#45;&gt;36</title>\n<path fill=\"none\" stroke=\"#000000\" d=\"M2694.6772,-103.9815C2680.314,-94.0957 2665.0212,-83.5701 2650.7753,-73.7651\"/>\n<polygon fill=\"#000000\" stroke=\"#000000\" points=\"2652.7454,-70.8722 2642.5235,-68.0856 2648.7766,-76.6384 2652.7454,-70.8722\"/>\n</g>\n<!-- 37 -->\n<g id=\"node38\" class=\"node\">\n<title>37</title>\n<path fill=\"#39e581\" stroke=\"#000000\" d=\"M2804.5,-68C2804.5,-68 2705.5,-68 2705.5,-68 2699.5,-68 2693.5,-62 2693.5,-56 2693.5,-56 2693.5,-12 2693.5,-12 2693.5,-6 2699.5,0 2705.5,0 2705.5,0 2804.5,0 2804.5,0 2810.5,0 2816.5,-6 2816.5,-12 2816.5,-12 2816.5,-56 2816.5,-56 2816.5,-62 2810.5,-68 2804.5,-68\"/>\n<text text-anchor=\"start\" x=\"2725.5\" y=\"-52.8\" font-family=\"Helvetica,sans-Serif\" font-size=\"14.00\" fill=\"#000000\">gini = 0.0</text>\n<text text-anchor=\"start\" x=\"2711\" y=\"-37.8\" font-family=\"Helvetica,sans-Serif\" font-size=\"14.00\" fill=\"#000000\">samples = 21</text>\n<text text-anchor=\"start\" x=\"2701.5\" y=\"-22.8\" font-family=\"Helvetica,sans-Serif\" font-size=\"14.00\" fill=\"#000000\">value = [0, 21, 0]</text>\n<text text-anchor=\"start\" x=\"2720.5\" y=\"-7.8\" font-family=\"Helvetica,sans-Serif\" font-size=\"14.00\" fill=\"#000000\">class = No</text>\n</g>\n<!-- 35&#45;&gt;37 -->\n<g id=\"edge37\" class=\"edge\">\n<title>35&#45;&gt;37</title>\n<path fill=\"none\" stroke=\"#000000\" d=\"M2755,-103.9815C2755,-95.618 2755,-86.7965 2755,-78.3409\"/>\n<polygon fill=\"#000000\" stroke=\"#000000\" points=\"2758.5001,-78.2636 2755,-68.2637 2751.5001,-78.2637 2758.5001,-78.2636\"/>\n</g>\n<!-- 39 -->\n<g id=\"node40\" class=\"node\">\n<title>39</title>\n<path fill=\"#47e78a\" stroke=\"#000000\" d=\"M2963,-68C2963,-68 2847,-68 2847,-68 2841,-68 2835,-62 2835,-56 2835,-56 2835,-12 2835,-12 2835,-6 2841,0 2847,0 2847,0 2963,0 2963,0 2969,0 2975,-6 2975,-12 2975,-12 2975,-56 2975,-56 2975,-62 2969,-68 2963,-68\"/>\n<text text-anchor=\"start\" x=\"2867\" y=\"-52.8\" font-family=\"Helvetica,sans-Serif\" font-size=\"14.00\" fill=\"#000000\">gini = 0.125</text>\n<text text-anchor=\"start\" x=\"2857\" y=\"-37.8\" font-family=\"Helvetica,sans-Serif\" font-size=\"14.00\" fill=\"#000000\">samples = 224</text>\n<text text-anchor=\"start\" x=\"2843\" y=\"-22.8\" font-family=\"Helvetica,sans-Serif\" font-size=\"14.00\" fill=\"#000000\">value = [15, 209, 0]</text>\n<text text-anchor=\"start\" x=\"2870.5\" y=\"-7.8\" font-family=\"Helvetica,sans-Serif\" font-size=\"14.00\" fill=\"#000000\">class = No</text>\n</g>\n<!-- 38&#45;&gt;39 -->\n<g id=\"edge39\" class=\"edge\">\n<title>38&#45;&gt;39</title>\n<path fill=\"none\" stroke=\"#000000\" d=\"M2963.9979,-103.9815C2956.3272,-94.8828 2948.1995,-85.242 2940.5091,-76.1199\"/>\n<polygon fill=\"#000000\" stroke=\"#000000\" points=\"2943.0075,-73.6533 2933.886,-68.2637 2937.6556,-78.1652 2943.0075,-73.6533\"/>\n</g>\n<!-- 40 -->\n<g id=\"node41\" class=\"node\">\n<title>40</title>\n<path fill=\"#39e581\" stroke=\"#000000\" d=\"M3096.5,-68C3096.5,-68 3005.5,-68 3005.5,-68 2999.5,-68 2993.5,-62 2993.5,-56 2993.5,-56 2993.5,-12 2993.5,-12 2993.5,-6 2999.5,0 3005.5,0 3005.5,0 3096.5,0 3096.5,0 3102.5,0 3108.5,-6 3108.5,-12 3108.5,-12 3108.5,-56 3108.5,-56 3108.5,-62 3102.5,-68 3096.5,-68\"/>\n<text text-anchor=\"start\" x=\"3021.5\" y=\"-52.8\" font-family=\"Helvetica,sans-Serif\" font-size=\"14.00\" fill=\"#000000\">gini = 0.0</text>\n<text text-anchor=\"start\" x=\"3011.5\" y=\"-37.8\" font-family=\"Helvetica,sans-Serif\" font-size=\"14.00\" fill=\"#000000\">samples = 8</text>\n<text text-anchor=\"start\" x=\"3001.5\" y=\"-22.8\" font-family=\"Helvetica,sans-Serif\" font-size=\"14.00\" fill=\"#000000\">value = [0, 8, 0]</text>\n<text text-anchor=\"start\" x=\"3016.5\" y=\"-7.8\" font-family=\"Helvetica,sans-Serif\" font-size=\"14.00\" fill=\"#000000\">class = No</text>\n</g>\n<!-- 38&#45;&gt;40 -->\n<g id=\"edge40\" class=\"edge\">\n<title>38&#45;&gt;40</title>\n<path fill=\"none\" stroke=\"#000000\" d=\"M3018.3629,-103.9815C3022.3919,-95.3423 3026.6489,-86.2144 3030.7103,-77.5059\"/>\n<polygon fill=\"#000000\" stroke=\"#000000\" points=\"3033.9659,-78.8059 3035.0205,-68.2637 3027.6218,-75.8472 3033.9659,-78.8059\"/>\n</g>\n<!-- 42 -->\n<g id=\"node43\" class=\"node\">\n<title>42</title>\n<path fill=\"#43e687\" stroke=\"#000000\" d=\"M3344,-187C3344,-187 3212,-187 3212,-187 3206,-187 3200,-181 3200,-175 3200,-175 3200,-116 3200,-116 3200,-110 3206,-104 3212,-104 3212,-104 3344,-104 3344,-104 3350,-104 3356,-110 3356,-116 3356,-116 3356,-175 3356,-175 3356,-181 3350,-187 3344,-187\"/>\n<text text-anchor=\"start\" x=\"3244\" y=\"-171.8\" font-family=\"Helvetica,sans-Serif\" font-size=\"14.00\" fill=\"#000000\">Belts ≤ 0.5</text>\n<text text-anchor=\"start\" x=\"3240\" y=\"-156.8\" font-family=\"Helvetica,sans-Serif\" font-size=\"14.00\" fill=\"#000000\">gini = 0.093</text>\n<text text-anchor=\"start\" x=\"3226\" y=\"-141.8\" font-family=\"Helvetica,sans-Serif\" font-size=\"14.00\" fill=\"#000000\">samples = 6839</text>\n<text text-anchor=\"start\" x=\"3208\" y=\"-126.8\" font-family=\"Helvetica,sans-Serif\" font-size=\"14.00\" fill=\"#000000\">value = [335, 6504, 0]</text>\n<text text-anchor=\"start\" x=\"3243.5\" y=\"-111.8\" font-family=\"Helvetica,sans-Serif\" font-size=\"14.00\" fill=\"#000000\">class = No</text>\n</g>\n<!-- 41&#45;&gt;42 -->\n<g id=\"edge42\" class=\"edge\">\n<title>41&#45;&gt;42</title>\n<path fill=\"none\" stroke=\"#000000\" d=\"M3278,-222.8796C3278,-214.6838 3278,-205.9891 3278,-197.5013\"/>\n<polygon fill=\"#000000\" stroke=\"#000000\" points=\"3281.5001,-197.298 3278,-187.2981 3274.5001,-197.2981 3281.5001,-197.298\"/>\n</g>\n<!-- 45 -->\n<g id=\"node46\" class=\"node\">\n<title>45</title>\n<path fill=\"#59e996\" stroke=\"#000000\" d=\"M3615,-187C3615,-187 3459,-187 3459,-187 3453,-187 3447,-181 3447,-175 3447,-175 3447,-116 3447,-116 3447,-110 3453,-104 3459,-104 3459,-104 3615,-104 3615,-104 3621,-104 3627,-110 3627,-116 3627,-116 3627,-175 3627,-175 3627,-181 3621,-187 3615,-187\"/>\n<text text-anchor=\"start\" x=\"3455\" y=\"-171.8\" font-family=\"Helvetica,sans-Serif\" font-size=\"14.00\" fill=\"#000000\">Commercial Vehicle ≤ 0.5</text>\n<text text-anchor=\"start\" x=\"3499\" y=\"-156.8\" font-family=\"Helvetica,sans-Serif\" font-size=\"14.00\" fill=\"#000000\">gini = 0.242</text>\n<text text-anchor=\"start\" x=\"3489\" y=\"-141.8\" font-family=\"Helvetica,sans-Serif\" font-size=\"14.00\" fill=\"#000000\">samples = 348</text>\n<text text-anchor=\"start\" x=\"3475\" y=\"-126.8\" font-family=\"Helvetica,sans-Serif\" font-size=\"14.00\" fill=\"#000000\">value = [49, 299, 0]</text>\n<text text-anchor=\"start\" x=\"3502.5\" y=\"-111.8\" font-family=\"Helvetica,sans-Serif\" font-size=\"14.00\" fill=\"#000000\">class = No</text>\n</g>\n<!-- 41&#45;&gt;45 -->\n<g id=\"edge45\" class=\"edge\">\n<title>41&#45;&gt;45</title>\n<path fill=\"none\" stroke=\"#000000\" d=\"M3368.5856,-222.8796C3390.8943,-212.6297 3414.9014,-201.5993 3437.6022,-191.1693\"/>\n<polygon fill=\"#000000\" stroke=\"#000000\" points=\"3439.2774,-194.2514 3446.9029,-186.896 3436.3548,-187.8907 3439.2774,-194.2514\"/>\n</g>\n<!-- 43 -->\n<g id=\"node44\" class=\"node\">\n<title>43</title>\n<path fill=\"#44e688\" stroke=\"#000000\" d=\"M3271,-68C3271,-68 3139,-68 3139,-68 3133,-68 3127,-62 3127,-56 3127,-56 3127,-12 3127,-12 3127,-6 3133,0 3139,0 3139,0 3271,0 3271,0 3277,0 3283,-6 3283,-12 3283,-12 3283,-56 3283,-56 3283,-62 3277,-68 3271,-68\"/>\n<text text-anchor=\"start\" x=\"3175.5\" y=\"-52.8\" font-family=\"Helvetica,sans-Serif\" font-size=\"14.00\" fill=\"#000000\">gini = 0.1</text>\n<text text-anchor=\"start\" x=\"3153\" y=\"-37.8\" font-family=\"Helvetica,sans-Serif\" font-size=\"14.00\" fill=\"#000000\">samples = 5629</text>\n<text text-anchor=\"start\" x=\"3135\" y=\"-22.8\" font-family=\"Helvetica,sans-Serif\" font-size=\"14.00\" fill=\"#000000\">value = [298, 5331, 0]</text>\n<text text-anchor=\"start\" x=\"3170.5\" y=\"-7.8\" font-family=\"Helvetica,sans-Serif\" font-size=\"14.00\" fill=\"#000000\">class = No</text>\n</g>\n<!-- 42&#45;&gt;43 -->\n<g id=\"edge43\" class=\"edge\">\n<title>42&#45;&gt;43</title>\n<path fill=\"none\" stroke=\"#000000\" d=\"M3250.8175,-103.9815C3244.9808,-95.0666 3238.8034,-85.6313 3232.9386,-76.6734\"/>\n<polygon fill=\"#000000\" stroke=\"#000000\" points=\"3235.8386,-74.7129 3227.4327,-68.2637 3229.9821,-78.5472 3235.8386,-74.7129\"/>\n</g>\n<!-- 44 -->\n<g id=\"node45\" class=\"node\">\n<title>44</title>\n<path fill=\"#3fe685\" stroke=\"#000000\" d=\"M3437,-68C3437,-68 3313,-68 3313,-68 3307,-68 3301,-62 3301,-56 3301,-56 3301,-12 3301,-12 3301,-6 3307,0 3313,0 3313,0 3437,0 3437,0 3443,0 3449,-6 3449,-12 3449,-12 3449,-56 3449,-56 3449,-62 3443,-68 3437,-68\"/>\n<text text-anchor=\"start\" x=\"3337\" y=\"-52.8\" font-family=\"Helvetica,sans-Serif\" font-size=\"14.00\" fill=\"#000000\">gini = 0.059</text>\n<text text-anchor=\"start\" x=\"3323\" y=\"-37.8\" font-family=\"Helvetica,sans-Serif\" font-size=\"14.00\" fill=\"#000000\">samples = 1210</text>\n<text text-anchor=\"start\" x=\"3309\" y=\"-22.8\" font-family=\"Helvetica,sans-Serif\" font-size=\"14.00\" fill=\"#000000\">value = [37, 1173, 0]</text>\n<text text-anchor=\"start\" x=\"3340.5\" y=\"-7.8\" font-family=\"Helvetica,sans-Serif\" font-size=\"14.00\" fill=\"#000000\">class = No</text>\n</g>\n<!-- 42&#45;&gt;44 -->\n<g id=\"edge44\" class=\"edge\">\n<title>42&#45;&gt;44</title>\n<path fill=\"none\" stroke=\"#000000\" d=\"M3314.1192,-103.9815C3322.1147,-94.7908 3330.5913,-85.0472 3338.5979,-75.8436\"/>\n<polygon fill=\"#000000\" stroke=\"#000000\" points=\"3341.2693,-78.1055 3345.1921,-68.2637 3335.988,-73.5111 3341.2693,-78.1055\"/>\n</g>\n<!-- 46 -->\n<g id=\"node47\" class=\"node\">\n<title>46</title>\n<path fill=\"#57e994\" stroke=\"#000000\" d=\"M3595,-68C3595,-68 3479,-68 3479,-68 3473,-68 3467,-62 3467,-56 3467,-56 3467,-12 3467,-12 3467,-6 3473,0 3479,0 3479,0 3595,0 3595,0 3601,0 3607,-6 3607,-12 3607,-12 3607,-56 3607,-56 3607,-62 3601,-68 3595,-68\"/>\n<text text-anchor=\"start\" x=\"3499\" y=\"-52.8\" font-family=\"Helvetica,sans-Serif\" font-size=\"14.00\" fill=\"#000000\">gini = 0.228</text>\n<text text-anchor=\"start\" x=\"3489\" y=\"-37.8\" font-family=\"Helvetica,sans-Serif\" font-size=\"14.00\" fill=\"#000000\">samples = 336</text>\n<text text-anchor=\"start\" x=\"3475\" y=\"-22.8\" font-family=\"Helvetica,sans-Serif\" font-size=\"14.00\" fill=\"#000000\">value = [44, 292, 0]</text>\n<text text-anchor=\"start\" x=\"3502.5\" y=\"-7.8\" font-family=\"Helvetica,sans-Serif\" font-size=\"14.00\" fill=\"#000000\">class = No</text>\n</g>\n<!-- 45&#45;&gt;46 -->\n<g id=\"edge46\" class=\"edge\">\n<title>45&#45;&gt;46</title>\n<path fill=\"none\" stroke=\"#000000\" d=\"M3537,-103.9815C3537,-95.618 3537,-86.7965 3537,-78.3409\"/>\n<polygon fill=\"#000000\" stroke=\"#000000\" points=\"3540.5001,-78.2636 3537,-68.2637 3533.5001,-78.2637 3540.5001,-78.2636\"/>\n</g>\n<!-- 47 -->\n<g id=\"node48\" class=\"node\">\n<title>47</title>\n<path fill=\"#c6f8db\" stroke=\"#000000\" d=\"M3728.5,-68C3728.5,-68 3637.5,-68 3637.5,-68 3631.5,-68 3625.5,-62 3625.5,-56 3625.5,-56 3625.5,-12 3625.5,-12 3625.5,-6 3631.5,0 3637.5,0 3637.5,0 3728.5,0 3728.5,0 3734.5,0 3740.5,-6 3740.5,-12 3740.5,-12 3740.5,-56 3740.5,-56 3740.5,-62 3734.5,-68 3728.5,-68\"/>\n<text text-anchor=\"start\" x=\"3645\" y=\"-52.8\" font-family=\"Helvetica,sans-Serif\" font-size=\"14.00\" fill=\"#000000\">gini = 0.486</text>\n<text text-anchor=\"start\" x=\"3639\" y=\"-37.8\" font-family=\"Helvetica,sans-Serif\" font-size=\"14.00\" fill=\"#000000\">samples = 12</text>\n<text text-anchor=\"start\" x=\"3633.5\" y=\"-22.8\" font-family=\"Helvetica,sans-Serif\" font-size=\"14.00\" fill=\"#000000\">value = [5, 7, 0]</text>\n<text text-anchor=\"start\" x=\"3648.5\" y=\"-7.8\" font-family=\"Helvetica,sans-Serif\" font-size=\"14.00\" fill=\"#000000\">class = No</text>\n</g>\n<!-- 45&#45;&gt;47 -->\n<g id=\"edge47\" class=\"edge\">\n<title>45&#45;&gt;47</title>\n<path fill=\"none\" stroke=\"#000000\" d=\"M3591.365,-103.9815C3604.0011,-94.3313 3617.4356,-84.0714 3630.0115,-74.4673\"/>\n<polygon fill=\"#000000\" stroke=\"#000000\" points=\"3632.3114,-77.1148 3638.1346,-68.2637 3628.0628,-71.5515 3632.3114,-77.1148\"/>\n</g>\n<!-- 49 -->\n<g id=\"node50\" class=\"node\">\n<title>49</title>\n<path fill=\"#42e687\" stroke=\"#000000\" d=\"M4025,-306C4025,-306 3893,-306 3893,-306 3887,-306 3881,-300 3881,-294 3881,-294 3881,-235 3881,-235 3881,-229 3887,-223 3893,-223 3893,-223 4025,-223 4025,-223 4031,-223 4037,-229 4037,-235 4037,-235 4037,-294 4037,-294 4037,-300 4031,-306 4025,-306\"/>\n<text text-anchor=\"start\" x=\"3905.5\" y=\"-290.8\" font-family=\"Helvetica,sans-Serif\" font-size=\"14.00\" fill=\"#000000\">Work Zone ≤ 0.5</text>\n<text text-anchor=\"start\" x=\"3921\" y=\"-275.8\" font-family=\"Helvetica,sans-Serif\" font-size=\"14.00\" fill=\"#000000\">gini = 0.084</text>\n<text text-anchor=\"start\" x=\"3907\" y=\"-260.8\" font-family=\"Helvetica,sans-Serif\" font-size=\"14.00\" fill=\"#000000\">samples = 4177</text>\n<text text-anchor=\"start\" x=\"3889\" y=\"-245.8\" font-family=\"Helvetica,sans-Serif\" font-size=\"14.00\" fill=\"#000000\">value = [183, 3994, 0]</text>\n<text text-anchor=\"start\" x=\"3924.5\" y=\"-230.8\" font-family=\"Helvetica,sans-Serif\" font-size=\"14.00\" fill=\"#000000\">class = No</text>\n</g>\n<!-- 48&#45;&gt;49 -->\n<g id=\"edge49\" class=\"edge\">\n<title>48&#45;&gt;49</title>\n<path fill=\"none\" stroke=\"#000000\" d=\"M3959,-341.8796C3959,-333.6838 3959,-324.9891 3959,-316.5013\"/>\n<polygon fill=\"#000000\" stroke=\"#000000\" points=\"3962.5001,-316.298 3959,-306.2981 3955.5001,-316.2981 3962.5001,-316.298\"/>\n</g>\n<!-- 54 -->\n<g id=\"node55\" class=\"node\">\n<title>54</title>\n<path fill=\"#3de683\" stroke=\"#000000\" d=\"M4301,-306C4301,-306 4145,-306 4145,-306 4139,-306 4133,-300 4133,-294 4133,-294 4133,-235 4133,-235 4133,-229 4139,-223 4145,-223 4145,-223 4301,-223 4301,-223 4307,-223 4313,-229 4313,-235 4313,-235 4313,-294 4313,-294 4313,-300 4307,-306 4301,-306\"/>\n<text text-anchor=\"start\" x=\"4141\" y=\"-290.8\" font-family=\"Helvetica,sans-Serif\" font-size=\"14.00\" fill=\"#000000\">Commercial Vehicle ≤ 0.5</text>\n<text text-anchor=\"start\" x=\"4185\" y=\"-275.8\" font-family=\"Helvetica,sans-Serif\" font-size=\"14.00\" fill=\"#000000\">gini = 0.038</text>\n<text text-anchor=\"start\" x=\"4171\" y=\"-260.8\" font-family=\"Helvetica,sans-Serif\" font-size=\"14.00\" fill=\"#000000\">samples = 1194</text>\n<text text-anchor=\"start\" x=\"4157\" y=\"-245.8\" font-family=\"Helvetica,sans-Serif\" font-size=\"14.00\" fill=\"#000000\">value = [23, 1171, 0]</text>\n<text text-anchor=\"start\" x=\"4188.5\" y=\"-230.8\" font-family=\"Helvetica,sans-Serif\" font-size=\"14.00\" fill=\"#000000\">class = No</text>\n</g>\n<!-- 48&#45;&gt;54 -->\n<g id=\"edge54\" class=\"edge\">\n<title>48&#45;&gt;54</title>\n<path fill=\"none\" stroke=\"#000000\" d=\"M4037.1372,-348.2791C4064.3022,-336.0342 4095.1408,-322.1335 4123.7813,-309.2236\"/>\n<polygon fill=\"#000000\" stroke=\"#000000\" points=\"4125.3172,-312.3705 4132.9955,-305.0702 4122.4405,-305.9888 4125.3172,-312.3705\"/>\n</g>\n<!-- 50 -->\n<g id=\"node51\" class=\"node\">\n<title>50</title>\n<path fill=\"#42e687\" stroke=\"#000000\" d=\"M3930,-187C3930,-187 3774,-187 3774,-187 3768,-187 3762,-181 3762,-175 3762,-175 3762,-116 3762,-116 3762,-110 3768,-104 3774,-104 3774,-104 3930,-104 3930,-104 3936,-104 3942,-110 3942,-116 3942,-116 3942,-175 3942,-175 3942,-181 3936,-187 3930,-187\"/>\n<text text-anchor=\"start\" x=\"3770\" y=\"-171.8\" font-family=\"Helvetica,sans-Serif\" font-size=\"14.00\" fill=\"#000000\">Commercial Vehicle ≤ 0.5</text>\n<text text-anchor=\"start\" x=\"3814\" y=\"-156.8\" font-family=\"Helvetica,sans-Serif\" font-size=\"14.00\" fill=\"#000000\">gini = 0.084</text>\n<text text-anchor=\"start\" x=\"3800\" y=\"-141.8\" font-family=\"Helvetica,sans-Serif\" font-size=\"14.00\" fill=\"#000000\">samples = 4143</text>\n<text text-anchor=\"start\" x=\"3782\" y=\"-126.8\" font-family=\"Helvetica,sans-Serif\" font-size=\"14.00\" fill=\"#000000\">value = [183, 3960, 0]</text>\n<text text-anchor=\"start\" x=\"3817.5\" y=\"-111.8\" font-family=\"Helvetica,sans-Serif\" font-size=\"14.00\" fill=\"#000000\">class = No</text>\n</g>\n<!-- 49&#45;&gt;50 -->\n<g id=\"edge50\" class=\"edge\">\n<title>49&#45;&gt;50</title>\n<path fill=\"none\" stroke=\"#000000\" d=\"M3921.5766,-222.8796C3913.4785,-213.8733 3904.8386,-204.2644 3896.4991,-194.9897\"/>\n<polygon fill=\"#000000\" stroke=\"#000000\" points=\"3898.872,-192.394 3889.5831,-187.2981 3893.6667,-197.0743 3898.872,-192.394\"/>\n</g>\n<!-- 53 -->\n<g id=\"node54\" class=\"node\">\n<title>53</title>\n<path fill=\"#39e581\" stroke=\"#000000\" d=\"M4071.5,-179.5C4071.5,-179.5 3972.5,-179.5 3972.5,-179.5 3966.5,-179.5 3960.5,-173.5 3960.5,-167.5 3960.5,-167.5 3960.5,-123.5 3960.5,-123.5 3960.5,-117.5 3966.5,-111.5 3972.5,-111.5 3972.5,-111.5 4071.5,-111.5 4071.5,-111.5 4077.5,-111.5 4083.5,-117.5 4083.5,-123.5 4083.5,-123.5 4083.5,-167.5 4083.5,-167.5 4083.5,-173.5 4077.5,-179.5 4071.5,-179.5\"/>\n<text text-anchor=\"start\" x=\"3992.5\" y=\"-164.3\" font-family=\"Helvetica,sans-Serif\" font-size=\"14.00\" fill=\"#000000\">gini = 0.0</text>\n<text text-anchor=\"start\" x=\"3978\" y=\"-149.3\" font-family=\"Helvetica,sans-Serif\" font-size=\"14.00\" fill=\"#000000\">samples = 34</text>\n<text text-anchor=\"start\" x=\"3968.5\" y=\"-134.3\" font-family=\"Helvetica,sans-Serif\" font-size=\"14.00\" fill=\"#000000\">value = [0, 34, 0]</text>\n<text text-anchor=\"start\" x=\"3987.5\" y=\"-119.3\" font-family=\"Helvetica,sans-Serif\" font-size=\"14.00\" fill=\"#000000\">class = No</text>\n</g>\n<!-- 49&#45;&gt;53 -->\n<g id=\"edge53\" class=\"edge\">\n<title>49&#45;&gt;53</title>\n<path fill=\"none\" stroke=\"#000000\" d=\"M3981.0343,-222.8796C3986.8558,-211.8835 3993.1527,-199.9893 3999.0227,-188.9015\"/>\n<polygon fill=\"#000000\" stroke=\"#000000\" points=\"4002.2476,-190.2905 4003.8333,-179.8149 3996.0611,-187.0152 4002.2476,-190.2905\"/>\n</g>\n<!-- 51 -->\n<g id=\"node52\" class=\"node\">\n<title>51</title>\n<path fill=\"#42e687\" stroke=\"#000000\" d=\"M3903,-68C3903,-68 3771,-68 3771,-68 3765,-68 3759,-62 3759,-56 3759,-56 3759,-12 3759,-12 3759,-6 3765,0 3771,0 3771,0 3903,0 3903,0 3909,0 3915,-6 3915,-12 3915,-12 3915,-56 3915,-56 3915,-62 3909,-68 3903,-68\"/>\n<text text-anchor=\"start\" x=\"3799\" y=\"-52.8\" font-family=\"Helvetica,sans-Serif\" font-size=\"14.00\" fill=\"#000000\">gini = 0.085</text>\n<text text-anchor=\"start\" x=\"3785\" y=\"-37.8\" font-family=\"Helvetica,sans-Serif\" font-size=\"14.00\" fill=\"#000000\">samples = 4119</text>\n<text text-anchor=\"start\" x=\"3767\" y=\"-22.8\" font-family=\"Helvetica,sans-Serif\" font-size=\"14.00\" fill=\"#000000\">value = [183, 3936, 0]</text>\n<text text-anchor=\"start\" x=\"3802.5\" y=\"-7.8\" font-family=\"Helvetica,sans-Serif\" font-size=\"14.00\" fill=\"#000000\">class = No</text>\n</g>\n<!-- 50&#45;&gt;51 -->\n<g id=\"edge51\" class=\"edge\">\n<title>50&#45;&gt;51</title>\n<path fill=\"none\" stroke=\"#000000\" d=\"M3846.4146,-103.9815C3845.2894,-95.618 3844.1027,-86.7965 3842.9651,-78.3409\"/>\n<polygon fill=\"#000000\" stroke=\"#000000\" points=\"3846.4116,-77.7077 3841.6095,-68.2637 3839.4741,-78.6411 3846.4116,-77.7077\"/>\n</g>\n<!-- 52 -->\n<g id=\"node53\" class=\"node\">\n<title>52</title>\n<path fill=\"#39e581\" stroke=\"#000000\" d=\"M4044.5,-68C4044.5,-68 3945.5,-68 3945.5,-68 3939.5,-68 3933.5,-62 3933.5,-56 3933.5,-56 3933.5,-12 3933.5,-12 3933.5,-6 3939.5,0 3945.5,0 3945.5,0 4044.5,0 4044.5,0 4050.5,0 4056.5,-6 4056.5,-12 4056.5,-12 4056.5,-56 4056.5,-56 4056.5,-62 4050.5,-68 4044.5,-68\"/>\n<text text-anchor=\"start\" x=\"3965.5\" y=\"-52.8\" font-family=\"Helvetica,sans-Serif\" font-size=\"14.00\" fill=\"#000000\">gini = 0.0</text>\n<text text-anchor=\"start\" x=\"3951\" y=\"-37.8\" font-family=\"Helvetica,sans-Serif\" font-size=\"14.00\" fill=\"#000000\">samples = 24</text>\n<text text-anchor=\"start\" x=\"3941.5\" y=\"-22.8\" font-family=\"Helvetica,sans-Serif\" font-size=\"14.00\" fill=\"#000000\">value = [0, 24, 0]</text>\n<text text-anchor=\"start\" x=\"3960.5\" y=\"-7.8\" font-family=\"Helvetica,sans-Serif\" font-size=\"14.00\" fill=\"#000000\">class = No</text>\n</g>\n<!-- 50&#45;&gt;52 -->\n<g id=\"edge52\" class=\"edge\">\n<title>50&#45;&gt;52</title>\n<path fill=\"none\" stroke=\"#000000\" d=\"M3905.2479,-103.9815C3917.6244,-94.3313 3930.7828,-84.0714 3943.1003,-74.4673\"/>\n<polygon fill=\"#000000\" stroke=\"#000000\" points=\"3945.3225,-77.1728 3951.0565,-68.2637 3941.0182,-71.6525 3945.3225,-77.1728\"/>\n</g>\n<!-- 55 -->\n<g id=\"node56\" class=\"node\">\n<title>55</title>\n<path fill=\"#3de583\" stroke=\"#000000\" d=\"M4303,-187C4303,-187 4143,-187 4143,-187 4137,-187 4131,-181 4131,-175 4131,-175 4131,-116 4131,-116 4131,-110 4137,-104 4143,-104 4143,-104 4303,-104 4303,-104 4309,-104 4315,-110 4315,-116 4315,-116 4315,-175 4315,-175 4315,-181 4309,-187 4303,-187\"/>\n<text text-anchor=\"start\" x=\"4139\" y=\"-171.8\" font-family=\"Helvetica,sans-Serif\" font-size=\"14.00\" fill=\"#000000\">Commercial License ≤ 0.5</text>\n<text text-anchor=\"start\" x=\"4185\" y=\"-156.8\" font-family=\"Helvetica,sans-Serif\" font-size=\"14.00\" fill=\"#000000\">gini = 0.036</text>\n<text text-anchor=\"start\" x=\"4171\" y=\"-141.8\" font-family=\"Helvetica,sans-Serif\" font-size=\"14.00\" fill=\"#000000\">samples = 1189</text>\n<text text-anchor=\"start\" x=\"4157\" y=\"-126.8\" font-family=\"Helvetica,sans-Serif\" font-size=\"14.00\" fill=\"#000000\">value = [22, 1167, 0]</text>\n<text text-anchor=\"start\" x=\"4188.5\" y=\"-111.8\" font-family=\"Helvetica,sans-Serif\" font-size=\"14.00\" fill=\"#000000\">class = No</text>\n</g>\n<!-- 54&#45;&gt;55 -->\n<g id=\"edge55\" class=\"edge\">\n<title>54&#45;&gt;55</title>\n<path fill=\"none\" stroke=\"#000000\" d=\"M4223,-222.8796C4223,-214.6838 4223,-205.9891 4223,-197.5013\"/>\n<polygon fill=\"#000000\" stroke=\"#000000\" points=\"4226.5001,-197.298 4223,-187.2981 4219.5001,-197.2981 4226.5001,-197.298\"/>\n</g>\n<!-- 58 -->\n<g id=\"node59\" class=\"node\">\n<title>58</title>\n<path fill=\"#6aeca0\" stroke=\"#000000\" d=\"M4520,-187C4520,-187 4360,-187 4360,-187 4354,-187 4348,-181 4348,-175 4348,-175 4348,-116 4348,-116 4348,-110 4354,-104 4360,-104 4360,-104 4520,-104 4520,-104 4526,-104 4532,-110 4532,-116 4532,-116 4532,-175 4532,-175 4532,-181 4526,-187 4520,-187\"/>\n<text text-anchor=\"start\" x=\"4356\" y=\"-171.8\" font-family=\"Helvetica,sans-Serif\" font-size=\"14.00\" fill=\"#000000\">Commercial License ≤ 0.5</text>\n<text text-anchor=\"start\" x=\"4406.5\" y=\"-156.8\" font-family=\"Helvetica,sans-Serif\" font-size=\"14.00\" fill=\"#000000\">gini = 0.32</text>\n<text text-anchor=\"start\" x=\"4400.5\" y=\"-141.8\" font-family=\"Helvetica,sans-Serif\" font-size=\"14.00\" fill=\"#000000\">samples = 5</text>\n<text text-anchor=\"start\" x=\"4390.5\" y=\"-126.8\" font-family=\"Helvetica,sans-Serif\" font-size=\"14.00\" fill=\"#000000\">value = [1, 4, 0]</text>\n<text text-anchor=\"start\" x=\"4405.5\" y=\"-111.8\" font-family=\"Helvetica,sans-Serif\" font-size=\"14.00\" fill=\"#000000\">class = No</text>\n</g>\n<!-- 54&#45;&gt;58 -->\n<g id=\"edge58\" class=\"edge\">\n<title>54&#45;&gt;58</title>\n<path fill=\"none\" stroke=\"#000000\" d=\"M4298.8961,-222.8796C4317.0667,-212.915 4336.5823,-202.2129 4355.1296,-192.0418\"/>\n<polygon fill=\"#000000\" stroke=\"#000000\" points=\"4357.0616,-194.9741 4364.1468,-187.0969 4353.6957,-188.8365 4357.0616,-194.9741\"/>\n</g>\n<!-- 56 -->\n<g id=\"node57\" class=\"node\">\n<title>56</title>\n<path fill=\"#3de583\" stroke=\"#000000\" d=\"M4211,-68C4211,-68 4087,-68 4087,-68 4081,-68 4075,-62 4075,-56 4075,-56 4075,-12 4075,-12 4075,-6 4081,0 4087,0 4087,0 4211,0 4211,0 4217,0 4223,-6 4223,-12 4223,-12 4223,-56 4223,-56 4223,-62 4217,-68 4211,-68\"/>\n<text text-anchor=\"start\" x=\"4111\" y=\"-52.8\" font-family=\"Helvetica,sans-Serif\" font-size=\"14.00\" fill=\"#000000\">gini = 0.036</text>\n<text text-anchor=\"start\" x=\"4097\" y=\"-37.8\" font-family=\"Helvetica,sans-Serif\" font-size=\"14.00\" fill=\"#000000\">samples = 1154</text>\n<text text-anchor=\"start\" x=\"4083\" y=\"-22.8\" font-family=\"Helvetica,sans-Serif\" font-size=\"14.00\" fill=\"#000000\">value = [21, 1133, 0]</text>\n<text text-anchor=\"start\" x=\"4114.5\" y=\"-7.8\" font-family=\"Helvetica,sans-Serif\" font-size=\"14.00\" fill=\"#000000\">class = No</text>\n</g>\n<!-- 55&#45;&gt;56 -->\n<g id=\"edge56\" class=\"edge\">\n<title>55&#45;&gt;56</title>\n<path fill=\"none\" stroke=\"#000000\" d=\"M4195.4451,-103.9815C4189.5285,-95.0666 4183.2665,-85.6313 4177.3213,-76.6734\"/>\n<polygon fill=\"#000000\" stroke=\"#000000\" points=\"4180.186,-74.6602 4171.74,-68.2637 4174.3536,-78.5311 4180.186,-74.6602\"/>\n</g>\n<!-- 57 -->\n<g id=\"node58\" class=\"node\">\n<title>57</title>\n<path fill=\"#3fe685\" stroke=\"#000000\" d=\"M4352.5,-68C4352.5,-68 4253.5,-68 4253.5,-68 4247.5,-68 4241.5,-62 4241.5,-56 4241.5,-56 4241.5,-12 4241.5,-12 4241.5,-6 4247.5,0 4253.5,0 4253.5,0 4352.5,0 4352.5,0 4358.5,0 4364.5,-6 4364.5,-12 4364.5,-12 4364.5,-56 4364.5,-56 4364.5,-62 4358.5,-68 4352.5,-68\"/>\n<text text-anchor=\"start\" x=\"4265\" y=\"-52.8\" font-family=\"Helvetica,sans-Serif\" font-size=\"14.00\" fill=\"#000000\">gini = 0.056</text>\n<text text-anchor=\"start\" x=\"4259\" y=\"-37.8\" font-family=\"Helvetica,sans-Serif\" font-size=\"14.00\" fill=\"#000000\">samples = 35</text>\n<text text-anchor=\"start\" x=\"4249.5\" y=\"-22.8\" font-family=\"Helvetica,sans-Serif\" font-size=\"14.00\" fill=\"#000000\">value = [1, 34, 0]</text>\n<text text-anchor=\"start\" x=\"4268.5\" y=\"-7.8\" font-family=\"Helvetica,sans-Serif\" font-size=\"14.00\" fill=\"#000000\">class = No</text>\n</g>\n<!-- 55&#45;&gt;57 -->\n<g id=\"edge57\" class=\"edge\">\n<title>55&#45;&gt;57</title>\n<path fill=\"none\" stroke=\"#000000\" d=\"M4252.789,-103.9815C4259.2514,-94.9747 4266.0948,-85.4367 4272.581,-76.3965\"/>\n<polygon fill=\"#000000\" stroke=\"#000000\" points=\"4275.4303,-78.4291 4278.4162,-68.2637 4269.7428,-74.3483 4275.4303,-78.4291\"/>\n</g>\n<!-- 59 -->\n<g id=\"node60\" class=\"node\">\n<title>59</title>\n<path fill=\"#39e581\" stroke=\"#000000\" d=\"M4485.5,-68C4485.5,-68 4394.5,-68 4394.5,-68 4388.5,-68 4382.5,-62 4382.5,-56 4382.5,-56 4382.5,-12 4382.5,-12 4382.5,-6 4388.5,0 4394.5,0 4394.5,0 4485.5,0 4485.5,0 4491.5,0 4497.5,-6 4497.5,-12 4497.5,-12 4497.5,-56 4497.5,-56 4497.5,-62 4491.5,-68 4485.5,-68\"/>\n<text text-anchor=\"start\" x=\"4410.5\" y=\"-52.8\" font-family=\"Helvetica,sans-Serif\" font-size=\"14.00\" fill=\"#000000\">gini = 0.0</text>\n<text text-anchor=\"start\" x=\"4400.5\" y=\"-37.8\" font-family=\"Helvetica,sans-Serif\" font-size=\"14.00\" fill=\"#000000\">samples = 1</text>\n<text text-anchor=\"start\" x=\"4390.5\" y=\"-22.8\" font-family=\"Helvetica,sans-Serif\" font-size=\"14.00\" fill=\"#000000\">value = [0, 1, 0]</text>\n<text text-anchor=\"start\" x=\"4405.5\" y=\"-7.8\" font-family=\"Helvetica,sans-Serif\" font-size=\"14.00\" fill=\"#000000\">class = No</text>\n</g>\n<!-- 58&#45;&gt;59 -->\n<g id=\"edge59\" class=\"edge\">\n<title>58&#45;&gt;59</title>\n<path fill=\"none\" stroke=\"#000000\" d=\"M4440,-103.9815C4440,-95.618 4440,-86.7965 4440,-78.3409\"/>\n<polygon fill=\"#000000\" stroke=\"#000000\" points=\"4443.5001,-78.2636 4440,-68.2637 4436.5001,-78.2637 4443.5001,-78.2636\"/>\n</g>\n<!-- 60 -->\n<g id=\"node61\" class=\"node\">\n<title>60</title>\n<path fill=\"#7beeab\" stroke=\"#000000\" d=\"M4618.5,-68C4618.5,-68 4527.5,-68 4527.5,-68 4521.5,-68 4515.5,-62 4515.5,-56 4515.5,-56 4515.5,-12 4515.5,-12 4515.5,-6 4521.5,0 4527.5,0 4527.5,0 4618.5,0 4618.5,0 4624.5,0 4630.5,-6 4630.5,-12 4630.5,-12 4630.5,-56 4630.5,-56 4630.5,-62 4624.5,-68 4618.5,-68\"/>\n<text text-anchor=\"start\" x=\"4535\" y=\"-52.8\" font-family=\"Helvetica,sans-Serif\" font-size=\"14.00\" fill=\"#000000\">gini = 0.375</text>\n<text text-anchor=\"start\" x=\"4533.5\" y=\"-37.8\" font-family=\"Helvetica,sans-Serif\" font-size=\"14.00\" fill=\"#000000\">samples = 4</text>\n<text text-anchor=\"start\" x=\"4523.5\" y=\"-22.8\" font-family=\"Helvetica,sans-Serif\" font-size=\"14.00\" fill=\"#000000\">value = [1, 3, 0]</text>\n<text text-anchor=\"start\" x=\"4538.5\" y=\"-7.8\" font-family=\"Helvetica,sans-Serif\" font-size=\"14.00\" fill=\"#000000\">class = No</text>\n</g>\n<!-- 58&#45;&gt;60 -->\n<g id=\"edge60\" class=\"edge\">\n<title>58&#45;&gt;60</title>\n<path fill=\"none\" stroke=\"#000000\" d=\"M4489.5243,-103.9815C4500.9257,-94.4232 4513.0405,-84.2668 4524.4021,-74.7419\"/>\n<polygon fill=\"#000000\" stroke=\"#000000\" points=\"4526.7147,-77.3704 4532.1294,-68.2637 4522.2175,-72.006 4526.7147,-77.3704\"/>\n</g>\n</g>\n</svg>\n"
          },
          "metadata": {},
          "execution_count": 535
        }
      ]
    },
    {
      "cell_type": "markdown",
      "metadata": {
        "id": "tSmd7VINtz9N"
      },
      "source": [
        "****Try with get_dummies****"
      ]
    },
    {
      "cell_type": "code",
      "metadata": {
        "id": "n4Z6IA_xx1j3"
      },
      "source": [
        "Traffic_Violations_4 = Traffic_Violations.drop(columns= [ 'Date Of Stop', 'Time Of Stop', 'Agency', 'SubAgency', 'Description', 'Location',\n",
        "                                                         'Latitude', 'Longitude', 'Accident', 'Year', 'State', 'Make', 'Model',\n",
        "                                                         'Charge','Article', 'Driver City', 'Driver State', 'DL State','Arrest Type','Geolocation'])"
      ],
      "execution_count": 536,
      "outputs": []
    },
    {
      "cell_type": "code",
      "metadata": {
        "id": "heofy-_Rx1-O"
      },
      "source": [
        "Traffic_Violations_4 = Traffic_Violations_4.dropna()"
      ],
      "execution_count": 537,
      "outputs": []
    },
    {
      "cell_type": "code",
      "metadata": {
        "colab": {
          "base_uri": "https://localhost:8080/"
        },
        "id": "AuH6tb5Ix2B_",
        "outputId": "94bfaca2-6d95-4577-dfba-d7db304c6adc"
      },
      "source": [
        "Traffic_Violations_4.info()"
      ],
      "execution_count": 538,
      "outputs": [
        {
          "output_type": "stream",
          "name": "stdout",
          "text": [
            "<class 'pandas.core.frame.DataFrame'>\n",
            "Int64Index: 1276272 entries, 0 to 1292398\n",
            "Data columns (total 15 columns):\n",
            " #   Column                   Non-Null Count    Dtype \n",
            "---  ------                   --------------    ----- \n",
            " 0   Belts                    1276272 non-null  object\n",
            " 1   Personal Injury          1276272 non-null  object\n",
            " 2   Property Damage          1276272 non-null  object\n",
            " 3   Fatal                    1276272 non-null  object\n",
            " 4   Commercial License       1276272 non-null  object\n",
            " 5   HAZMAT                   1276272 non-null  object\n",
            " 6   Commercial Vehicle       1276272 non-null  object\n",
            " 7   Alcohol                  1276272 non-null  object\n",
            " 8   Work Zone                1276272 non-null  object\n",
            " 9   VehicleType              1276272 non-null  object\n",
            " 10  Color                    1276272 non-null  object\n",
            " 11  Violation Type           1276272 non-null  object\n",
            " 12  Contributed To Accident  1276272 non-null  object\n",
            " 13  Race                     1276272 non-null  object\n",
            " 14  Gender                   1276272 non-null  object\n",
            "dtypes: object(15)\n",
            "memory usage: 155.8+ MB\n"
          ]
        }
      ]
    },
    {
      "cell_type": "code",
      "metadata": {
        "id": "8BfJCNqeLPlL"
      },
      "source": [
        "Traffic_Violations_4 = pd.get_dummies(Traffic_Violations_4, columns=['Belts',\n",
        " 'Personal Injury',\n",
        " 'Property Damage',\n",
        " 'Fatal',\n",
        " 'Commercial License',\n",
        " 'HAZMAT',\n",
        " 'Commercial Vehicle',\n",
        " 'Alcohol',\n",
        " 'Work Zone',\n",
        " 'VehicleType',\n",
        " 'Color',\n",
        " \n",
        " 'Contributed To Accident',\n",
        " 'Race',\n",
        " 'Gender'])"
      ],
      "execution_count": 539,
      "outputs": []
    },
    {
      "cell_type": "code",
      "metadata": {
        "id": "pspF73eMLP4w"
      },
      "source": [
        "corr_matrix_2 = Traffic_Violations_4.corr()"
      ],
      "execution_count": 540,
      "outputs": []
    },
    {
      "cell_type": "code",
      "metadata": {
        "colab": {
          "base_uri": "https://localhost:8080/",
          "height": 541
        },
        "id": "78RN5pRHLP9N",
        "outputId": "8edbe5a0-ee09-464f-d00b-c6246bea7e96"
      },
      "source": [
        "corr_matrix_2"
      ],
      "execution_count": 541,
      "outputs": [
        {
          "output_type": "execute_result",
          "data": {
            "text/html": [
              "<div>\n",
              "<style scoped>\n",
              "    .dataframe tbody tr th:only-of-type {\n",
              "        vertical-align: middle;\n",
              "    }\n",
              "\n",
              "    .dataframe tbody tr th {\n",
              "        vertical-align: top;\n",
              "    }\n",
              "\n",
              "    .dataframe thead th {\n",
              "        text-align: right;\n",
              "    }\n",
              "</style>\n",
              "<table border=\"1\" class=\"dataframe\">\n",
              "  <thead>\n",
              "    <tr style=\"text-align: right;\">\n",
              "      <th></th>\n",
              "      <th>Belts_No</th>\n",
              "      <th>Belts_Yes</th>\n",
              "      <th>Personal Injury_No</th>\n",
              "      <th>Personal Injury_Yes</th>\n",
              "      <th>Property Damage_No</th>\n",
              "      <th>Property Damage_Yes</th>\n",
              "      <th>Fatal_No</th>\n",
              "      <th>Fatal_Yes</th>\n",
              "      <th>Commercial License_No</th>\n",
              "      <th>Commercial License_Yes</th>\n",
              "      <th>HAZMAT_No</th>\n",
              "      <th>HAZMAT_Yes</th>\n",
              "      <th>Commercial Vehicle_No</th>\n",
              "      <th>Commercial Vehicle_Yes</th>\n",
              "      <th>Alcohol_No</th>\n",
              "      <th>Alcohol_Yes</th>\n",
              "      <th>Work Zone_No</th>\n",
              "      <th>Work Zone_Yes</th>\n",
              "      <th>VehicleType_01 - Motorcycle</th>\n",
              "      <th>VehicleType_02 - Automobile</th>\n",
              "      <th>VehicleType_03 - Station Wagon</th>\n",
              "      <th>VehicleType_04 - Limousine</th>\n",
              "      <th>VehicleType_05 - Light Duty Truck</th>\n",
              "      <th>VehicleType_06 - Heavy Duty Truck</th>\n",
              "      <th>VehicleType_07 - Truck/Road Tractor</th>\n",
              "      <th>VehicleType_08 - Recreational Vehicle</th>\n",
              "      <th>VehicleType_09 - Farm Vehicle</th>\n",
              "      <th>VehicleType_10 - Transit Bus</th>\n",
              "      <th>VehicleType_11 - Cross Country Bus</th>\n",
              "      <th>VehicleType_12 - School Bus</th>\n",
              "      <th>VehicleType_13 - Ambulance</th>\n",
              "      <th>VehicleType_13 - Ambulance(Emerg)</th>\n",
              "      <th>VehicleType_14 - Ambulance(Non-Emerg)</th>\n",
              "      <th>VehicleType_15 - Fire Vehicle</th>\n",
              "      <th>VehicleType_15 - Fire(Emerg)</th>\n",
              "      <th>VehicleType_16 - Fire(Non-Emerg)</th>\n",
              "      <th>VehicleType_17 - Police(Emerg)</th>\n",
              "      <th>VehicleType_18 - Police Vehicle</th>\n",
              "      <th>VehicleType_18 - Police(Non-Emerg)</th>\n",
              "      <th>VehicleType_19 - Moped</th>\n",
              "      <th>...</th>\n",
              "      <th>VehicleType_27 - Farm Equipment</th>\n",
              "      <th>VehicleType_28 - Other</th>\n",
              "      <th>VehicleType_29 - Unknown</th>\n",
              "      <th>Color_BEIGE</th>\n",
              "      <th>Color_BLACK</th>\n",
              "      <th>Color_BLUE</th>\n",
              "      <th>Color_BLUE, DARK</th>\n",
              "      <th>Color_BLUE, LIGHT</th>\n",
              "      <th>Color_BRONZE</th>\n",
              "      <th>Color_BROWN</th>\n",
              "      <th>Color_CAMOUFLAGE</th>\n",
              "      <th>Color_CHROME</th>\n",
              "      <th>Color_COPPER</th>\n",
              "      <th>Color_CREAM</th>\n",
              "      <th>Color_GOLD</th>\n",
              "      <th>Color_GRAY</th>\n",
              "      <th>Color_GREEN</th>\n",
              "      <th>Color_GREEN, DK</th>\n",
              "      <th>Color_GREEN, LGT</th>\n",
              "      <th>Color_MAROON</th>\n",
              "      <th>Color_MULTICOLOR</th>\n",
              "      <th>Color_ORANGE</th>\n",
              "      <th>Color_PINK</th>\n",
              "      <th>Color_PURPLE</th>\n",
              "      <th>Color_RED</th>\n",
              "      <th>Color_SILVER</th>\n",
              "      <th>Color_TAN</th>\n",
              "      <th>Color_WHITE</th>\n",
              "      <th>Color_YELLOW</th>\n",
              "      <th>Contributed To Accident_No</th>\n",
              "      <th>Contributed To Accident_Yes</th>\n",
              "      <th>Race_ASIAN</th>\n",
              "      <th>Race_BLACK</th>\n",
              "      <th>Race_HISPANIC</th>\n",
              "      <th>Race_NATIVE AMERICAN</th>\n",
              "      <th>Race_OTHER</th>\n",
              "      <th>Race_WHITE</th>\n",
              "      <th>Gender_F</th>\n",
              "      <th>Gender_M</th>\n",
              "      <th>Gender_U</th>\n",
              "    </tr>\n",
              "  </thead>\n",
              "  <tbody>\n",
              "    <tr>\n",
              "      <th>Belts_No</th>\n",
              "      <td>1.000000</td>\n",
              "      <td>-1.000000</td>\n",
              "      <td>0.101729</td>\n",
              "      <td>-0.101729</td>\n",
              "      <td>0.079066</td>\n",
              "      <td>-0.079066</td>\n",
              "      <td>0.000120</td>\n",
              "      <td>-0.000120</td>\n",
              "      <td>-0.003363</td>\n",
              "      <td>0.003363</td>\n",
              "      <td>0.002024</td>\n",
              "      <td>-0.002024</td>\n",
              "      <td>-0.009909</td>\n",
              "      <td>0.009909</td>\n",
              "      <td>0.000283</td>\n",
              "      <td>-0.000283</td>\n",
              "      <td>0.001679</td>\n",
              "      <td>-0.001679</td>\n",
              "      <td>0.007375</td>\n",
              "      <td>0.021589</td>\n",
              "      <td>0.006016</td>\n",
              "      <td>-0.003036</td>\n",
              "      <td>-0.007579</td>\n",
              "      <td>0.008377</td>\n",
              "      <td>-0.001584</td>\n",
              "      <td>0.000687</td>\n",
              "      <td>0.001642</td>\n",
              "      <td>-0.004644</td>\n",
              "      <td>-0.000716</td>\n",
              "      <td>-0.004675</td>\n",
              "      <td>0.000168</td>\n",
              "      <td>0.000604</td>\n",
              "      <td>-0.000904</td>\n",
              "      <td>0.000290</td>\n",
              "      <td>-0.008287</td>\n",
              "      <td>0.000335</td>\n",
              "      <td>0.000335</td>\n",
              "      <td>0.000335</td>\n",
              "      <td>0.000556</td>\n",
              "      <td>0.005525</td>\n",
              "      <td>...</td>\n",
              "      <td>-0.001323</td>\n",
              "      <td>-0.058284</td>\n",
              "      <td>0.002534</td>\n",
              "      <td>0.011867</td>\n",
              "      <td>-0.001603</td>\n",
              "      <td>-0.006718</td>\n",
              "      <td>0.003164</td>\n",
              "      <td>0.001267</td>\n",
              "      <td>0.001478</td>\n",
              "      <td>-0.001288</td>\n",
              "      <td>0.000821</td>\n",
              "      <td>0.000871</td>\n",
              "      <td>0.002221</td>\n",
              "      <td>0.001502</td>\n",
              "      <td>-0.004601</td>\n",
              "      <td>-0.021653</td>\n",
              "      <td>0.000358</td>\n",
              "      <td>0.004513</td>\n",
              "      <td>0.002564</td>\n",
              "      <td>0.006450</td>\n",
              "      <td>0.003539</td>\n",
              "      <td>0.001374</td>\n",
              "      <td>0.000886</td>\n",
              "      <td>0.000904</td>\n",
              "      <td>-0.001195</td>\n",
              "      <td>0.012842</td>\n",
              "      <td>-0.000503</td>\n",
              "      <td>0.004437</td>\n",
              "      <td>0.000571</td>\n",
              "      <td>0.071367</td>\n",
              "      <td>-0.071367</td>\n",
              "      <td>-0.002360</td>\n",
              "      <td>0.012830</td>\n",
              "      <td>-0.001440</td>\n",
              "      <td>0.002769</td>\n",
              "      <td>-0.007098</td>\n",
              "      <td>-0.006980</td>\n",
              "      <td>-0.011876</td>\n",
              "      <td>0.011505</td>\n",
              "      <td>0.005066</td>\n",
              "    </tr>\n",
              "    <tr>\n",
              "      <th>Belts_Yes</th>\n",
              "      <td>-1.000000</td>\n",
              "      <td>1.000000</td>\n",
              "      <td>-0.101729</td>\n",
              "      <td>0.101729</td>\n",
              "      <td>-0.079066</td>\n",
              "      <td>0.079066</td>\n",
              "      <td>-0.000120</td>\n",
              "      <td>0.000120</td>\n",
              "      <td>0.003363</td>\n",
              "      <td>-0.003363</td>\n",
              "      <td>-0.002024</td>\n",
              "      <td>0.002024</td>\n",
              "      <td>0.009909</td>\n",
              "      <td>-0.009909</td>\n",
              "      <td>-0.000283</td>\n",
              "      <td>0.000283</td>\n",
              "      <td>-0.001679</td>\n",
              "      <td>0.001679</td>\n",
              "      <td>-0.007375</td>\n",
              "      <td>-0.021589</td>\n",
              "      <td>-0.006016</td>\n",
              "      <td>0.003036</td>\n",
              "      <td>0.007579</td>\n",
              "      <td>-0.008377</td>\n",
              "      <td>0.001584</td>\n",
              "      <td>-0.000687</td>\n",
              "      <td>-0.001642</td>\n",
              "      <td>0.004644</td>\n",
              "      <td>0.000716</td>\n",
              "      <td>0.004675</td>\n",
              "      <td>-0.000168</td>\n",
              "      <td>-0.000604</td>\n",
              "      <td>0.000904</td>\n",
              "      <td>-0.000290</td>\n",
              "      <td>0.008287</td>\n",
              "      <td>-0.000335</td>\n",
              "      <td>-0.000335</td>\n",
              "      <td>-0.000335</td>\n",
              "      <td>-0.000556</td>\n",
              "      <td>-0.005525</td>\n",
              "      <td>...</td>\n",
              "      <td>0.001323</td>\n",
              "      <td>0.058284</td>\n",
              "      <td>-0.002534</td>\n",
              "      <td>-0.011867</td>\n",
              "      <td>0.001603</td>\n",
              "      <td>0.006718</td>\n",
              "      <td>-0.003164</td>\n",
              "      <td>-0.001267</td>\n",
              "      <td>-0.001478</td>\n",
              "      <td>0.001288</td>\n",
              "      <td>-0.000821</td>\n",
              "      <td>-0.000871</td>\n",
              "      <td>-0.002221</td>\n",
              "      <td>-0.001502</td>\n",
              "      <td>0.004601</td>\n",
              "      <td>0.021653</td>\n",
              "      <td>-0.000358</td>\n",
              "      <td>-0.004513</td>\n",
              "      <td>-0.002564</td>\n",
              "      <td>-0.006450</td>\n",
              "      <td>-0.003539</td>\n",
              "      <td>-0.001374</td>\n",
              "      <td>-0.000886</td>\n",
              "      <td>-0.000904</td>\n",
              "      <td>0.001195</td>\n",
              "      <td>-0.012842</td>\n",
              "      <td>0.000503</td>\n",
              "      <td>-0.004437</td>\n",
              "      <td>-0.000571</td>\n",
              "      <td>-0.071367</td>\n",
              "      <td>0.071367</td>\n",
              "      <td>0.002360</td>\n",
              "      <td>-0.012830</td>\n",
              "      <td>0.001440</td>\n",
              "      <td>-0.002769</td>\n",
              "      <td>0.007098</td>\n",
              "      <td>0.006980</td>\n",
              "      <td>0.011876</td>\n",
              "      <td>-0.011505</td>\n",
              "      <td>-0.005066</td>\n",
              "    </tr>\n",
              "    <tr>\n",
              "      <th>Personal Injury_No</th>\n",
              "      <td>0.101729</td>\n",
              "      <td>-0.101729</td>\n",
              "      <td>1.000000</td>\n",
              "      <td>-1.000000</td>\n",
              "      <td>-0.015286</td>\n",
              "      <td>0.015286</td>\n",
              "      <td>-0.001599</td>\n",
              "      <td>0.001599</td>\n",
              "      <td>0.003319</td>\n",
              "      <td>-0.003319</td>\n",
              "      <td>-0.001074</td>\n",
              "      <td>0.001074</td>\n",
              "      <td>-0.000361</td>\n",
              "      <td>0.000361</td>\n",
              "      <td>0.012023</td>\n",
              "      <td>-0.012023</td>\n",
              "      <td>0.003740</td>\n",
              "      <td>-0.003740</td>\n",
              "      <td>-0.009597</td>\n",
              "      <td>0.010786</td>\n",
              "      <td>0.004380</td>\n",
              "      <td>-0.004774</td>\n",
              "      <td>-0.001707</td>\n",
              "      <td>-0.002470</td>\n",
              "      <td>-0.010649</td>\n",
              "      <td>-0.003010</td>\n",
              "      <td>0.000942</td>\n",
              "      <td>-0.015030</td>\n",
              "      <td>-0.000400</td>\n",
              "      <td>-0.006043</td>\n",
              "      <td>0.000096</td>\n",
              "      <td>0.000346</td>\n",
              "      <td>-0.012119</td>\n",
              "      <td>0.000166</td>\n",
              "      <td>-0.003475</td>\n",
              "      <td>0.000192</td>\n",
              "      <td>0.000192</td>\n",
              "      <td>0.000192</td>\n",
              "      <td>0.000319</td>\n",
              "      <td>-0.003397</td>\n",
              "      <td>...</td>\n",
              "      <td>-0.005795</td>\n",
              "      <td>-0.010421</td>\n",
              "      <td>-0.000050</td>\n",
              "      <td>0.000085</td>\n",
              "      <td>0.003292</td>\n",
              "      <td>-0.002247</td>\n",
              "      <td>-0.003000</td>\n",
              "      <td>-0.000660</td>\n",
              "      <td>0.001748</td>\n",
              "      <td>-0.000413</td>\n",
              "      <td>0.000471</td>\n",
              "      <td>0.000499</td>\n",
              "      <td>0.001955</td>\n",
              "      <td>0.001355</td>\n",
              "      <td>0.000893</td>\n",
              "      <td>0.000241</td>\n",
              "      <td>0.003281</td>\n",
              "      <td>-0.002803</td>\n",
              "      <td>0.002756</td>\n",
              "      <td>-0.006562</td>\n",
              "      <td>-0.013976</td>\n",
              "      <td>0.003417</td>\n",
              "      <td>0.001318</td>\n",
              "      <td>-0.004209</td>\n",
              "      <td>-0.002995</td>\n",
              "      <td>0.006056</td>\n",
              "      <td>-0.003620</td>\n",
              "      <td>-0.001575</td>\n",
              "      <td>-0.006036</td>\n",
              "      <td>0.339571</td>\n",
              "      <td>-0.339571</td>\n",
              "      <td>0.000396</td>\n",
              "      <td>0.015300</td>\n",
              "      <td>-0.013342</td>\n",
              "      <td>-0.001082</td>\n",
              "      <td>0.003486</td>\n",
              "      <td>-0.005172</td>\n",
              "      <td>0.001863</td>\n",
              "      <td>-0.002027</td>\n",
              "      <td>0.002329</td>\n",
              "    </tr>\n",
              "    <tr>\n",
              "      <th>Personal Injury_Yes</th>\n",
              "      <td>-0.101729</td>\n",
              "      <td>0.101729</td>\n",
              "      <td>-1.000000</td>\n",
              "      <td>1.000000</td>\n",
              "      <td>0.015286</td>\n",
              "      <td>-0.015286</td>\n",
              "      <td>0.001599</td>\n",
              "      <td>-0.001599</td>\n",
              "      <td>-0.003319</td>\n",
              "      <td>0.003319</td>\n",
              "      <td>0.001074</td>\n",
              "      <td>-0.001074</td>\n",
              "      <td>0.000361</td>\n",
              "      <td>-0.000361</td>\n",
              "      <td>-0.012023</td>\n",
              "      <td>0.012023</td>\n",
              "      <td>-0.003740</td>\n",
              "      <td>0.003740</td>\n",
              "      <td>0.009597</td>\n",
              "      <td>-0.010786</td>\n",
              "      <td>-0.004380</td>\n",
              "      <td>0.004774</td>\n",
              "      <td>0.001707</td>\n",
              "      <td>0.002470</td>\n",
              "      <td>0.010649</td>\n",
              "      <td>0.003010</td>\n",
              "      <td>-0.000942</td>\n",
              "      <td>0.015030</td>\n",
              "      <td>0.000400</td>\n",
              "      <td>0.006043</td>\n",
              "      <td>-0.000096</td>\n",
              "      <td>-0.000346</td>\n",
              "      <td>0.012119</td>\n",
              "      <td>-0.000166</td>\n",
              "      <td>0.003475</td>\n",
              "      <td>-0.000192</td>\n",
              "      <td>-0.000192</td>\n",
              "      <td>-0.000192</td>\n",
              "      <td>-0.000319</td>\n",
              "      <td>0.003397</td>\n",
              "      <td>...</td>\n",
              "      <td>0.005795</td>\n",
              "      <td>0.010421</td>\n",
              "      <td>0.000050</td>\n",
              "      <td>-0.000085</td>\n",
              "      <td>-0.003292</td>\n",
              "      <td>0.002247</td>\n",
              "      <td>0.003000</td>\n",
              "      <td>0.000660</td>\n",
              "      <td>-0.001748</td>\n",
              "      <td>0.000413</td>\n",
              "      <td>-0.000471</td>\n",
              "      <td>-0.000499</td>\n",
              "      <td>-0.001955</td>\n",
              "      <td>-0.001355</td>\n",
              "      <td>-0.000893</td>\n",
              "      <td>-0.000241</td>\n",
              "      <td>-0.003281</td>\n",
              "      <td>0.002803</td>\n",
              "      <td>-0.002756</td>\n",
              "      <td>0.006562</td>\n",
              "      <td>0.013976</td>\n",
              "      <td>-0.003417</td>\n",
              "      <td>-0.001318</td>\n",
              "      <td>0.004209</td>\n",
              "      <td>0.002995</td>\n",
              "      <td>-0.006056</td>\n",
              "      <td>0.003620</td>\n",
              "      <td>0.001575</td>\n",
              "      <td>0.006036</td>\n",
              "      <td>-0.339571</td>\n",
              "      <td>0.339571</td>\n",
              "      <td>-0.000396</td>\n",
              "      <td>-0.015300</td>\n",
              "      <td>0.013342</td>\n",
              "      <td>0.001082</td>\n",
              "      <td>-0.003486</td>\n",
              "      <td>0.005172</td>\n",
              "      <td>-0.001863</td>\n",
              "      <td>0.002027</td>\n",
              "      <td>-0.002329</td>\n",
              "    </tr>\n",
              "    <tr>\n",
              "      <th>Property Damage_No</th>\n",
              "      <td>0.079066</td>\n",
              "      <td>-0.079066</td>\n",
              "      <td>-0.015286</td>\n",
              "      <td>0.015286</td>\n",
              "      <td>1.000000</td>\n",
              "      <td>-1.000000</td>\n",
              "      <td>-0.002075</td>\n",
              "      <td>0.002075</td>\n",
              "      <td>0.013007</td>\n",
              "      <td>-0.013007</td>\n",
              "      <td>0.000327</td>\n",
              "      <td>-0.000327</td>\n",
              "      <td>-0.002201</td>\n",
              "      <td>0.002201</td>\n",
              "      <td>0.019434</td>\n",
              "      <td>-0.019434</td>\n",
              "      <td>0.003752</td>\n",
              "      <td>-0.003752</td>\n",
              "      <td>-0.005828</td>\n",
              "      <td>0.002189</td>\n",
              "      <td>0.006047</td>\n",
              "      <td>-0.000705</td>\n",
              "      <td>0.003280</td>\n",
              "      <td>-0.002335</td>\n",
              "      <td>-0.007493</td>\n",
              "      <td>0.001787</td>\n",
              "      <td>0.001221</td>\n",
              "      <td>-0.023872</td>\n",
              "      <td>-0.002533</td>\n",
              "      <td>-0.031890</td>\n",
              "      <td>0.000125</td>\n",
              "      <td>0.000449</td>\n",
              "      <td>0.000413</td>\n",
              "      <td>0.000216</td>\n",
              "      <td>0.000279</td>\n",
              "      <td>0.000249</td>\n",
              "      <td>0.000249</td>\n",
              "      <td>0.000249</td>\n",
              "      <td>0.000413</td>\n",
              "      <td>-0.005146</td>\n",
              "      <td>...</td>\n",
              "      <td>-0.002705</td>\n",
              "      <td>-0.001431</td>\n",
              "      <td>-0.000177</td>\n",
              "      <td>-0.000075</td>\n",
              "      <td>0.003279</td>\n",
              "      <td>-0.001720</td>\n",
              "      <td>-0.005268</td>\n",
              "      <td>-0.000254</td>\n",
              "      <td>-0.001340</td>\n",
              "      <td>0.001496</td>\n",
              "      <td>0.000611</td>\n",
              "      <td>0.000648</td>\n",
              "      <td>-0.002190</td>\n",
              "      <td>0.000282</td>\n",
              "      <td>0.000341</td>\n",
              "      <td>0.003209</td>\n",
              "      <td>-0.001768</td>\n",
              "      <td>-0.000531</td>\n",
              "      <td>0.000361</td>\n",
              "      <td>-0.003989</td>\n",
              "      <td>-0.003843</td>\n",
              "      <td>-0.002266</td>\n",
              "      <td>0.001709</td>\n",
              "      <td>-0.009059</td>\n",
              "      <td>-0.006264</td>\n",
              "      <td>0.006930</td>\n",
              "      <td>-0.001251</td>\n",
              "      <td>-0.000436</td>\n",
              "      <td>-0.004680</td>\n",
              "      <td>0.369513</td>\n",
              "      <td>-0.369513</td>\n",
              "      <td>0.003116</td>\n",
              "      <td>0.020918</td>\n",
              "      <td>-0.029760</td>\n",
              "      <td>-0.000162</td>\n",
              "      <td>0.008057</td>\n",
              "      <td>-0.000219</td>\n",
              "      <td>0.009754</td>\n",
              "      <td>-0.009973</td>\n",
              "      <td>0.003194</td>\n",
              "    </tr>\n",
              "    <tr>\n",
              "      <th>...</th>\n",
              "      <td>...</td>\n",
              "      <td>...</td>\n",
              "      <td>...</td>\n",
              "      <td>...</td>\n",
              "      <td>...</td>\n",
              "      <td>...</td>\n",
              "      <td>...</td>\n",
              "      <td>...</td>\n",
              "      <td>...</td>\n",
              "      <td>...</td>\n",
              "      <td>...</td>\n",
              "      <td>...</td>\n",
              "      <td>...</td>\n",
              "      <td>...</td>\n",
              "      <td>...</td>\n",
              "      <td>...</td>\n",
              "      <td>...</td>\n",
              "      <td>...</td>\n",
              "      <td>...</td>\n",
              "      <td>...</td>\n",
              "      <td>...</td>\n",
              "      <td>...</td>\n",
              "      <td>...</td>\n",
              "      <td>...</td>\n",
              "      <td>...</td>\n",
              "      <td>...</td>\n",
              "      <td>...</td>\n",
              "      <td>...</td>\n",
              "      <td>...</td>\n",
              "      <td>...</td>\n",
              "      <td>...</td>\n",
              "      <td>...</td>\n",
              "      <td>...</td>\n",
              "      <td>...</td>\n",
              "      <td>...</td>\n",
              "      <td>...</td>\n",
              "      <td>...</td>\n",
              "      <td>...</td>\n",
              "      <td>...</td>\n",
              "      <td>...</td>\n",
              "      <td>...</td>\n",
              "      <td>...</td>\n",
              "      <td>...</td>\n",
              "      <td>...</td>\n",
              "      <td>...</td>\n",
              "      <td>...</td>\n",
              "      <td>...</td>\n",
              "      <td>...</td>\n",
              "      <td>...</td>\n",
              "      <td>...</td>\n",
              "      <td>...</td>\n",
              "      <td>...</td>\n",
              "      <td>...</td>\n",
              "      <td>...</td>\n",
              "      <td>...</td>\n",
              "      <td>...</td>\n",
              "      <td>...</td>\n",
              "      <td>...</td>\n",
              "      <td>...</td>\n",
              "      <td>...</td>\n",
              "      <td>...</td>\n",
              "      <td>...</td>\n",
              "      <td>...</td>\n",
              "      <td>...</td>\n",
              "      <td>...</td>\n",
              "      <td>...</td>\n",
              "      <td>...</td>\n",
              "      <td>...</td>\n",
              "      <td>...</td>\n",
              "      <td>...</td>\n",
              "      <td>...</td>\n",
              "      <td>...</td>\n",
              "      <td>...</td>\n",
              "      <td>...</td>\n",
              "      <td>...</td>\n",
              "      <td>...</td>\n",
              "      <td>...</td>\n",
              "      <td>...</td>\n",
              "      <td>...</td>\n",
              "      <td>...</td>\n",
              "      <td>...</td>\n",
              "    </tr>\n",
              "    <tr>\n",
              "      <th>Race_OTHER</th>\n",
              "      <td>-0.007098</td>\n",
              "      <td>0.007098</td>\n",
              "      <td>0.003486</td>\n",
              "      <td>-0.003486</td>\n",
              "      <td>0.008057</td>\n",
              "      <td>-0.008057</td>\n",
              "      <td>0.002072</td>\n",
              "      <td>-0.002072</td>\n",
              "      <td>0.015469</td>\n",
              "      <td>-0.015469</td>\n",
              "      <td>0.002347</td>\n",
              "      <td>-0.002347</td>\n",
              "      <td>0.011545</td>\n",
              "      <td>-0.011545</td>\n",
              "      <td>0.004141</td>\n",
              "      <td>-0.004141</td>\n",
              "      <td>0.001542</td>\n",
              "      <td>-0.001542</td>\n",
              "      <td>-0.002347</td>\n",
              "      <td>0.016469</td>\n",
              "      <td>-0.004420</td>\n",
              "      <td>0.000010</td>\n",
              "      <td>-0.016987</td>\n",
              "      <td>-0.012639</td>\n",
              "      <td>-0.005253</td>\n",
              "      <td>0.000023</td>\n",
              "      <td>-0.000447</td>\n",
              "      <td>-0.000587</td>\n",
              "      <td>0.000039</td>\n",
              "      <td>0.000626</td>\n",
              "      <td>-0.000210</td>\n",
              "      <td>-0.000757</td>\n",
              "      <td>-0.000696</td>\n",
              "      <td>-0.000364</td>\n",
              "      <td>-0.000469</td>\n",
              "      <td>-0.000420</td>\n",
              "      <td>-0.000420</td>\n",
              "      <td>-0.000420</td>\n",
              "      <td>-0.000696</td>\n",
              "      <td>-0.005065</td>\n",
              "      <td>...</td>\n",
              "      <td>-0.000044</td>\n",
              "      <td>0.007752</td>\n",
              "      <td>0.002206</td>\n",
              "      <td>-0.002162</td>\n",
              "      <td>0.006831</td>\n",
              "      <td>0.000848</td>\n",
              "      <td>-0.001644</td>\n",
              "      <td>0.000407</td>\n",
              "      <td>0.000380</td>\n",
              "      <td>0.001607</td>\n",
              "      <td>-0.001028</td>\n",
              "      <td>0.000427</td>\n",
              "      <td>-0.001557</td>\n",
              "      <td>0.001152</td>\n",
              "      <td>-0.002085</td>\n",
              "      <td>0.012040</td>\n",
              "      <td>-0.006445</td>\n",
              "      <td>-0.002950</td>\n",
              "      <td>0.000696</td>\n",
              "      <td>0.000090</td>\n",
              "      <td>-0.002758</td>\n",
              "      <td>-0.000617</td>\n",
              "      <td>-0.000577</td>\n",
              "      <td>-0.002383</td>\n",
              "      <td>-0.008126</td>\n",
              "      <td>0.005875</td>\n",
              "      <td>-0.000675</td>\n",
              "      <td>-0.012117</td>\n",
              "      <td>0.000553</td>\n",
              "      <td>0.002912</td>\n",
              "      <td>-0.002912</td>\n",
              "      <td>-0.059105</td>\n",
              "      <td>-0.160455</td>\n",
              "      <td>-0.122498</td>\n",
              "      <td>-0.011340</td>\n",
              "      <td>1.000000</td>\n",
              "      <td>-0.178274</td>\n",
              "      <td>-0.004765</td>\n",
              "      <td>-0.004628</td>\n",
              "      <td>0.131869</td>\n",
              "    </tr>\n",
              "    <tr>\n",
              "      <th>Race_WHITE</th>\n",
              "      <td>-0.006980</td>\n",
              "      <td>0.006980</td>\n",
              "      <td>-0.005172</td>\n",
              "      <td>0.005172</td>\n",
              "      <td>-0.000219</td>\n",
              "      <td>0.000219</td>\n",
              "      <td>-0.001435</td>\n",
              "      <td>0.001435</td>\n",
              "      <td>0.034374</td>\n",
              "      <td>-0.034374</td>\n",
              "      <td>-0.000306</td>\n",
              "      <td>0.000306</td>\n",
              "      <td>0.008028</td>\n",
              "      <td>-0.008028</td>\n",
              "      <td>-0.012431</td>\n",
              "      <td>0.012431</td>\n",
              "      <td>0.000845</td>\n",
              "      <td>-0.000845</td>\n",
              "      <td>-0.001059</td>\n",
              "      <td>-0.057033</td>\n",
              "      <td>0.025075</td>\n",
              "      <td>0.000749</td>\n",
              "      <td>0.053198</td>\n",
              "      <td>0.001727</td>\n",
              "      <td>0.002822</td>\n",
              "      <td>0.021055</td>\n",
              "      <td>0.003259</td>\n",
              "      <td>-0.008206</td>\n",
              "      <td>0.000034</td>\n",
              "      <td>-0.001948</td>\n",
              "      <td>0.001177</td>\n",
              "      <td>-0.001889</td>\n",
              "      <td>0.002238</td>\n",
              "      <td>-0.001153</td>\n",
              "      <td>-0.000664</td>\n",
              "      <td>-0.001331</td>\n",
              "      <td>0.001433</td>\n",
              "      <td>-0.001331</td>\n",
              "      <td>0.001126</td>\n",
              "      <td>-0.001942</td>\n",
              "      <td>...</td>\n",
              "      <td>0.001566</td>\n",
              "      <td>0.014809</td>\n",
              "      <td>-0.002383</td>\n",
              "      <td>-0.007383</td>\n",
              "      <td>-0.004447</td>\n",
              "      <td>0.027046</td>\n",
              "      <td>0.011407</td>\n",
              "      <td>0.011188</td>\n",
              "      <td>0.003270</td>\n",
              "      <td>0.004033</td>\n",
              "      <td>0.002382</td>\n",
              "      <td>0.000443</td>\n",
              "      <td>0.002670</td>\n",
              "      <td>0.000618</td>\n",
              "      <td>-0.021462</td>\n",
              "      <td>0.021343</td>\n",
              "      <td>-0.009537</td>\n",
              "      <td>-0.008623</td>\n",
              "      <td>0.007487</td>\n",
              "      <td>0.002359</td>\n",
              "      <td>-0.000563</td>\n",
              "      <td>0.004577</td>\n",
              "      <td>-0.001196</td>\n",
              "      <td>-0.002408</td>\n",
              "      <td>-0.000192</td>\n",
              "      <td>-0.011607</td>\n",
              "      <td>-0.012284</td>\n",
              "      <td>-0.008659</td>\n",
              "      <td>0.005763</td>\n",
              "      <td>-0.009359</td>\n",
              "      <td>0.009359</td>\n",
              "      <td>-0.187440</td>\n",
              "      <td>-0.508852</td>\n",
              "      <td>-0.388476</td>\n",
              "      <td>-0.035963</td>\n",
              "      <td>-0.178274</td>\n",
              "      <td>1.000000</td>\n",
              "      <td>0.069323</td>\n",
              "      <td>-0.067569</td>\n",
              "      <td>-0.023787</td>\n",
              "    </tr>\n",
              "    <tr>\n",
              "      <th>Gender_F</th>\n",
              "      <td>-0.011876</td>\n",
              "      <td>0.011876</td>\n",
              "      <td>0.001863</td>\n",
              "      <td>-0.001863</td>\n",
              "      <td>0.009754</td>\n",
              "      <td>-0.009754</td>\n",
              "      <td>-0.001802</td>\n",
              "      <td>0.001802</td>\n",
              "      <td>0.080534</td>\n",
              "      <td>-0.080534</td>\n",
              "      <td>0.004062</td>\n",
              "      <td>-0.004062</td>\n",
              "      <td>0.047742</td>\n",
              "      <td>-0.047742</td>\n",
              "      <td>0.004796</td>\n",
              "      <td>-0.004796</td>\n",
              "      <td>0.002424</td>\n",
              "      <td>-0.002424</td>\n",
              "      <td>-0.023871</td>\n",
              "      <td>0.056610</td>\n",
              "      <td>0.030407</td>\n",
              "      <td>-0.006855</td>\n",
              "      <td>-0.057628</td>\n",
              "      <td>-0.063872</td>\n",
              "      <td>-0.019407</td>\n",
              "      <td>0.019327</td>\n",
              "      <td>0.000660</td>\n",
              "      <td>-0.006396</td>\n",
              "      <td>-0.003833</td>\n",
              "      <td>0.002625</td>\n",
              "      <td>-0.000620</td>\n",
              "      <td>-0.001189</td>\n",
              "      <td>0.000218</td>\n",
              "      <td>-0.001073</td>\n",
              "      <td>-0.001385</td>\n",
              "      <td>-0.000297</td>\n",
              "      <td>-0.001239</td>\n",
              "      <td>-0.001239</td>\n",
              "      <td>-0.001487</td>\n",
              "      <td>-0.017380</td>\n",
              "      <td>...</td>\n",
              "      <td>-0.000301</td>\n",
              "      <td>0.007752</td>\n",
              "      <td>-0.001116</td>\n",
              "      <td>0.005336</td>\n",
              "      <td>-0.013455</td>\n",
              "      <td>0.006518</td>\n",
              "      <td>0.003661</td>\n",
              "      <td>0.017152</td>\n",
              "      <td>0.006077</td>\n",
              "      <td>0.004216</td>\n",
              "      <td>0.001580</td>\n",
              "      <td>0.000769</td>\n",
              "      <td>0.002211</td>\n",
              "      <td>0.005980</td>\n",
              "      <td>0.006234</td>\n",
              "      <td>0.030222</td>\n",
              "      <td>-0.018671</td>\n",
              "      <td>-0.011374</td>\n",
              "      <td>0.009919</td>\n",
              "      <td>0.004609</td>\n",
              "      <td>-0.013198</td>\n",
              "      <td>-0.005749</td>\n",
              "      <td>0.003736</td>\n",
              "      <td>0.001016</td>\n",
              "      <td>-0.002723</td>\n",
              "      <td>0.026174</td>\n",
              "      <td>0.005690</td>\n",
              "      <td>-0.044053</td>\n",
              "      <td>-0.015918</td>\n",
              "      <td>0.002480</td>\n",
              "      <td>-0.002480</td>\n",
              "      <td>0.030627</td>\n",
              "      <td>0.012845</td>\n",
              "      <td>-0.111149</td>\n",
              "      <td>-0.001113</td>\n",
              "      <td>-0.004765</td>\n",
              "      <td>0.069323</td>\n",
              "      <td>1.000000</td>\n",
              "      <td>-0.997463</td>\n",
              "      <td>-0.023458</td>\n",
              "    </tr>\n",
              "    <tr>\n",
              "      <th>Gender_M</th>\n",
              "      <td>0.011505</td>\n",
              "      <td>-0.011505</td>\n",
              "      <td>-0.002027</td>\n",
              "      <td>0.002027</td>\n",
              "      <td>-0.009973</td>\n",
              "      <td>0.009973</td>\n",
              "      <td>0.001766</td>\n",
              "      <td>-0.001766</td>\n",
              "      <td>-0.080320</td>\n",
              "      <td>0.080320</td>\n",
              "      <td>-0.004082</td>\n",
              "      <td>0.004082</td>\n",
              "      <td>-0.047779</td>\n",
              "      <td>0.047779</td>\n",
              "      <td>-0.004892</td>\n",
              "      <td>0.004892</td>\n",
              "      <td>-0.002455</td>\n",
              "      <td>0.002455</td>\n",
              "      <td>0.024049</td>\n",
              "      <td>-0.055776</td>\n",
              "      <td>-0.030580</td>\n",
              "      <td>0.006840</td>\n",
              "      <td>0.056544</td>\n",
              "      <td>0.063722</td>\n",
              "      <td>0.019408</td>\n",
              "      <td>-0.019203</td>\n",
              "      <td>-0.000639</td>\n",
              "      <td>0.006344</td>\n",
              "      <td>0.003845</td>\n",
              "      <td>-0.002713</td>\n",
              "      <td>0.000621</td>\n",
              "      <td>0.001195</td>\n",
              "      <td>-0.000210</td>\n",
              "      <td>0.001076</td>\n",
              "      <td>0.001389</td>\n",
              "      <td>0.000301</td>\n",
              "      <td>0.001242</td>\n",
              "      <td>0.001242</td>\n",
              "      <td>0.001492</td>\n",
              "      <td>0.017443</td>\n",
              "      <td>...</td>\n",
              "      <td>0.000322</td>\n",
              "      <td>-0.007744</td>\n",
              "      <td>0.001154</td>\n",
              "      <td>-0.005133</td>\n",
              "      <td>0.013614</td>\n",
              "      <td>-0.006281</td>\n",
              "      <td>-0.003884</td>\n",
              "      <td>-0.017060</td>\n",
              "      <td>-0.006130</td>\n",
              "      <td>-0.004534</td>\n",
              "      <td>-0.001568</td>\n",
              "      <td>-0.000758</td>\n",
              "      <td>-0.002166</td>\n",
              "      <td>-0.006109</td>\n",
              "      <td>-0.006528</td>\n",
              "      <td>-0.030151</td>\n",
              "      <td>0.018823</td>\n",
              "      <td>0.010942</td>\n",
              "      <td>-0.009971</td>\n",
              "      <td>-0.004806</td>\n",
              "      <td>0.013195</td>\n",
              "      <td>0.005494</td>\n",
              "      <td>-0.003704</td>\n",
              "      <td>-0.001059</td>\n",
              "      <td>0.002703</td>\n",
              "      <td>-0.025809</td>\n",
              "      <td>-0.005485</td>\n",
              "      <td>0.043590</td>\n",
              "      <td>0.015836</td>\n",
              "      <td>-0.002570</td>\n",
              "      <td>0.002570</td>\n",
              "      <td>-0.030062</td>\n",
              "      <td>-0.011266</td>\n",
              "      <td>0.112130</td>\n",
              "      <td>0.001121</td>\n",
              "      <td>-0.004628</td>\n",
              "      <td>-0.067569</td>\n",
              "      <td>-0.997463</td>\n",
              "      <td>1.000000</td>\n",
              "      <td>-0.047762</td>\n",
              "    </tr>\n",
              "    <tr>\n",
              "      <th>Gender_U</th>\n",
              "      <td>0.005066</td>\n",
              "      <td>-0.005066</td>\n",
              "      <td>0.002329</td>\n",
              "      <td>-0.002329</td>\n",
              "      <td>0.003194</td>\n",
              "      <td>-0.003194</td>\n",
              "      <td>0.000494</td>\n",
              "      <td>-0.000494</td>\n",
              "      <td>-0.002033</td>\n",
              "      <td>0.002033</td>\n",
              "      <td>0.000332</td>\n",
              "      <td>-0.000332</td>\n",
              "      <td>0.001103</td>\n",
              "      <td>-0.001103</td>\n",
              "      <td>0.001394</td>\n",
              "      <td>-0.001394</td>\n",
              "      <td>0.000466</td>\n",
              "      <td>-0.000466</td>\n",
              "      <td>-0.002784</td>\n",
              "      <td>-0.011019</td>\n",
              "      <td>0.002803</td>\n",
              "      <td>0.000131</td>\n",
              "      <td>0.014523</td>\n",
              "      <td>0.001327</td>\n",
              "      <td>-0.000248</td>\n",
              "      <td>-0.001507</td>\n",
              "      <td>-0.000291</td>\n",
              "      <td>0.000651</td>\n",
              "      <td>-0.000220</td>\n",
              "      <td>0.001266</td>\n",
              "      <td>-0.000030</td>\n",
              "      <td>-0.000107</td>\n",
              "      <td>-0.000098</td>\n",
              "      <td>-0.000051</td>\n",
              "      <td>-0.000066</td>\n",
              "      <td>-0.000059</td>\n",
              "      <td>-0.000059</td>\n",
              "      <td>-0.000059</td>\n",
              "      <td>-0.000098</td>\n",
              "      <td>-0.001094</td>\n",
              "      <td>...</td>\n",
              "      <td>-0.000291</td>\n",
              "      <td>-0.000008</td>\n",
              "      <td>-0.000542</td>\n",
              "      <td>-0.002793</td>\n",
              "      <td>-0.002394</td>\n",
              "      <td>-0.003247</td>\n",
              "      <td>0.003178</td>\n",
              "      <td>-0.001080</td>\n",
              "      <td>0.000814</td>\n",
              "      <td>0.004524</td>\n",
              "      <td>-0.000145</td>\n",
              "      <td>-0.000154</td>\n",
              "      <td>-0.000604</td>\n",
              "      <td>0.001884</td>\n",
              "      <td>0.004212</td>\n",
              "      <td>-0.000620</td>\n",
              "      <td>-0.002371</td>\n",
              "      <td>0.005922</td>\n",
              "      <td>0.000854</td>\n",
              "      <td>0.002826</td>\n",
              "      <td>-0.000121</td>\n",
              "      <td>0.003503</td>\n",
              "      <td>-0.000407</td>\n",
              "      <td>0.000615</td>\n",
              "      <td>0.000247</td>\n",
              "      <td>-0.004800</td>\n",
              "      <td>-0.002815</td>\n",
              "      <td>0.005975</td>\n",
              "      <td>0.000953</td>\n",
              "      <td>0.001299</td>\n",
              "      <td>-0.001299</td>\n",
              "      <td>-0.007557</td>\n",
              "      <td>-0.022026</td>\n",
              "      <td>-0.015135</td>\n",
              "      <td>-0.000132</td>\n",
              "      <td>0.131869</td>\n",
              "      <td>-0.023787</td>\n",
              "      <td>-0.023458</td>\n",
              "      <td>-0.047762</td>\n",
              "      <td>1.000000</td>\n",
              "    </tr>\n",
              "  </tbody>\n",
              "</table>\n",
              "<p>87 rows × 87 columns</p>\n",
              "</div>"
            ],
            "text/plain": [
              "                     Belts_No  Belts_Yes  ...  Gender_M  Gender_U\n",
              "Belts_No             1.000000  -1.000000  ...  0.011505  0.005066\n",
              "Belts_Yes           -1.000000   1.000000  ... -0.011505 -0.005066\n",
              "Personal Injury_No   0.101729  -0.101729  ... -0.002027  0.002329\n",
              "Personal Injury_Yes -0.101729   0.101729  ...  0.002027 -0.002329\n",
              "Property Damage_No   0.079066  -0.079066  ... -0.009973  0.003194\n",
              "...                       ...        ...  ...       ...       ...\n",
              "Race_OTHER          -0.007098   0.007098  ... -0.004628  0.131869\n",
              "Race_WHITE          -0.006980   0.006980  ... -0.067569 -0.023787\n",
              "Gender_F            -0.011876   0.011876  ... -0.997463 -0.023458\n",
              "Gender_M             0.011505  -0.011505  ...  1.000000 -0.047762\n",
              "Gender_U             0.005066  -0.005066  ... -0.047762  1.000000\n",
              "\n",
              "[87 rows x 87 columns]"
            ]
          },
          "metadata": {},
          "execution_count": 541
        }
      ]
    },
    {
      "cell_type": "code",
      "metadata": {
        "colab": {
          "base_uri": "https://localhost:8080/"
        },
        "id": "kZcW-1_iLQHJ",
        "outputId": "4d7b069a-f0d4-4ee1-97a5-2f38874f9b98"
      },
      "source": [
        "X_2 = Traffic_Violations_4.drop(columns= ['Violation Type'])\n",
        "\n",
        "\n",
        "y_2 = Traffic_Violations_4['Violation Type']\n",
        "\n",
        "X_train_2, X_test_2, y_train_2, y_test_2 = train_test_split(X_2, y_2, test_size=0.2, random_state=1)\n",
        "\n",
        "clf = tree.DecisionTreeClassifier(max_depth=5)\n",
        "clf.fit(X_train_2,y_train_2)"
      ],
      "execution_count": 542,
      "outputs": [
        {
          "output_type": "execute_result",
          "data": {
            "text/plain": [
              "DecisionTreeClassifier(ccp_alpha=0.0, class_weight=None, criterion='gini',\n",
              "                       max_depth=5, max_features=None, max_leaf_nodes=None,\n",
              "                       min_impurity_decrease=0.0, min_impurity_split=None,\n",
              "                       min_samples_leaf=1, min_samples_split=2,\n",
              "                       min_weight_fraction_leaf=0.0, presort='deprecated',\n",
              "                       random_state=None, splitter='best')"
            ]
          },
          "metadata": {},
          "execution_count": 542
        }
      ]
    },
    {
      "cell_type": "code",
      "metadata": {
        "colab": {
          "base_uri": "https://localhost:8080/"
        },
        "id": "TBDM4f3fLQbc",
        "outputId": "b6c11e99-6c90-484e-e497-caa71fd81c4e"
      },
      "source": [
        "clf.score(X_train_2,y_train_2)"
      ],
      "execution_count": 543,
      "outputs": [
        {
          "output_type": "execute_result",
          "data": {
            "text/plain": [
              "0.5367902787123036"
            ]
          },
          "metadata": {},
          "execution_count": 543
        }
      ]
    },
    {
      "cell_type": "code",
      "metadata": {
        "id": "2BAL8MuPFSoj"
      },
      "source": [
        ""
      ],
      "execution_count": 543,
      "outputs": []
    }
  ]
}